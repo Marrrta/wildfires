{
 "cells": [
  {
   "cell_type": "markdown",
   "id": "breathing-assault",
   "metadata": {},
   "source": [
    "# Amazon S3 Bucket Connector Reference Guide"
   ]
  },
  {
   "cell_type": "markdown",
   "id": "automated-orchestra",
   "metadata": {},
   "source": [
    "This guide assumes you have followed instructions here:  \n",
    "    `https://aws.amazon.com/cli/`   \n",
    "and here:    \n",
    "    `https://boto3.amazonaws.com/v1/documentation/api/latest/guide/credentials.html`  \n",
    "To set up the Amazon CLI on your machine and set up our shared creds on your home directory."
   ]
  },
  {
   "cell_type": "markdown",
   "id": "swiss-electricity",
   "metadata": {},
   "source": [
    "### command line - install boto3"
   ]
  },
  {
   "cell_type": "code",
   "execution_count": null,
   "id": "attached-heavy",
   "metadata": {},
   "outputs": [],
   "source": [
    "# In your command line, install boto3\n",
    "$ pip install boto3"
   ]
  },
  {
   "cell_type": "markdown",
   "id": "aggregate-meter",
   "metadata": {},
   "source": [
    "### Import boto3 to the notebook you are using it in"
   ]
  },
  {
   "cell_type": "code",
   "execution_count": 1,
   "id": "affected-limit",
   "metadata": {},
   "outputs": [],
   "source": [
    "# import boto3\n",
    "import boto3"
   ]
  },
  {
   "cell_type": "markdown",
   "id": "revised-tension",
   "metadata": {},
   "source": [
    "#### Set up Boto3 with Amazon AWS S3 in your notebook.\n",
    "You will need just the top line of the following code (sans #notes)"
   ]
  },
  {
   "cell_type": "code",
   "execution_count": 2,
   "id": "decimal-zealand",
   "metadata": {},
   "outputs": [],
   "source": [
    "# Set S3 to use AWS s3\n",
    "s3 = boto3.resource('s3')"
   ]
  },
  {
   "cell_type": "markdown",
   "id": "sustained-growth",
   "metadata": {},
   "source": [
    "####  *  Optional if you want to see the buckets and test that your connection was successful  * \n",
    "In this example you will see all of my buckets here because permissions were weird for my rconnector user"
   ]
  },
  {
   "cell_type": "code",
   "execution_count": 3,
   "id": "connected-remains",
   "metadata": {},
   "outputs": [
    {
     "name": "stdout",
     "output_type": "stream",
     "text": [
      "Existing buckets:\n",
      "  git-to-amazon-s3-keybucket-1uuivb4f4dj7q\n",
      "  git-to-amazon-s3-lambdazipsbucket-zzvq775qyhgl\n",
      "  git-to-amazon-s3-outputbucket-rorni8oehk4l\n",
      "  medicinejardesign.com\n",
      "  meteorology-fire-impact\n",
      "  www.medicinejardesign.com\n"
     ]
    }
   ],
   "source": [
    "# Retrieve the list of existing buckets\n",
    "s3 = boto3.client('s3')\n",
    "response = s3.list_buckets()\n",
    "\n",
    "# Output the bucket names\n",
    "print('Existing buckets:')\n",
    "for bucket in response['Buckets']:\n",
    "    print(f'  {bucket[\"Name\"]}')"
   ]
  },
  {
   "cell_type": "markdown",
   "id": "integral-bunch",
   "metadata": {},
   "source": [
    "### Download files from AWS using Bucket, Object, Filename"
   ]
  },
  {
   "cell_type": "markdown",
   "id": "cathedral-drawing",
   "metadata": {},
   "source": [
    "#### Adding this because I wasn't quite sure it was asking for when I first filled the input\n",
    "* **Bucket Name** = bucket name (this one's easy)\n",
    "* **Object Name** = path/to/file/within/bucket/including_file_name.csv (path does **NOT** include bucket name)\n",
    "* **File_Name** = file_name (does not include path) "
   ]
  },
  {
   "cell_type": "markdown",
   "id": "elect-freedom",
   "metadata": {},
   "source": [
    "#### Download a new file\n",
    "`s3.download_file('BUCKET_NAME', 'OBJECT_NAME', 'FILE_NAME')`"
   ]
  },
  {
   "cell_type": "code",
   "execution_count": null,
   "id": "worst-noise",
   "metadata": {},
   "outputs": [],
   "source": [
    "# Example : \n",
    "s3.download_file('git-to-amazon-s3-outputbucket-rorni8oehk4l', \n",
    "                'soulclimberchick/meteorology-fire-impact/data-files/cell_phone_churn.csv', \n",
    "                'cell_phone_churn.csv')"
   ]
  },
  {
   "cell_type": "markdown",
   "id": "sporting-commitment",
   "metadata": {},
   "source": [
    "#### Uploading (saving) files from the notebook to the AWS bucket"
   ]
  },
  {
   "cell_type": "markdown",
   "id": "martial-arthritis",
   "metadata": {},
   "source": [
    "#### Upload a new file"
   ]
  },
  {
   "cell_type": "markdown",
   "id": "tutorial-restoration",
   "metadata": {},
   "source": [
    "`s3.upload_file(\n",
    "    'FILE_NAME', 'BUCKET_NAME', 'OBJECT_NAME'\n",
    ")`"
   ]
  },
  {
   "cell_type": "code",
   "execution_count": 5,
   "id": "lovely-broad",
   "metadata": {},
   "outputs": [],
   "source": [
    "# - example:\n",
    "s3.upload_file(\n",
    "    'cell_phone_churn.csv', 'git-to-amazon-s3-outputbucket-rorni8oehk4l', 'soulclimberchick/meteorology-fire-impact/data-files/cell_phone_churn.csv',\n",
    ")"
   ]
  }
 ],
 "metadata": {
  "kernelspec": {
   "display_name": "Python 3",
   "language": "python",
   "name": "python3"
  },
  "language_info": {
   "codemirror_mode": {
    "name": "ipython",
    "version": 3
   },
   "file_extension": ".py",
   "mimetype": "text/x-python",
   "name": "python",
   "nbconvert_exporter": "python",
   "pygments_lexer": "ipython3",
   "version": "3.8.5"
  }
 },
 "nbformat": 4,
 "nbformat_minor": 5
}
