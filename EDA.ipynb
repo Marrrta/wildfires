{
 "cells": [
  {
   "cell_type": "markdown",
   "metadata": {},
   "source": [
    "# EDA"
   ]
  },
  {
   "cell_type": "markdown",
   "metadata": {},
   "source": [
    "## Marta ---------------------------------------------------------"
   ]
  },
  {
   "cell_type": "markdown",
   "metadata": {},
   "source": [
    "put all of your code between here and the next person's name only"
   ]
  },
  {
   "cell_type": "code",
   "execution_count": null,
   "metadata": {},
   "outputs": [],
   "source": []
  },
  {
   "cell_type": "code",
   "execution_count": null,
   "metadata": {},
   "outputs": [],
   "source": []
  },
  {
   "cell_type": "code",
   "execution_count": null,
   "metadata": {},
   "outputs": [],
   "source": []
  },
  {
   "cell_type": "markdown",
   "metadata": {},
   "source": [
    "## Jesse ---------------------------------------------------------"
   ]
  },
  {
   "cell_type": "markdown",
   "metadata": {},
   "source": [
    "put all of your code between here and the next person's name only"
   ]
  },
  {
   "cell_type": "code",
   "execution_count": null,
   "metadata": {},
   "outputs": [],
   "source": []
  },
  {
   "cell_type": "code",
   "execution_count": null,
   "metadata": {},
   "outputs": [],
   "source": []
  },
  {
   "cell_type": "code",
   "execution_count": null,
   "metadata": {},
   "outputs": [],
   "source": []
  },
  {
   "cell_type": "markdown",
   "metadata": {},
   "source": [
    "## CM ---------------------------------------------------------"
   ]
  },
  {
   "cell_type": "markdown",
   "metadata": {},
   "source": [
    "put all of your code between here and the next person's name only"
   ]
  },
  {
   "cell_type": "code",
   "execution_count": 1,
   "metadata": {},
   "outputs": [],
   "source": [
    "import pandas as pd\n",
    "import numpy as np\n",
    "import matplotlib.pyplot as plt\n",
    "import seaborn as sns"
   ]
  },
  {
   "cell_type": "code",
   "execution_count": 2,
   "metadata": {},
   "outputs": [],
   "source": [
    "fire_df = pd.read_pickle('./data/fire_pickle.pkl')"
   ]
  },
  {
   "cell_type": "code",
   "execution_count": 3,
   "metadata": {},
   "outputs": [
    {
     "data": {
      "text/html": [
       "<div>\n",
       "<style scoped>\n",
       "    .dataframe tbody tr th:only-of-type {\n",
       "        vertical-align: middle;\n",
       "    }\n",
       "\n",
       "    .dataframe tbody tr th {\n",
       "        vertical-align: top;\n",
       "    }\n",
       "\n",
       "    .dataframe thead th {\n",
       "        text-align: right;\n",
       "    }\n",
       "</style>\n",
       "<table border=\"1\" class=\"dataframe\">\n",
       "  <thead>\n",
       "    <tr style=\"text-align: right;\">\n",
       "      <th></th>\n",
       "      <th>FIRE_CODE</th>\n",
       "      <th>FIRE_NAME</th>\n",
       "      <th>COMPLEX_NAME</th>\n",
       "      <th>FIRE_YEAR</th>\n",
       "      <th>DISCOVERY_DATE</th>\n",
       "      <th>DISCOVERY_DOY</th>\n",
       "      <th>DISCOVERY_TIME</th>\n",
       "      <th>STAT_CAUSE_CODE</th>\n",
       "      <th>STAT_CAUSE_DESCR</th>\n",
       "      <th>CONT_DATE</th>\n",
       "      <th>CONT_DOY</th>\n",
       "      <th>CONT_TIME</th>\n",
       "      <th>FIRE_SIZE</th>\n",
       "      <th>FIRE_SIZE_CLASS</th>\n",
       "      <th>LATITUDE</th>\n",
       "      <th>LONGITUDE</th>\n",
       "      <th>STATE</th>\n",
       "      <th>COUNTY</th>\n",
       "      <th>FIPS_CODE</th>\n",
       "      <th>FIPS_NAME</th>\n",
       "    </tr>\n",
       "  </thead>\n",
       "  <tbody>\n",
       "    <tr>\n",
       "      <th>0</th>\n",
       "      <td>BJ8K</td>\n",
       "      <td>FOUNTAIN</td>\n",
       "      <td>None</td>\n",
       "      <td>2005</td>\n",
       "      <td>2453403.5</td>\n",
       "      <td>33</td>\n",
       "      <td>1300</td>\n",
       "      <td>9.0</td>\n",
       "      <td>Miscellaneous</td>\n",
       "      <td>2453403.5</td>\n",
       "      <td>33.0</td>\n",
       "      <td>1730</td>\n",
       "      <td>0.10</td>\n",
       "      <td>A</td>\n",
       "      <td>40.036944</td>\n",
       "      <td>-121.005833</td>\n",
       "      <td>CA</td>\n",
       "      <td>63</td>\n",
       "      <td>063</td>\n",
       "      <td>Plumas</td>\n",
       "    </tr>\n",
       "    <tr>\n",
       "      <th>1</th>\n",
       "      <td>AAC0</td>\n",
       "      <td>PIGEON</td>\n",
       "      <td>None</td>\n",
       "      <td>2004</td>\n",
       "      <td>2453137.5</td>\n",
       "      <td>133</td>\n",
       "      <td>0845</td>\n",
       "      <td>1.0</td>\n",
       "      <td>Lightning</td>\n",
       "      <td>2453137.5</td>\n",
       "      <td>133.0</td>\n",
       "      <td>1530</td>\n",
       "      <td>0.25</td>\n",
       "      <td>A</td>\n",
       "      <td>38.933056</td>\n",
       "      <td>-120.404444</td>\n",
       "      <td>CA</td>\n",
       "      <td>61</td>\n",
       "      <td>061</td>\n",
       "      <td>Placer</td>\n",
       "    </tr>\n",
       "    <tr>\n",
       "      <th>2</th>\n",
       "      <td>A32W</td>\n",
       "      <td>SLACK</td>\n",
       "      <td>None</td>\n",
       "      <td>2004</td>\n",
       "      <td>2453156.5</td>\n",
       "      <td>152</td>\n",
       "      <td>1921</td>\n",
       "      <td>5.0</td>\n",
       "      <td>Debris Burning</td>\n",
       "      <td>2453156.5</td>\n",
       "      <td>152.0</td>\n",
       "      <td>2024</td>\n",
       "      <td>0.10</td>\n",
       "      <td>A</td>\n",
       "      <td>38.984167</td>\n",
       "      <td>-120.735556</td>\n",
       "      <td>CA</td>\n",
       "      <td>17</td>\n",
       "      <td>017</td>\n",
       "      <td>El Dorado</td>\n",
       "    </tr>\n",
       "    <tr>\n",
       "      <th>3</th>\n",
       "      <td>None</td>\n",
       "      <td>DEER</td>\n",
       "      <td>None</td>\n",
       "      <td>2004</td>\n",
       "      <td>2453184.5</td>\n",
       "      <td>180</td>\n",
       "      <td>1600</td>\n",
       "      <td>1.0</td>\n",
       "      <td>Lightning</td>\n",
       "      <td>2453189.5</td>\n",
       "      <td>185.0</td>\n",
       "      <td>1400</td>\n",
       "      <td>0.10</td>\n",
       "      <td>A</td>\n",
       "      <td>38.559167</td>\n",
       "      <td>-119.913333</td>\n",
       "      <td>CA</td>\n",
       "      <td>3</td>\n",
       "      <td>003</td>\n",
       "      <td>Alpine</td>\n",
       "    </tr>\n",
       "    <tr>\n",
       "      <th>4</th>\n",
       "      <td>None</td>\n",
       "      <td>STEVENOT</td>\n",
       "      <td>None</td>\n",
       "      <td>2004</td>\n",
       "      <td>2453184.5</td>\n",
       "      <td>180</td>\n",
       "      <td>1600</td>\n",
       "      <td>1.0</td>\n",
       "      <td>Lightning</td>\n",
       "      <td>2453189.5</td>\n",
       "      <td>185.0</td>\n",
       "      <td>1200</td>\n",
       "      <td>0.10</td>\n",
       "      <td>A</td>\n",
       "      <td>38.559167</td>\n",
       "      <td>-119.933056</td>\n",
       "      <td>CA</td>\n",
       "      <td>3</td>\n",
       "      <td>003</td>\n",
       "      <td>Alpine</td>\n",
       "    </tr>\n",
       "    <tr>\n",
       "      <th>...</th>\n",
       "      <td>...</td>\n",
       "      <td>...</td>\n",
       "      <td>...</td>\n",
       "      <td>...</td>\n",
       "      <td>...</td>\n",
       "      <td>...</td>\n",
       "      <td>...</td>\n",
       "      <td>...</td>\n",
       "      <td>...</td>\n",
       "      <td>...</td>\n",
       "      <td>...</td>\n",
       "      <td>...</td>\n",
       "      <td>...</td>\n",
       "      <td>...</td>\n",
       "      <td>...</td>\n",
       "      <td>...</td>\n",
       "      <td>...</td>\n",
       "      <td>...</td>\n",
       "      <td>...</td>\n",
       "      <td>...</td>\n",
       "    </tr>\n",
       "    <tr>\n",
       "      <th>1880460</th>\n",
       "      <td>None</td>\n",
       "      <td>ODESSA 2</td>\n",
       "      <td>None</td>\n",
       "      <td>2015</td>\n",
       "      <td>2457291.5</td>\n",
       "      <td>269</td>\n",
       "      <td>1726</td>\n",
       "      <td>13.0</td>\n",
       "      <td>Missing/Undefined</td>\n",
       "      <td>2457291.5</td>\n",
       "      <td>269.0</td>\n",
       "      <td>1843</td>\n",
       "      <td>0.01</td>\n",
       "      <td>A</td>\n",
       "      <td>40.481637</td>\n",
       "      <td>-122.389375</td>\n",
       "      <td>CA</td>\n",
       "      <td>None</td>\n",
       "      <td>None</td>\n",
       "      <td>None</td>\n",
       "    </tr>\n",
       "    <tr>\n",
       "      <th>1880461</th>\n",
       "      <td>None</td>\n",
       "      <td>None</td>\n",
       "      <td>None</td>\n",
       "      <td>2015</td>\n",
       "      <td>2457300.5</td>\n",
       "      <td>278</td>\n",
       "      <td>0126</td>\n",
       "      <td>9.0</td>\n",
       "      <td>Miscellaneous</td>\n",
       "      <td>NaN</td>\n",
       "      <td>NaN</td>\n",
       "      <td>None</td>\n",
       "      <td>0.20</td>\n",
       "      <td>A</td>\n",
       "      <td>37.617619</td>\n",
       "      <td>-120.938570</td>\n",
       "      <td>CA</td>\n",
       "      <td>None</td>\n",
       "      <td>None</td>\n",
       "      <td>None</td>\n",
       "    </tr>\n",
       "    <tr>\n",
       "      <th>1880462</th>\n",
       "      <td>None</td>\n",
       "      <td>None</td>\n",
       "      <td>None</td>\n",
       "      <td>2015</td>\n",
       "      <td>2457144.5</td>\n",
       "      <td>122</td>\n",
       "      <td>2052</td>\n",
       "      <td>13.0</td>\n",
       "      <td>Missing/Undefined</td>\n",
       "      <td>NaN</td>\n",
       "      <td>NaN</td>\n",
       "      <td>None</td>\n",
       "      <td>0.10</td>\n",
       "      <td>A</td>\n",
       "      <td>37.617619</td>\n",
       "      <td>-120.938570</td>\n",
       "      <td>CA</td>\n",
       "      <td>None</td>\n",
       "      <td>None</td>\n",
       "      <td>None</td>\n",
       "    </tr>\n",
       "    <tr>\n",
       "      <th>1880463</th>\n",
       "      <td>None</td>\n",
       "      <td>None</td>\n",
       "      <td>None</td>\n",
       "      <td>2015</td>\n",
       "      <td>2457309.5</td>\n",
       "      <td>287</td>\n",
       "      <td>2309</td>\n",
       "      <td>13.0</td>\n",
       "      <td>Missing/Undefined</td>\n",
       "      <td>NaN</td>\n",
       "      <td>NaN</td>\n",
       "      <td>None</td>\n",
       "      <td>2.00</td>\n",
       "      <td>B</td>\n",
       "      <td>37.672235</td>\n",
       "      <td>-120.898356</td>\n",
       "      <td>CA</td>\n",
       "      <td>None</td>\n",
       "      <td>None</td>\n",
       "      <td>None</td>\n",
       "    </tr>\n",
       "    <tr>\n",
       "      <th>1880464</th>\n",
       "      <td>None</td>\n",
       "      <td>BARKER BL  BIG_BEAR_LAKE_</td>\n",
       "      <td>None</td>\n",
       "      <td>2015</td>\n",
       "      <td>2457095.5</td>\n",
       "      <td>73</td>\n",
       "      <td>2128</td>\n",
       "      <td>9.0</td>\n",
       "      <td>Miscellaneous</td>\n",
       "      <td>NaN</td>\n",
       "      <td>NaN</td>\n",
       "      <td>None</td>\n",
       "      <td>0.10</td>\n",
       "      <td>A</td>\n",
       "      <td>34.263217</td>\n",
       "      <td>-116.830950</td>\n",
       "      <td>CA</td>\n",
       "      <td>None</td>\n",
       "      <td>None</td>\n",
       "      <td>None</td>\n",
       "    </tr>\n",
       "  </tbody>\n",
       "</table>\n",
       "<p>518361 rows × 20 columns</p>\n",
       "</div>"
      ],
      "text/plain": [
       "        FIRE_CODE                  FIRE_NAME COMPLEX_NAME  FIRE_YEAR  \\\n",
       "0            BJ8K                   FOUNTAIN         None       2005   \n",
       "1            AAC0                     PIGEON         None       2004   \n",
       "2            A32W                      SLACK         None       2004   \n",
       "3            None                       DEER         None       2004   \n",
       "4            None                   STEVENOT         None       2004   \n",
       "...           ...                        ...          ...        ...   \n",
       "1880460      None                   ODESSA 2         None       2015   \n",
       "1880461      None                       None         None       2015   \n",
       "1880462      None                       None         None       2015   \n",
       "1880463      None                       None         None       2015   \n",
       "1880464      None  BARKER BL  BIG_BEAR_LAKE_         None       2015   \n",
       "\n",
       "         DISCOVERY_DATE  DISCOVERY_DOY DISCOVERY_TIME  STAT_CAUSE_CODE  \\\n",
       "0             2453403.5             33           1300              9.0   \n",
       "1             2453137.5            133           0845              1.0   \n",
       "2             2453156.5            152           1921              5.0   \n",
       "3             2453184.5            180           1600              1.0   \n",
       "4             2453184.5            180           1600              1.0   \n",
       "...                 ...            ...            ...              ...   \n",
       "1880460       2457291.5            269           1726             13.0   \n",
       "1880461       2457300.5            278           0126              9.0   \n",
       "1880462       2457144.5            122           2052             13.0   \n",
       "1880463       2457309.5            287           2309             13.0   \n",
       "1880464       2457095.5             73           2128              9.0   \n",
       "\n",
       "          STAT_CAUSE_DESCR  CONT_DATE  CONT_DOY CONT_TIME  FIRE_SIZE  \\\n",
       "0            Miscellaneous  2453403.5      33.0      1730       0.10   \n",
       "1                Lightning  2453137.5     133.0      1530       0.25   \n",
       "2           Debris Burning  2453156.5     152.0      2024       0.10   \n",
       "3                Lightning  2453189.5     185.0      1400       0.10   \n",
       "4                Lightning  2453189.5     185.0      1200       0.10   \n",
       "...                    ...        ...       ...       ...        ...   \n",
       "1880460  Missing/Undefined  2457291.5     269.0      1843       0.01   \n",
       "1880461      Miscellaneous        NaN       NaN      None       0.20   \n",
       "1880462  Missing/Undefined        NaN       NaN      None       0.10   \n",
       "1880463  Missing/Undefined        NaN       NaN      None       2.00   \n",
       "1880464      Miscellaneous        NaN       NaN      None       0.10   \n",
       "\n",
       "        FIRE_SIZE_CLASS   LATITUDE   LONGITUDE STATE COUNTY FIPS_CODE  \\\n",
       "0                     A  40.036944 -121.005833    CA     63       063   \n",
       "1                     A  38.933056 -120.404444    CA     61       061   \n",
       "2                     A  38.984167 -120.735556    CA     17       017   \n",
       "3                     A  38.559167 -119.913333    CA      3       003   \n",
       "4                     A  38.559167 -119.933056    CA      3       003   \n",
       "...                 ...        ...         ...   ...    ...       ...   \n",
       "1880460               A  40.481637 -122.389375    CA   None      None   \n",
       "1880461               A  37.617619 -120.938570    CA   None      None   \n",
       "1880462               A  37.617619 -120.938570    CA   None      None   \n",
       "1880463               B  37.672235 -120.898356    CA   None      None   \n",
       "1880464               A  34.263217 -116.830950    CA   None      None   \n",
       "\n",
       "         FIPS_NAME  \n",
       "0           Plumas  \n",
       "1           Placer  \n",
       "2        El Dorado  \n",
       "3           Alpine  \n",
       "4           Alpine  \n",
       "...            ...  \n",
       "1880460       None  \n",
       "1880461       None  \n",
       "1880462       None  \n",
       "1880463       None  \n",
       "1880464       None  \n",
       "\n",
       "[518361 rows x 20 columns]"
      ]
     },
     "execution_count": 3,
     "metadata": {},
     "output_type": "execute_result"
    }
   ],
   "source": [
    "fire_df"
   ]
  },
  {
   "cell_type": "code",
   "execution_count": 4,
   "metadata": {},
   "outputs": [
    {
     "data": {
      "text/plain": [
       "FIRE_CODE           300047\n",
       "FIRE_NAME            64196\n",
       "COMPLEX_NAME        514477\n",
       "FIRE_YEAR                0\n",
       "DISCOVERY_DATE           0\n",
       "DISCOVERY_DOY            0\n",
       "DISCOVERY_TIME      138738\n",
       "STAT_CAUSE_CODE          0\n",
       "STAT_CAUSE_DESCR         0\n",
       "CONT_DATE           138864\n",
       "CONT_DOY            138864\n",
       "CONT_TIME           164573\n",
       "FIRE_SIZE                0\n",
       "FIRE_SIZE_CLASS          0\n",
       "LATITUDE                 0\n",
       "LONGITUDE                0\n",
       "STATE                    0\n",
       "COUNTY              285678\n",
       "FIPS_CODE           285678\n",
       "FIPS_NAME           285678\n",
       "dtype: int64"
      ]
     },
     "execution_count": 4,
     "metadata": {},
     "output_type": "execute_result"
    }
   ],
   "source": [
    "fire_df.isnull().sum()"
   ]
  },
  {
   "cell_type": "code",
   "execution_count": 5,
   "metadata": {},
   "outputs": [],
   "source": [
    "# fire name NA for nulls\n",
    "# fire code null to NONE\n",
    "# DISCOVERY TIME : DROP\n",
    "# CONT_DATE placeholder for nulls like 999999 \n",
    "# Math it out subtract containment date from discovery date for tot_time_burn\n",
    "# drop county and fibs name and Discovery_DOY and CONT DOY. \n",
    "# set all nulls in fibs_code to None\n",
    "\n",
    "#make all columns lower_case. "
   ]
  },
  {
   "cell_type": "code",
   "execution_count": 10,
   "metadata": {},
   "outputs": [
    {
     "data": {
      "text/plain": [
       "array(['063', '061', '017', '003', '005', None, '027', '069', '037',\n",
       "       '053', '089', '049', '009', '023', '043', '051', '039', '021',\n",
       "       '025', '013', '031', '047', '510', '007', '057', '001', '011',\n",
       "       '091', '081', '019', '015', '035', '006', '087', '065', '033',\n",
       "       '029', '095', '075', '059', '055', '077', '093', '085', '045',\n",
       "       '041', '079', '028', '115', '107', '067', '097', '105', '083',\n",
       "       '071', '073', '109', '111', '099', '103', '012', '113', '101'],\n",
       "      dtype=object)"
      ]
     },
     "execution_count": 10,
     "metadata": {},
     "output_type": "execute_result"
    }
   ],
   "source": [
    "fire_df['FIPS_CODE'].unique()"
   ]
  },
  {
   "cell_type": "code",
   "execution_count": null,
   "metadata": {},
   "outputs": [],
   "source": []
  },
  {
   "cell_type": "code",
   "execution_count": null,
   "metadata": {},
   "outputs": [],
   "source": []
  },
  {
   "cell_type": "code",
   "execution_count": null,
   "metadata": {},
   "outputs": [],
   "source": []
  },
  {
   "cell_type": "code",
   "execution_count": null,
   "metadata": {},
   "outputs": [],
   "source": []
  },
  {
   "cell_type": "code",
   "execution_count": null,
   "metadata": {},
   "outputs": [],
   "source": []
  },
  {
   "cell_type": "code",
   "execution_count": null,
   "metadata": {},
   "outputs": [],
   "source": []
  },
  {
   "cell_type": "code",
   "execution_count": null,
   "metadata": {},
   "outputs": [],
   "source": []
  },
  {
   "cell_type": "code",
   "execution_count": null,
   "metadata": {},
   "outputs": [],
   "source": []
  },
  {
   "cell_type": "code",
   "execution_count": null,
   "metadata": {},
   "outputs": [],
   "source": []
  },
  {
   "cell_type": "code",
   "execution_count": null,
   "metadata": {},
   "outputs": [],
   "source": []
  },
  {
   "cell_type": "code",
   "execution_count": null,
   "metadata": {},
   "outputs": [],
   "source": []
  },
  {
   "cell_type": "code",
   "execution_count": null,
   "metadata": {},
   "outputs": [],
   "source": []
  },
  {
   "cell_type": "code",
   "execution_count": null,
   "metadata": {},
   "outputs": [],
   "source": []
  },
  {
   "cell_type": "code",
   "execution_count": null,
   "metadata": {},
   "outputs": [],
   "source": []
  },
  {
   "cell_type": "code",
   "execution_count": null,
   "metadata": {},
   "outputs": [],
   "source": []
  },
  {
   "cell_type": "code",
   "execution_count": null,
   "metadata": {},
   "outputs": [],
   "source": []
  },
  {
   "cell_type": "code",
   "execution_count": null,
   "metadata": {},
   "outputs": [],
   "source": []
  },
  {
   "cell_type": "code",
   "execution_count": null,
   "metadata": {},
   "outputs": [],
   "source": []
  },
  {
   "cell_type": "code",
   "execution_count": null,
   "metadata": {},
   "outputs": [],
   "source": []
  },
  {
   "cell_type": "code",
   "execution_count": null,
   "metadata": {},
   "outputs": [],
   "source": []
  },
  {
   "cell_type": "code",
   "execution_count": null,
   "metadata": {},
   "outputs": [],
   "source": []
  },
  {
   "cell_type": "markdown",
   "metadata": {},
   "source": [
    "## Kira ---------------------------------------------------------"
   ]
  },
  {
   "cell_type": "markdown",
   "metadata": {},
   "source": [
    "put all of your code between here and the next person's name only"
   ]
  },
  {
   "cell_type": "code",
   "execution_count": null,
   "metadata": {},
   "outputs": [],
   "source": []
  },
  {
   "cell_type": "code",
   "execution_count": null,
   "metadata": {},
   "outputs": [],
   "source": []
  },
  {
   "cell_type": "code",
   "execution_count": null,
   "metadata": {},
   "outputs": [],
   "source": []
  },
  {
   "cell_type": "code",
   "execution_count": null,
   "metadata": {},
   "outputs": [],
   "source": []
  }
 ],
 "metadata": {
  "kernelspec": {
   "display_name": "Python 3",
   "language": "python",
   "name": "python3"
  },
  "language_info": {
   "codemirror_mode": {
    "name": "ipython",
    "version": 3
   },
   "file_extension": ".py",
   "mimetype": "text/x-python",
   "name": "python",
   "nbconvert_exporter": "python",
   "pygments_lexer": "ipython3",
   "version": "3.8.3"
  }
 },
 "nbformat": 4,
 "nbformat_minor": 4
}
