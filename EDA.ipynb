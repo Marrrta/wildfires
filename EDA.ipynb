{
 "cells": [
  {
   "cell_type": "markdown",
   "metadata": {},
   "source": [
    "# EDA"
   ]
  },
  {
   "cell_type": "markdown",
   "metadata": {},
   "source": [
    "## Marta ---------------------------------------------------------"
   ]
  },
  {
   "cell_type": "markdown",
   "metadata": {},
   "source": [
    "put all of your code between here and the next person's name only"
   ]
  },
  {
   "cell_type": "code",
   "execution_count": null,
   "metadata": {},
   "outputs": [],
   "source": [
    "import pandas as pd\n",
    "import matplotlib.pyplot as plt\n",
    "import seaborn as sns\n",
    "\n",
    "%config InlineBackend.figure_format = 'retina'"
   ]
  },
  {
   "cell_type": "code",
   "execution_count": null,
   "metadata": {},
   "outputs": [],
   "source": [
    "noaa_data = pd.read_csv('data/noaa_data_clean.csv', index_col= False)"
   ]
  },
  {
   "cell_type": "code",
   "execution_count": null,
   "metadata": {},
   "outputs": [],
   "source": [
    "noaa_data.columns"
   ]
  },
  {
   "cell_type": "code",
   "execution_count": null,
   "metadata": {},
   "outputs": [],
   "source": [
    "noaa_data.describe()"
   ]
  },
  {
   "cell_type": "code",
   "execution_count": null,
   "metadata": {},
   "outputs": [],
   "source": [
    "climate_cols = ['pcp', 'tavg', 'pdsi', 'phdi','zndx', 'pmdi', 'cdd', 'hdd', 'sp01', 'sp02', 'sp03', 'sp06', 'sp09',\n",
    "               'sp12', 'sp24', 'tmin', 'tmax']\n",
    "\n",
    "plt.figure(figsize=(17,23))\n",
    "for i in range(len(climate_cols)):\n",
    "    plt.subplot(6,3,i+1)\n",
    "    plt.scatter(noaa_data['yearmonth'], noaa_data[climate_cols[i]], color = '#5f946e', marker = '.')\n",
    "    plt.title(f\"{climate_cols[i]}\")\n",
    "    \n",
    "plt.savefig('./visuals/climate_scatters.png')"
   ]
  },
  {
   "cell_type": "code",
   "execution_count": null,
   "metadata": {},
   "outputs": [],
   "source": [
    "plt.figure(figsize = (17,5))\n",
    "sns.boxplot(data = noaa_data, x = 'state', y = 'pcp', palette= 'Greens')\n",
    "plt.title('Precipitation Index by state');\n",
    "plt.savefig('./visuals/pcp_by_state.png')"
   ]
  },
  {
   "cell_type": "code",
   "execution_count": null,
   "metadata": {},
   "outputs": [],
   "source": [
    "plt.figure(figsize = (17,5))\n",
    "sns.boxplot(data = noaa_data, x = 'state', y = 'tavg', palette= 'Greens')\n",
    "plt.title('Temperature Index by state');\n",
    "plt.savefig('./visuals/tavg_by_state.png')"
   ]
  },
  {
   "cell_type": "code",
   "execution_count": null,
   "metadata": {},
   "outputs": [],
   "source": [
    "plt.figure(figsize = (17,5))\n",
    "sns.boxplot(data = noaa_data, x = 'state', y = 'pdsi', palette= 'Greens')\n",
    "plt.title('Drought Severity Index by state');\n",
    "plt.savefig('./visuals/pdsi_by_state.png')"
   ]
  },
  {
   "cell_type": "code",
   "execution_count": null,
   "metadata": {},
   "outputs": [],
   "source": [
    "plt.figure(figsize = (17,5))\n",
    "sns.boxplot(data = noaa_data, x = 'state', y = 'phdi', palette= 'Greens')\n",
    "plt.title('Hydrological Drought Index by state');\n",
    "plt.savefig('./visuals/phdi_by_state.png')"
   ]
  },
  {
   "cell_type": "code",
   "execution_count": null,
   "metadata": {},
   "outputs": [],
   "source": [
    "tmax_yr = noaa_data.groupby('year')['tmax'].mean().to_dict()\n",
    "noaa_data['avg_yr_tmax'] = noaa_data['year'].apply(lambda x: tmax_yr[x])\n",
    "\n",
    "tmin_yr = noaa_data.groupby('year')['tmin'].mean().to_dict()\n",
    "noaa_data['avg_yr_tmin'] = noaa_data['year'].apply(lambda x: tmin_yr[x])"
   ]
  },
  {
   "cell_type": "code",
   "execution_count": null,
   "metadata": {},
   "outputs": [],
   "source": [
    "plt.figure(figsize = (17,6))\n",
    "sns.lineplot(data = noaa_data, x = 'year', y = 'tmax', color = '#5f946e', label = 'highest temp')\n",
    "sns.lineplot(data = noaa_data, x = 'year', y = 'tmin', color = '#92e3a9', label = 'lowest temp')\n",
    "plt.title('Lowest and highest temperature by year')\n",
    "plt.legend();\n",
    "plt.savefig('min_max_tmp_yr.png')"
   ]
  },
  {
   "cell_type": "code",
   "execution_count": null,
   "metadata": {},
   "outputs": [],
   "source": [
    "noaa_data.tail()"
   ]
  },
  {
   "cell_type": "markdown",
   "metadata": {},
   "source": [
    "## Jesse ---------------------------------------------------------"
   ]
  },
  {
   "cell_type": "markdown",
   "metadata": {},
   "source": [
    "put all of your code between here and the next person's name only"
   ]
  },
  {
   "cell_type": "code",
   "execution_count": null,
   "metadata": {},
   "outputs": [],
   "source": [
    "import sqlite3\n",
    "import pandas as pd\n",
    "from urllib.request import urlopen\n",
    "import json\n",
    "import pandas as pd\n",
    "from urllib.request import urlopen\n",
    "import json\n",
    "import plotly.express as px\n",
    "import plotly.graph_objects as go\n",
    "\n",
    "with urlopen('https://raw.githubusercontent.com/plotly/datasets/master/geojson-counties-fips.json') as response:\n",
    "    counties = json.load(response)"
   ]
  },
  {
   "cell_type": "code",
   "execution_count": null,
   "metadata": {},
   "outputs": [],
   "source": [
    "fire_map = pd.read_pickle('./data/fire_pickle.pkl')"
   ]
  },
  {
   "cell_type": "code",
   "execution_count": null,
   "metadata": {},
   "outputs": [],
   "source": [
    "states_of_interest = ['CA','WA','OR','NV','AZ','NM','UT', 'CO', 'WY', 'ID', 'MT']\n",
    "\n",
    "fire_map = fire_map[fire_map['STATE'].isin(states_of_interest)]\n",
    "\n",
    "fire_map['STATE']=fire_map['STATE'].replace({'CA': '06', \n",
    "                       'WA': '53',\n",
    "                      'OR': '41',\n",
    "                      'NV': '32',\n",
    "                      'AZ': '04',\n",
    "                      'NM': '35',\n",
    "                      'UT': '49',\n",
    "                      'CO': '08',\n",
    "                      'WY': '56',\n",
    "                      'ID': '16',\n",
    "                      'MT': '30',\n",
    "                      })\n",
    "\n",
    "fire_map['combined_fips'] =  fire_map['STATE'] + fire_map['FIPS_CODE']"
   ]
  },
  {
   "cell_type": "code",
   "execution_count": null,
   "metadata": {},
   "outputs": [],
   "source": [
    "wildfire = fire_map.groupby(['combined_fips']).agg({'FIRE_SIZE': ['count']})\n",
    "\n",
    "wildfire['FIPS_CODE'] = wildfire.index\n",
    "\n",
    "wildfire.columns = [\"FIPS_CODE\", \"FIRE_SIZE\"]\n",
    "\n",
    "wildfire.reset_index()"
   ]
  },
  {
   "cell_type": "code",
   "execution_count": null,
   "metadata": {},
   "outputs": [],
   "source": [
    "wildfire_map = wildfire[['FIPS_CODE', 'count']]\n",
    "\n",
    "\n",
    "fig = px.choropleth(wildfire_map, \n",
    "                    geojson=counties,\n",
    "                    locations='FIPS_CODE',\n",
    "                    color='count',\n",
    "                           color_continuous_scale=\"Viridis\",\n",
    "                           range_color=(100, 6000),\n",
    "                           scope=\"usa\",\n",
    "                           labels={'FIRE_SIZE':'FIRE_COUNT'}\n",
    "                          )\n",
    "fig.update_layout(margin={\"r\":0,\"t\":0,\"l\":0,\"b\":0})\n",
    "fig.show()"
   ]
  },
  {
   "cell_type": "code",
   "execution_count": null,
   "metadata": {},
   "outputs": [],
   "source": []
  },
  {
   "cell_type": "markdown",
   "metadata": {},
   "source": [
    "## CM ---------------------------------------------------------"
   ]
  },
  {
   "cell_type": "markdown",
   "metadata": {},
   "source": [
    "put all of your code between here and the next person's name only"
   ]
  },
  {
   "cell_type": "code",
   "execution_count": null,
   "metadata": {},
   "outputs": [],
   "source": [
    "  ### For Window's Users\n",
    "import os\n",
    "os.environ['PROJ_LIB'] = r'C:\\Users\\cmrjk\\Anaconda3\\pkgs\\proj4-5.2.0-ha925a31_1\\Library\\share'\n",
    "from mpl_toolkits.basemap import Basemap\n",
    "import matplotlib\n",
    "import matplotlib.pyplot as plt\n",
    "import pandas as pd\n",
    "import numpy as np"
   ]
  },
  {
   "cell_type": "code",
   "execution_count": null,
   "metadata": {},
   "outputs": [],
   "source": [
    "fire_position = pd.read_csv('./data/fire_lat_lon.csv', index_col=False)\n",
    "fire_position"
   ]
  },
  {
   "cell_type": "code",
   "execution_count": null,
   "metadata": {},
   "outputs": [],
   "source": [
    "# Grabbing the lats and longs data\n",
    "lats = []\n",
    "lons = []\n",
    "for i in fire_position.index:\n",
    "    lats.append(fire_position['latitude'][i])\n",
    "    lons.append(fire_position['longitude'][i])\n",
    "\n",
    "# found this out on \n",
    "# https://makersportal.com/blog/2018/7/20/geographic-mapping-from-a-csv-file-using-python-and-basemap\n",
    "\n",
    "\n",
    "# setting parameters for title and axes\n",
    "font = {'family' : 'verdana',\n",
    "        'size'   : 16}\n",
    "matplotlib.rc('font', **font)\n",
    "\n",
    "# How much to zoom from coordinates (in degrees)\n",
    "zoom_scale = 3\n",
    "\n",
    "# Setup the bounding box for the zoom and bounds of the map\n",
    "bbox = [np.min(lats)-zoom_scale,np.max(lats)+zoom_scale,\\\n",
    "        np.min(lons)-zoom_scale,np.max(lons)+zoom_scale]\n",
    "\n",
    "fig, ax = plt.subplots(figsize=(12,7))\n",
    "plt.title(\"ASOS Continental United States (CONUS) Station Elevation\")\n",
    "# Define the projection, scale, the corners of the map, and the resolution.\n",
    "m = Basemap(projection='merc',llcrnrlat=bbox[0],urcrnrlat=bbox[1],\\\n",
    "            llcrnrlon=bbox[2],urcrnrlon=bbox[3],lat_ts=10,resolution='i')\n",
    "\n",
    "# Draw coastlines and fill continents and water with color\n",
    "m.drawcoastlines()\n",
    "m.fillcontinents(color='#CCCCCC',lake_color='lightblue')\n",
    "\n",
    "# draw parallels, meridians, and color boundaries\n",
    "m.drawparallels(np.arange(bbox[0],bbox[1],(bbox[1]-bbox[0])/5),labels=[1,0,0,0])\n",
    "m.drawmeridians(np.arange(bbox[2],bbox[3],(bbox[3]-bbox[2])/5),labels=[0,0,0,1],rotation=15)\n",
    "m.drawmapboundary(fill_color='lightblue')\n",
    "\n",
    "# # format colors for elevation range\n",
    "# alt_min = np.min(altitude)\n",
    "# alt_max = np.max(altitude)\n",
    "# cmap = plt.get_cmap('gist_earth')\n",
    "# normalize = matplotlib.colors.Normalize(vmin=alt_min, vmax=alt_max)\n",
    "\n",
    "# # plot elevations with different colors using the numpy interpolation mapping tool\n",
    "# # the range [50,200] can be changed to create different colors and ranges\n",
    "# for ii in range(0,len(altitude)):\n",
    "#     x,y = m(lons[ii],lats[ii])\n",
    "#     color_interp = np.interp(altitude[ii],[alt_min,alt_max],[50,200])\n",
    "#     plt.plot(x,y,marker='o',markersize=6,color=cmap(int(color_interp)))\n",
    "\n",
    "# # # format the colorbar \n",
    "# cax, _ = matplotlib.colorbar.make_axes(ax)\n",
    "# cbar = matplotlib.colorbar.ColorbarBase(cax, cmap=cmap,norm=normalize,label='Elevation')\n",
    "\n",
    "x,y = m(lons,lats)\n",
    "m.plot(x,y,'r*',markersize=2)\n",
    "plt.title(\"Western Fire Distribution\")\n",
    "\n",
    "\n",
    "# save the figure and show it\n",
    "plt.savefig('firemap_latlong.png', format='png', dpi=500,transparent=True)\n",
    "plt.show()"
   ]
  },
  {
   "cell_type": "code",
   "execution_count": null,
   "metadata": {},
   "outputs": [],
   "source": []
  },
  {
   "cell_type": "markdown",
   "metadata": {},
   "source": [
    "## Kira ---------------------------------------------------------"
   ]
  },
  {
   "cell_type": "markdown",
   "metadata": {},
   "source": [
    "put all of your code between here and the next person's name only"
   ]
  },
  {
   "cell_type": "code",
   "execution_count": null,
   "metadata": {},
   "outputs": [],
   "source": []
  },
  {
   "cell_type": "code",
   "execution_count": null,
   "metadata": {},
   "outputs": [],
   "source": []
  },
  {
   "cell_type": "code",
   "execution_count": null,
   "metadata": {},
   "outputs": [],
   "source": []
  },
  {
   "cell_type": "code",
   "execution_count": null,
   "metadata": {},
   "outputs": [],
   "source": []
  }
 ],
 "metadata": {
  "kernelspec": {
   "display_name": "Python 3",
   "language": "python",
   "name": "python3"
  },
  "language_info": {
   "codemirror_mode": {
    "name": "ipython",
    "version": 3
   },
   "file_extension": ".py",
   "mimetype": "text/x-python",
   "name": "python",
   "nbconvert_exporter": "python",
   "pygments_lexer": "ipython3",
   "version": "3.8.3"
  }
 },
 "nbformat": 4,
 "nbformat_minor": 4
}
