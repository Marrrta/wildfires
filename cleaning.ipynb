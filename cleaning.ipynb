{
 "cells": [
  {
   "cell_type": "markdown",
   "metadata": {},
   "source": [
    "# Cleaning"
   ]
  },
  {
   "cell_type": "markdown",
   "metadata": {},
   "source": [
    "## Marta ---------------------------------------------------------"
   ]
  },
  {
   "cell_type": "markdown",
   "metadata": {},
   "source": [
    "put all of your code between here and the next person's name only"
   ]
  },
  {
   "cell_type": "code",
   "execution_count": 1,
   "metadata": {},
   "outputs": [],
   "source": [
    "import pandas as pd"
   ]
  },
  {
   "cell_type": "code",
   "execution_count": 2,
   "metadata": {},
   "outputs": [],
   "source": [
    "noaa_data = pd.read_csv('data/noaa_data.csv')"
   ]
  },
  {
   "cell_type": "code",
   "execution_count": 3,
   "metadata": {},
   "outputs": [],
   "source": [
    "noaa_data.rename(columns = {col: col.strip().lower() for col in noaa_data.columns}, inplace= True)"
   ]
  },
  {
   "cell_type": "code",
   "execution_count": 4,
   "metadata": {},
   "outputs": [],
   "source": [
    "#noaa_data['yr_mth'] = noaa_data['YearMonth'].\n",
    "noaa_data['month'] = noaa_data['yearmonth'].apply(lambda x: str(x)[-2:])\n",
    "noaa_data['year'] = noaa_data['yearmonth'].apply(lambda x: str(x)[0:4])"
   ]
  },
  {
   "cell_type": "code",
   "execution_count": 5,
   "metadata": {},
   "outputs": [
    {
     "data": {
      "text/html": [
       "<div>\n",
       "<style scoped>\n",
       "    .dataframe tbody tr th:only-of-type {\n",
       "        vertical-align: middle;\n",
       "    }\n",
       "\n",
       "    .dataframe tbody tr th {\n",
       "        vertical-align: top;\n",
       "    }\n",
       "\n",
       "    .dataframe thead th {\n",
       "        text-align: right;\n",
       "    }\n",
       "</style>\n",
       "<table border=\"1\" class=\"dataframe\">\n",
       "  <thead>\n",
       "    <tr style=\"text-align: right;\">\n",
       "      <th></th>\n",
       "      <th>unnamed: 0</th>\n",
       "      <th>statecode</th>\n",
       "      <th>division</th>\n",
       "      <th>yearmonth</th>\n",
       "      <th>pcp</th>\n",
       "      <th>tavg</th>\n",
       "      <th>pdsi</th>\n",
       "      <th>phdi</th>\n",
       "      <th>zndx</th>\n",
       "      <th>pmdi</th>\n",
       "      <th>...</th>\n",
       "      <th>sp06</th>\n",
       "      <th>sp09</th>\n",
       "      <th>sp12</th>\n",
       "      <th>sp24</th>\n",
       "      <th>tmin</th>\n",
       "      <th>tmax</th>\n",
       "      <th>unnamed: 20</th>\n",
       "      <th>state</th>\n",
       "      <th>month</th>\n",
       "      <th>year</th>\n",
       "    </tr>\n",
       "  </thead>\n",
       "  <tbody>\n",
       "    <tr>\n",
       "      <th>0</th>\n",
       "      <td>0</td>\n",
       "      <td>2</td>\n",
       "      <td>0</td>\n",
       "      <td>189501</td>\n",
       "      <td>2.78</td>\n",
       "      <td>40.4</td>\n",
       "      <td>1.67</td>\n",
       "      <td>1.67</td>\n",
       "      <td>5.02</td>\n",
       "      <td>1.67</td>\n",
       "      <td>...</td>\n",
       "      <td>-99.99</td>\n",
       "      <td>-99.99</td>\n",
       "      <td>-99.99</td>\n",
       "      <td>-99.99</td>\n",
       "      <td>31.8</td>\n",
       "      <td>49.0</td>\n",
       "      <td>NaN</td>\n",
       "      <td>AZ</td>\n",
       "      <td>01</td>\n",
       "      <td>1895</td>\n",
       "    </tr>\n",
       "    <tr>\n",
       "      <th>1</th>\n",
       "      <td>1</td>\n",
       "      <td>2</td>\n",
       "      <td>0</td>\n",
       "      <td>189502</td>\n",
       "      <td>0.53</td>\n",
       "      <td>43.5</td>\n",
       "      <td>1.61</td>\n",
       "      <td>1.61</td>\n",
       "      <td>0.33</td>\n",
       "      <td>1.61</td>\n",
       "      <td>...</td>\n",
       "      <td>-99.99</td>\n",
       "      <td>-99.99</td>\n",
       "      <td>-99.99</td>\n",
       "      <td>-99.99</td>\n",
       "      <td>31.0</td>\n",
       "      <td>56.0</td>\n",
       "      <td>NaN</td>\n",
       "      <td>AZ</td>\n",
       "      <td>02</td>\n",
       "      <td>1895</td>\n",
       "    </tr>\n",
       "    <tr>\n",
       "      <th>2</th>\n",
       "      <td>2</td>\n",
       "      <td>2</td>\n",
       "      <td>0</td>\n",
       "      <td>189503</td>\n",
       "      <td>0.22</td>\n",
       "      <td>50.0</td>\n",
       "      <td>1.09</td>\n",
       "      <td>1.09</td>\n",
       "      <td>-1.05</td>\n",
       "      <td>0.48</td>\n",
       "      <td>...</td>\n",
       "      <td>-99.99</td>\n",
       "      <td>-99.99</td>\n",
       "      <td>-99.99</td>\n",
       "      <td>-99.99</td>\n",
       "      <td>35.4</td>\n",
       "      <td>64.7</td>\n",
       "      <td>NaN</td>\n",
       "      <td>AZ</td>\n",
       "      <td>03</td>\n",
       "      <td>1895</td>\n",
       "    </tr>\n",
       "    <tr>\n",
       "      <th>3</th>\n",
       "      <td>3</td>\n",
       "      <td>2</td>\n",
       "      <td>0</td>\n",
       "      <td>189504</td>\n",
       "      <td>0.08</td>\n",
       "      <td>58.3</td>\n",
       "      <td>1.09</td>\n",
       "      <td>1.09</td>\n",
       "      <td>0.33</td>\n",
       "      <td>0.59</td>\n",
       "      <td>...</td>\n",
       "      <td>-99.99</td>\n",
       "      <td>-99.99</td>\n",
       "      <td>-99.99</td>\n",
       "      <td>-99.99</td>\n",
       "      <td>42.6</td>\n",
       "      <td>73.9</td>\n",
       "      <td>NaN</td>\n",
       "      <td>AZ</td>\n",
       "      <td>04</td>\n",
       "      <td>1895</td>\n",
       "    </tr>\n",
       "    <tr>\n",
       "      <th>4</th>\n",
       "      <td>4</td>\n",
       "      <td>2</td>\n",
       "      <td>0</td>\n",
       "      <td>189505</td>\n",
       "      <td>0.36</td>\n",
       "      <td>65.8</td>\n",
       "      <td>1.89</td>\n",
       "      <td>1.89</td>\n",
       "      <td>2.72</td>\n",
       "      <td>1.89</td>\n",
       "      <td>...</td>\n",
       "      <td>-99.99</td>\n",
       "      <td>-99.99</td>\n",
       "      <td>-99.99</td>\n",
       "      <td>-99.99</td>\n",
       "      <td>50.9</td>\n",
       "      <td>80.6</td>\n",
       "      <td>NaN</td>\n",
       "      <td>AZ</td>\n",
       "      <td>05</td>\n",
       "      <td>1895</td>\n",
       "    </tr>\n",
       "  </tbody>\n",
       "</table>\n",
       "<p>5 rows × 25 columns</p>\n",
       "</div>"
      ],
      "text/plain": [
       "   unnamed: 0  statecode  division  yearmonth   pcp  tavg  pdsi  phdi  zndx  \\\n",
       "0           0          2         0     189501  2.78  40.4  1.67  1.67  5.02   \n",
       "1           1          2         0     189502  0.53  43.5  1.61  1.61  0.33   \n",
       "2           2          2         0     189503  0.22  50.0  1.09  1.09 -1.05   \n",
       "3           3          2         0     189504  0.08  58.3  1.09  1.09  0.33   \n",
       "4           4          2         0     189505  0.36  65.8  1.89  1.89  2.72   \n",
       "\n",
       "   pmdi  ...   sp06   sp09   sp12   sp24  tmin  tmax  unnamed: 20  state  \\\n",
       "0  1.67  ... -99.99 -99.99 -99.99 -99.99  31.8  49.0          NaN     AZ   \n",
       "1  1.61  ... -99.99 -99.99 -99.99 -99.99  31.0  56.0          NaN     AZ   \n",
       "2  0.48  ... -99.99 -99.99 -99.99 -99.99  35.4  64.7          NaN     AZ   \n",
       "3  0.59  ... -99.99 -99.99 -99.99 -99.99  42.6  73.9          NaN     AZ   \n",
       "4  1.89  ... -99.99 -99.99 -99.99 -99.99  50.9  80.6          NaN     AZ   \n",
       "\n",
       "   month  year  \n",
       "0     01  1895  \n",
       "1     02  1895  \n",
       "2     03  1895  \n",
       "3     04  1895  \n",
       "4     05  1895  \n",
       "\n",
       "[5 rows x 25 columns]"
      ]
     },
     "execution_count": 5,
     "metadata": {},
     "output_type": "execute_result"
    }
   ],
   "source": [
    "noaa_data.head()"
   ]
  },
  {
   "cell_type": "code",
   "execution_count": 6,
   "metadata": {},
   "outputs": [],
   "source": [
    "noaa_data = noaa_data[[col for col in noaa_data.columns if not 'unnamed' in col]] # removing meaningless columns"
   ]
  },
  {
   "cell_type": "code",
   "execution_count": 7,
   "metadata": {},
   "outputs": [],
   "source": [
    "noaa_data = noaa_data[(noaa_data['yearmonth']!=202011) & \n",
    "                      (noaa_data['yearmonth']!=202012) &\n",
    "                      (noaa_data['year']>'1900') &\n",
    "                      (noaa_data['year']>'1900')] # removing two months with placeholder data"
   ]
  },
  {
   "cell_type": "code",
   "execution_count": 8,
   "metadata": {},
   "outputs": [
    {
     "data": {
      "text/html": [
       "<div>\n",
       "<style scoped>\n",
       "    .dataframe tbody tr th:only-of-type {\n",
       "        vertical-align: middle;\n",
       "    }\n",
       "\n",
       "    .dataframe tbody tr th {\n",
       "        vertical-align: top;\n",
       "    }\n",
       "\n",
       "    .dataframe thead th {\n",
       "        text-align: right;\n",
       "    }\n",
       "</style>\n",
       "<table border=\"1\" class=\"dataframe\">\n",
       "  <thead>\n",
       "    <tr style=\"text-align: right;\">\n",
       "      <th></th>\n",
       "      <th>statecode</th>\n",
       "      <th>division</th>\n",
       "      <th>yearmonth</th>\n",
       "      <th>pcp</th>\n",
       "      <th>tavg</th>\n",
       "      <th>pdsi</th>\n",
       "      <th>phdi</th>\n",
       "      <th>zndx</th>\n",
       "      <th>pmdi</th>\n",
       "      <th>cdd</th>\n",
       "      <th>hdd</th>\n",
       "      <th>sp01</th>\n",
       "      <th>sp02</th>\n",
       "      <th>sp03</th>\n",
       "      <th>sp06</th>\n",
       "      <th>sp09</th>\n",
       "      <th>sp12</th>\n",
       "      <th>sp24</th>\n",
       "      <th>tmin</th>\n",
       "      <th>tmax</th>\n",
       "    </tr>\n",
       "  </thead>\n",
       "  <tbody>\n",
       "    <tr>\n",
       "      <th>count</th>\n",
       "      <td>11486.000000</td>\n",
       "      <td>11486.0</td>\n",
       "      <td>11486.000000</td>\n",
       "      <td>11486.000000</td>\n",
       "      <td>11486.000000</td>\n",
       "      <td>11486.000000</td>\n",
       "      <td>11486.000000</td>\n",
       "      <td>11486.000000</td>\n",
       "      <td>11486.000000</td>\n",
       "      <td>11486.000000</td>\n",
       "      <td>11486.000000</td>\n",
       "      <td>11486.000000</td>\n",
       "      <td>11486.000000</td>\n",
       "      <td>11486.000000</td>\n",
       "      <td>11486.000000</td>\n",
       "      <td>11486.000000</td>\n",
       "      <td>11486.000000</td>\n",
       "      <td>11486.000000</td>\n",
       "      <td>11486.000000</td>\n",
       "      <td>11486.000000</td>\n",
       "    </tr>\n",
       "    <tr>\n",
       "      <th>mean</th>\n",
       "      <td>32.375588</td>\n",
       "      <td>0.0</td>\n",
       "      <td>196038.881073</td>\n",
       "      <td>1.922654</td>\n",
       "      <td>51.755916</td>\n",
       "      <td>-0.038869</td>\n",
       "      <td>-0.007610</td>\n",
       "      <td>-0.012021</td>\n",
       "      <td>-0.003684</td>\n",
       "      <td>72.534477</td>\n",
       "      <td>401.827268</td>\n",
       "      <td>0.005407</td>\n",
       "      <td>0.002698</td>\n",
       "      <td>0.002158</td>\n",
       "      <td>0.001066</td>\n",
       "      <td>0.001036</td>\n",
       "      <td>0.001011</td>\n",
       "      <td>-0.001191</td>\n",
       "      <td>38.808182</td>\n",
       "      <td>64.695544</td>\n",
       "    </tr>\n",
       "    <tr>\n",
       "      <th>std</th>\n",
       "      <td>32.988899</td>\n",
       "      <td>0.0</td>\n",
       "      <td>3454.063765</td>\n",
       "      <td>1.721008</td>\n",
       "      <td>14.638455</td>\n",
       "      <td>2.585360</td>\n",
       "      <td>2.705266</td>\n",
       "      <td>1.924128</td>\n",
       "      <td>2.563077</td>\n",
       "      <td>131.479806</td>\n",
       "      <td>340.594852</td>\n",
       "      <td>0.987106</td>\n",
       "      <td>0.994348</td>\n",
       "      <td>0.997144</td>\n",
       "      <td>0.998099</td>\n",
       "      <td>0.999261</td>\n",
       "      <td>1.000486</td>\n",
       "      <td>1.003913</td>\n",
       "      <td>13.323738</td>\n",
       "      <td>16.299261</td>\n",
       "    </tr>\n",
       "    <tr>\n",
       "      <th>min</th>\n",
       "      <td>2.000000</td>\n",
       "      <td>0.0</td>\n",
       "      <td>190101.000000</td>\n",
       "      <td>0.000000</td>\n",
       "      <td>12.700000</td>\n",
       "      <td>-9.090000</td>\n",
       "      <td>-9.090000</td>\n",
       "      <td>-7.140000</td>\n",
       "      <td>-9.090000</td>\n",
       "      <td>0.000000</td>\n",
       "      <td>0.000000</td>\n",
       "      <td>-3.090000</td>\n",
       "      <td>-3.090000</td>\n",
       "      <td>-3.090000</td>\n",
       "      <td>-3.090000</td>\n",
       "      <td>-3.090000</td>\n",
       "      <td>-3.090000</td>\n",
       "      <td>-3.090000</td>\n",
       "      <td>-0.800000</td>\n",
       "      <td>20.600000</td>\n",
       "    </tr>\n",
       "    <tr>\n",
       "      <th>25%</th>\n",
       "      <td>4.000000</td>\n",
       "      <td>0.0</td>\n",
       "      <td>193011.250000</td>\n",
       "      <td>0.682500</td>\n",
       "      <td>39.800000</td>\n",
       "      <td>-1.860000</td>\n",
       "      <td>-2.040000</td>\n",
       "      <td>-1.360000</td>\n",
       "      <td>-1.780000</td>\n",
       "      <td>0.000000</td>\n",
       "      <td>76.000000</td>\n",
       "      <td>-0.700000</td>\n",
       "      <td>-0.660000</td>\n",
       "      <td>-0.680000</td>\n",
       "      <td>-0.670000</td>\n",
       "      <td>-0.670000</td>\n",
       "      <td>-0.660000</td>\n",
       "      <td>-0.670000</td>\n",
       "      <td>28.400000</td>\n",
       "      <td>51.600000</td>\n",
       "    </tr>\n",
       "    <tr>\n",
       "      <th>50%</th>\n",
       "      <td>29.000000</td>\n",
       "      <td>0.0</td>\n",
       "      <td>196010.000000</td>\n",
       "      <td>1.530000</td>\n",
       "      <td>51.600000</td>\n",
       "      <td>-0.250000</td>\n",
       "      <td>-0.560000</td>\n",
       "      <td>-0.170000</td>\n",
       "      <td>-0.080000</td>\n",
       "      <td>6.500000</td>\n",
       "      <td>346.000000</td>\n",
       "      <td>0.010000</td>\n",
       "      <td>0.000000</td>\n",
       "      <td>0.010000</td>\n",
       "      <td>0.000000</td>\n",
       "      <td>0.000000</td>\n",
       "      <td>0.000000</td>\n",
       "      <td>0.000000</td>\n",
       "      <td>38.200000</td>\n",
       "      <td>64.800000</td>\n",
       "    </tr>\n",
       "    <tr>\n",
       "      <th>75%</th>\n",
       "      <td>45.000000</td>\n",
       "      <td>0.0</td>\n",
       "      <td>199009.000000</td>\n",
       "      <td>2.610000</td>\n",
       "      <td>64.200000</td>\n",
       "      <td>1.680000</td>\n",
       "      <td>1.960000</td>\n",
       "      <td>1.120000</td>\n",
       "      <td>1.680000</td>\n",
       "      <td>84.000000</td>\n",
       "      <td>664.000000</td>\n",
       "      <td>0.680000</td>\n",
       "      <td>0.670000</td>\n",
       "      <td>0.660000</td>\n",
       "      <td>0.670000</td>\n",
       "      <td>0.670000</td>\n",
       "      <td>0.680000</td>\n",
       "      <td>0.660000</td>\n",
       "      <td>49.600000</td>\n",
       "      <td>78.800000</td>\n",
       "    </tr>\n",
       "    <tr>\n",
       "      <th>max</th>\n",
       "      <td>110.000000</td>\n",
       "      <td>0.0</td>\n",
       "      <td>202010.000000</td>\n",
       "      <td>16.610000</td>\n",
       "      <td>84.100000</td>\n",
       "      <td>12.510000</td>\n",
       "      <td>12.510000</td>\n",
       "      <td>10.030000</td>\n",
       "      <td>12.510000</td>\n",
       "      <td>788.000000</td>\n",
       "      <td>1647.000000</td>\n",
       "      <td>3.090000</td>\n",
       "      <td>3.090000</td>\n",
       "      <td>3.090000</td>\n",
       "      <td>3.090000</td>\n",
       "      <td>3.090000</td>\n",
       "      <td>3.090000</td>\n",
       "      <td>3.090000</td>\n",
       "      <td>68.800000</td>\n",
       "      <td>99.300000</td>\n",
       "    </tr>\n",
       "  </tbody>\n",
       "</table>\n",
       "</div>"
      ],
      "text/plain": [
       "          statecode  division      yearmonth           pcp          tavg  \\\n",
       "count  11486.000000   11486.0   11486.000000  11486.000000  11486.000000   \n",
       "mean      32.375588       0.0  196038.881073      1.922654     51.755916   \n",
       "std       32.988899       0.0    3454.063765      1.721008     14.638455   \n",
       "min        2.000000       0.0  190101.000000      0.000000     12.700000   \n",
       "25%        4.000000       0.0  193011.250000      0.682500     39.800000   \n",
       "50%       29.000000       0.0  196010.000000      1.530000     51.600000   \n",
       "75%       45.000000       0.0  199009.000000      2.610000     64.200000   \n",
       "max      110.000000       0.0  202010.000000     16.610000     84.100000   \n",
       "\n",
       "               pdsi          phdi          zndx          pmdi           cdd  \\\n",
       "count  11486.000000  11486.000000  11486.000000  11486.000000  11486.000000   \n",
       "mean      -0.038869     -0.007610     -0.012021     -0.003684     72.534477   \n",
       "std        2.585360      2.705266      1.924128      2.563077    131.479806   \n",
       "min       -9.090000     -9.090000     -7.140000     -9.090000      0.000000   \n",
       "25%       -1.860000     -2.040000     -1.360000     -1.780000      0.000000   \n",
       "50%       -0.250000     -0.560000     -0.170000     -0.080000      6.500000   \n",
       "75%        1.680000      1.960000      1.120000      1.680000     84.000000   \n",
       "max       12.510000     12.510000     10.030000     12.510000    788.000000   \n",
       "\n",
       "                hdd          sp01          sp02          sp03          sp06  \\\n",
       "count  11486.000000  11486.000000  11486.000000  11486.000000  11486.000000   \n",
       "mean     401.827268      0.005407      0.002698      0.002158      0.001066   \n",
       "std      340.594852      0.987106      0.994348      0.997144      0.998099   \n",
       "min        0.000000     -3.090000     -3.090000     -3.090000     -3.090000   \n",
       "25%       76.000000     -0.700000     -0.660000     -0.680000     -0.670000   \n",
       "50%      346.000000      0.010000      0.000000      0.010000      0.000000   \n",
       "75%      664.000000      0.680000      0.670000      0.660000      0.670000   \n",
       "max     1647.000000      3.090000      3.090000      3.090000      3.090000   \n",
       "\n",
       "               sp09          sp12          sp24          tmin          tmax  \n",
       "count  11486.000000  11486.000000  11486.000000  11486.000000  11486.000000  \n",
       "mean       0.001036      0.001011     -0.001191     38.808182     64.695544  \n",
       "std        0.999261      1.000486      1.003913     13.323738     16.299261  \n",
       "min       -3.090000     -3.090000     -3.090000     -0.800000     20.600000  \n",
       "25%       -0.670000     -0.660000     -0.670000     28.400000     51.600000  \n",
       "50%        0.000000      0.000000      0.000000     38.200000     64.800000  \n",
       "75%        0.670000      0.680000      0.660000     49.600000     78.800000  \n",
       "max        3.090000      3.090000      3.090000     68.800000     99.300000  "
      ]
     },
     "execution_count": 8,
     "metadata": {},
     "output_type": "execute_result"
    }
   ],
   "source": [
    "noaa_data.describe()"
   ]
  },
  {
   "cell_type": "code",
   "execution_count": 9,
   "metadata": {},
   "outputs": [],
   "source": [
    "noaa_data.to_csv('data/noaa_data_clean.csv', index = False)"
   ]
  },
  {
   "cell_type": "markdown",
   "metadata": {},
   "source": [
    "## Jesse ---------------------------------------------------------"
   ]
  },
  {
   "cell_type": "markdown",
   "metadata": {},
   "source": [
    "put all of your code between here and the next person's name only"
   ]
  },
  {
   "cell_type": "code",
   "execution_count": null,
   "metadata": {},
   "outputs": [],
   "source": []
  },
  {
   "cell_type": "code",
   "execution_count": null,
   "metadata": {},
   "outputs": [],
   "source": []
  },
  {
   "cell_type": "code",
   "execution_count": null,
   "metadata": {},
   "outputs": [],
   "source": []
  },
  {
   "cell_type": "markdown",
   "metadata": {},
   "source": [
    "## CM ---------------------------------------------------------"
   ]
  },
  {
   "cell_type": "markdown",
   "metadata": {},
   "source": [
    "put all of your code between here and the next person's name only"
   ]
  },
  {
   "cell_type": "code",
   "execution_count": 2,
   "metadata": {},
   "outputs": [],
   "source": [
    "import pandas as pd\n",
    "import numpy as np"
   ]
  },
  {
   "cell_type": "code",
   "execution_count": 3,
   "metadata": {},
   "outputs": [],
   "source": [
    "fire_df = pd.read_pickle('./data/fire_pickle.pkl')"
   ]
  },
  {
   "cell_type": "code",
   "execution_count": 4,
   "metadata": {},
   "outputs": [
    {
     "data": {
      "text/plain": [
       "FIRE_CODE           300047\n",
       "FIRE_NAME            64196\n",
       "COMPLEX_NAME        514477\n",
       "FIRE_YEAR                0\n",
       "DISCOVERY_DATE           0\n",
       "DISCOVERY_DOY            0\n",
       "DISCOVERY_TIME      138738\n",
       "STAT_CAUSE_CODE          0\n",
       "STAT_CAUSE_DESCR         0\n",
       "CONT_DATE           138864\n",
       "CONT_DOY            138864\n",
       "CONT_TIME           164573\n",
       "FIRE_SIZE                0\n",
       "FIRE_SIZE_CLASS          0\n",
       "LATITUDE                 0\n",
       "LONGITUDE                0\n",
       "STATE                    0\n",
       "COUNTY              285678\n",
       "FIPS_CODE           285678\n",
       "FIPS_NAME           285678\n",
       "dtype: int64"
      ]
     },
     "execution_count": 4,
     "metadata": {},
     "output_type": "execute_result"
    }
   ],
   "source": [
    "fire_df.isnull().sum()"
   ]
  },
  {
   "cell_type": "code",
   "execution_count": 6,
   "metadata": {},
   "outputs": [],
   "source": [
    "\n",
    "fire_df['CONT_DATE'] = fire_df['CONT_DATE'].astype(float)\n",
    "\n",
    "epoch = pd.to_datetime(0, unit='s').to_julian_date()\n",
    "fire_df['CONT_DATE_FIXED'] = pd.to_datetime(fire_df['CONT_DATE'] - epoch, unit='D')\n",
    "fire_df['DISC_DATE_FIXED'] = pd.to_datetime(fire_df['DISCOVERY_DATE'] - epoch, unit='D')\n",
    "\n",
    "fire_df['TIME_BURNT_FIXED'] = fire_df['CONT_DATE_FIXED'] - fire_df['DISC_DATE_FIXED']\n",
    "\n",
    "fire_df['TIME_BURNT'] = fire_df['CONT_DATE'] - fire_df['DISCOVERY_DATE']\n"
   ]
  },
  {
   "cell_type": "code",
   "execution_count": 5,
   "metadata": {},
   "outputs": [
    {
     "data": {
      "text/plain": [
       "array(['063', '061', '017', '003', '005', '0', '027', '069', '037', '053',\n",
       "       '089', '049', '009', '023', '043', '051', '039', '021', '025',\n",
       "       '013', '031', '047', '510', '007', '057', '001', '011', '091',\n",
       "       '081', '019', '015', '035', '006', '087', '065', '033', '029',\n",
       "       '095', '075', '059', '055', '077', '093', '085', '045', '041',\n",
       "       '079', '028', '115', '107', '067', '097', '105', '083', '071',\n",
       "       '073', '109', '111', '099', '103', '012', '113', '101'],\n",
       "      dtype=object)"
      ]
     },
     "execution_count": 5,
     "metadata": {},
     "output_type": "execute_result"
    }
   ],
   "source": [
    "fire_df['FIRE_NAME'].fillna('NO_NAME', inplace=True)\n",
    "fire_df['COMPLEX_NAME'].fillna('NO_NAME', inplace=True)\n",
    "fire_df['FIRE_CODE'].fillna('NA', inplace=True)\n",
    "fire_df['FIPS_CODE'].fillna('0', inplace=True)\n",
    "# fire_df['CONT_DATE'].fillna('0', inplace=True)\n",
    "\n",
    "droplist = ['CONT_DOY','CONT_TIME', 'COUNTY', 'FIPS_NAME', 'DISCOVERY_DOY', 'DISCOVERY_TIME',\n",
    "           'CONT_DATE', 'DISCOVERY_DATE']\n",
    "fire_df.drop(droplist, axis = 1, inplace=True)\n"
   ]
  },
  {
   "cell_type": "code",
   "execution_count": 7,
   "metadata": {},
   "outputs": [],
   "source": [
    "fire_df.rename(columns = {col: col.strip().lower() for col in fire_df.columns}, inplace= True)"
   ]
  },
  {
   "cell_type": "code",
   "execution_count": 8,
   "metadata": {},
   "outputs": [],
   "source": [
    "fire_df.to_pickle('./data/clean_fire_pickle.pkl')"
   ]
  },
  {
   "cell_type": "code",
   "execution_count": 10,
   "metadata": {},
   "outputs": [],
   "source": [
    "fire_position = fire_df[['latitude', 'longitude']]\n",
    "fire_position.to_csv('./data/fire_lat_lon.csv', index=False)"
   ]
  },
  {
   "cell_type": "code",
   "execution_count": null,
   "metadata": {},
   "outputs": [],
   "source": []
  },
  {
   "cell_type": "code",
   "execution_count": null,
   "metadata": {},
   "outputs": [],
   "source": []
  },
  {
   "cell_type": "markdown",
   "metadata": {},
   "source": [
    "## Kira ---------------------------------------------------------"
   ]
  },
  {
   "cell_type": "markdown",
   "metadata": {},
   "source": [
    "put all of your code between here and the next person's name only"
   ]
  },
  {
   "cell_type": "code",
   "execution_count": null,
   "metadata": {},
   "outputs": [],
   "source": []
  },
  {
   "cell_type": "code",
   "execution_count": null,
   "metadata": {},
   "outputs": [],
   "source": []
  },
  {
   "cell_type": "code",
   "execution_count": null,
   "metadata": {},
   "outputs": [],
   "source": []
  },
  {
   "cell_type": "code",
   "execution_count": null,
   "metadata": {},
   "outputs": [],
   "source": []
  }
 ],
 "metadata": {
  "kernelspec": {
   "display_name": "Python 3",
   "language": "python",
   "name": "python3"
  },
  "language_info": {
   "codemirror_mode": {
    "name": "ipython",
    "version": 3
   },
   "file_extension": ".py",
   "mimetype": "text/x-python",
   "name": "python",
   "nbconvert_exporter": "python",
   "pygments_lexer": "ipython3",
   "version": "3.8.3"
  }
 },
 "nbformat": 4,
 "nbformat_minor": 4
}
