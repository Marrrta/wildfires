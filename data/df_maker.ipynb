{
 "cells": [
  {
   "cell_type": "code",
   "execution_count": 1,
   "metadata": {},
   "outputs": [],
   "source": [
    "import pandas as pd"
   ]
  },
  {
   "cell_type": "code",
   "execution_count": 2,
   "metadata": {},
   "outputs": [],
   "source": [
    "noaa_data = pd.DataFrame()\n",
    "states = ['AZ', 'CA', 'CO', 'ID', 'MT','NM', 'NV','OR', 'UT', 'WA', 'WY'] # update to list all states / text files in folder\n",
    "for state in states:\n",
    "    df = pd.read_csv(state+'.txt')\n",
    "    df['state']=state\n",
    "    noaa_data = pd.concat([noaa_data,df], axis = 0)"
   ]
  },
  {
   "cell_type": "code",
   "execution_count": 3,
   "metadata": {},
   "outputs": [
    {
     "data": {
      "text/plain": [
       "CO    1512\n",
       "AZ    1512\n",
       "UT    1512\n",
       "CA    1512\n",
       "WY    1512\n",
       "WA    1512\n",
       "OR    1501\n",
       "ID    1501\n",
       "MT    1501\n",
       "NM    1501\n",
       "NV    1501\n",
       "Name: state, dtype: int64"
      ]
     },
     "execution_count": 3,
     "metadata": {},
     "output_type": "execute_result"
    }
   ],
   "source": [
    "noaa_data['state'].value_counts()"
   ]
  },
  {
   "cell_type": "code",
   "execution_count": 4,
   "metadata": {},
   "outputs": [
    {
     "data": {
      "text/html": [
       "<div>\n",
       "<style scoped>\n",
       "    .dataframe tbody tr th:only-of-type {\n",
       "        vertical-align: middle;\n",
       "    }\n",
       "\n",
       "    .dataframe tbody tr th {\n",
       "        vertical-align: top;\n",
       "    }\n",
       "\n",
       "    .dataframe thead th {\n",
       "        text-align: right;\n",
       "    }\n",
       "</style>\n",
       "<table border=\"1\" class=\"dataframe\">\n",
       "  <thead>\n",
       "    <tr style=\"text-align: right;\">\n",
       "      <th></th>\n",
       "      <th>StateCode</th>\n",
       "      <th>Division</th>\n",
       "      <th>YearMonth</th>\n",
       "      <th>PCP</th>\n",
       "      <th>TAVG</th>\n",
       "      <th>PDSI</th>\n",
       "      <th>PHDI</th>\n",
       "      <th>ZNDX</th>\n",
       "      <th>PMDI</th>\n",
       "      <th>CDD</th>\n",
       "      <th>...</th>\n",
       "      <th>SP02</th>\n",
       "      <th>SP03</th>\n",
       "      <th>SP06</th>\n",
       "      <th>SP09</th>\n",
       "      <th>SP12</th>\n",
       "      <th>SP24</th>\n",
       "      <th>TMIN</th>\n",
       "      <th>TMAX</th>\n",
       "      <th>Unnamed: 20</th>\n",
       "      <th>state</th>\n",
       "    </tr>\n",
       "  </thead>\n",
       "  <tbody>\n",
       "    <tr>\n",
       "      <th>0</th>\n",
       "      <td>2</td>\n",
       "      <td>0</td>\n",
       "      <td>189501</td>\n",
       "      <td>2.78</td>\n",
       "      <td>40.4</td>\n",
       "      <td>1.67</td>\n",
       "      <td>1.67</td>\n",
       "      <td>5.02</td>\n",
       "      <td>1.67</td>\n",
       "      <td>0</td>\n",
       "      <td>...</td>\n",
       "      <td>-99.99</td>\n",
       "      <td>-99.99</td>\n",
       "      <td>-99.99</td>\n",
       "      <td>-99.99</td>\n",
       "      <td>-99.99</td>\n",
       "      <td>-99.99</td>\n",
       "      <td>31.8</td>\n",
       "      <td>49.0</td>\n",
       "      <td>NaN</td>\n",
       "      <td>AZ</td>\n",
       "    </tr>\n",
       "    <tr>\n",
       "      <th>1</th>\n",
       "      <td>2</td>\n",
       "      <td>0</td>\n",
       "      <td>189502</td>\n",
       "      <td>0.53</td>\n",
       "      <td>43.5</td>\n",
       "      <td>1.61</td>\n",
       "      <td>1.61</td>\n",
       "      <td>0.33</td>\n",
       "      <td>1.61</td>\n",
       "      <td>7</td>\n",
       "      <td>...</td>\n",
       "      <td>0.84</td>\n",
       "      <td>-99.99</td>\n",
       "      <td>-99.99</td>\n",
       "      <td>-99.99</td>\n",
       "      <td>-99.99</td>\n",
       "      <td>-99.99</td>\n",
       "      <td>31.0</td>\n",
       "      <td>56.0</td>\n",
       "      <td>NaN</td>\n",
       "      <td>AZ</td>\n",
       "    </tr>\n",
       "    <tr>\n",
       "      <th>2</th>\n",
       "      <td>2</td>\n",
       "      <td>0</td>\n",
       "      <td>189503</td>\n",
       "      <td>0.22</td>\n",
       "      <td>50.0</td>\n",
       "      <td>1.09</td>\n",
       "      <td>1.09</td>\n",
       "      <td>-1.05</td>\n",
       "      <td>0.48</td>\n",
       "      <td>24</td>\n",
       "      <td>...</td>\n",
       "      <td>-1.20</td>\n",
       "      <td>0.31</td>\n",
       "      <td>-99.99</td>\n",
       "      <td>-99.99</td>\n",
       "      <td>-99.99</td>\n",
       "      <td>-99.99</td>\n",
       "      <td>35.4</td>\n",
       "      <td>64.7</td>\n",
       "      <td>NaN</td>\n",
       "      <td>AZ</td>\n",
       "    </tr>\n",
       "    <tr>\n",
       "      <th>3</th>\n",
       "      <td>2</td>\n",
       "      <td>0</td>\n",
       "      <td>189504</td>\n",
       "      <td>0.08</td>\n",
       "      <td>58.3</td>\n",
       "      <td>1.09</td>\n",
       "      <td>1.09</td>\n",
       "      <td>0.33</td>\n",
       "      <td>0.59</td>\n",
       "      <td>99</td>\n",
       "      <td>...</td>\n",
       "      <td>-1.82</td>\n",
       "      <td>-1.61</td>\n",
       "      <td>-99.99</td>\n",
       "      <td>-99.99</td>\n",
       "      <td>-99.99</td>\n",
       "      <td>-99.99</td>\n",
       "      <td>42.6</td>\n",
       "      <td>73.9</td>\n",
       "      <td>NaN</td>\n",
       "      <td>AZ</td>\n",
       "    </tr>\n",
       "    <tr>\n",
       "      <th>4</th>\n",
       "      <td>2</td>\n",
       "      <td>0</td>\n",
       "      <td>189505</td>\n",
       "      <td>0.36</td>\n",
       "      <td>65.8</td>\n",
       "      <td>1.89</td>\n",
       "      <td>1.89</td>\n",
       "      <td>2.72</td>\n",
       "      <td>1.89</td>\n",
       "      <td>249</td>\n",
       "      <td>...</td>\n",
       "      <td>-0.66</td>\n",
       "      <td>-1.47</td>\n",
       "      <td>-99.99</td>\n",
       "      <td>-99.99</td>\n",
       "      <td>-99.99</td>\n",
       "      <td>-99.99</td>\n",
       "      <td>50.9</td>\n",
       "      <td>80.6</td>\n",
       "      <td>NaN</td>\n",
       "      <td>AZ</td>\n",
       "    </tr>\n",
       "  </tbody>\n",
       "</table>\n",
       "<p>5 rows × 22 columns</p>\n",
       "</div>"
      ],
      "text/plain": [
       "   StateCode  Division  YearMonth      PCP     TAVG     PDSI     PHDI  \\\n",
       "0          2         0     189501     2.78     40.4     1.67     1.67   \n",
       "1          2         0     189502     0.53     43.5     1.61     1.61   \n",
       "2          2         0     189503     0.22     50.0     1.09     1.09   \n",
       "3          2         0     189504     0.08     58.3     1.09     1.09   \n",
       "4          2         0     189505     0.36     65.8     1.89     1.89   \n",
       "\n",
       "      ZNDX     PMDI      CDD  ...     SP02     SP03     SP06     SP09  \\\n",
       "0     5.02     1.67        0  ...   -99.99   -99.99   -99.99   -99.99   \n",
       "1     0.33     1.61        7  ...     0.84   -99.99   -99.99   -99.99   \n",
       "2    -1.05     0.48       24  ...    -1.20     0.31   -99.99   -99.99   \n",
       "3     0.33     0.59       99  ...    -1.82    -1.61   -99.99   -99.99   \n",
       "4     2.72     1.89      249  ...    -0.66    -1.47   -99.99   -99.99   \n",
       "\n",
       "      SP12     SP24     TMIN     TMAX  Unnamed: 20  state  \n",
       "0   -99.99   -99.99     31.8     49.0          NaN     AZ  \n",
       "1   -99.99   -99.99     31.0     56.0          NaN     AZ  \n",
       "2   -99.99   -99.99     35.4     64.7          NaN     AZ  \n",
       "3   -99.99   -99.99     42.6     73.9          NaN     AZ  \n",
       "4   -99.99   -99.99     50.9     80.6          NaN     AZ  \n",
       "\n",
       "[5 rows x 22 columns]"
      ]
     },
     "execution_count": 4,
     "metadata": {},
     "output_type": "execute_result"
    }
   ],
   "source": [
    "noaa_data.head()"
   ]
  },
  {
   "cell_type": "code",
   "execution_count": 5,
   "metadata": {},
   "outputs": [
    {
     "data": {
      "text/plain": [
       "(16577, 22)"
      ]
     },
     "execution_count": 5,
     "metadata": {},
     "output_type": "execute_result"
    }
   ],
   "source": [
    "noaa_data.shape"
   ]
  },
  {
   "cell_type": "code",
   "execution_count": 6,
   "metadata": {},
   "outputs": [],
   "source": [
    "noaa_data.to_csv('noaa_data.csv')"
   ]
  },
  {
   "cell_type": "code",
   "execution_count": null,
   "metadata": {},
   "outputs": [],
   "source": []
  }
 ],
 "metadata": {
  "kernelspec": {
   "display_name": "Python 3",
   "language": "python",
   "name": "python3"
  },
  "language_info": {
   "codemirror_mode": {
    "name": "ipython",
    "version": 3
   },
   "file_extension": ".py",
   "mimetype": "text/x-python",
   "name": "python",
   "nbconvert_exporter": "python",
   "pygments_lexer": "ipython3",
   "version": "3.8.3"
  }
 },
 "nbformat": 4,
 "nbformat_minor": 4
}
