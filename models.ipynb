{
 "cells": [
  {
   "cell_type": "markdown",
   "metadata": {},
   "source": [
    "# Modeling"
   ]
  },
  {
   "cell_type": "markdown",
   "metadata": {},
   "source": [
    "## Marta ---------------------------------------------------------"
   ]
  },
  {
   "cell_type": "markdown",
   "metadata": {},
   "source": [
    "put all of your code between here and the next person's name only"
   ]
  },
  {
   "cell_type": "code",
   "execution_count": 38,
   "metadata": {},
   "outputs": [],
   "source": [
    "import pandas as pd\n",
    "import numpy as np\n",
    "\n",
    "from sklearn.linear_model import LinearRegression, Lasso\n",
    "from sklearn.model_selection import train_test_split\n",
    "from sklearn.preprocessing import StandardScaler"
   ]
  },
  {
   "cell_type": "code",
   "execution_count": 32,
   "metadata": {},
   "outputs": [],
   "source": [
    "noaa_on_fire = pd.read_csv('data/DONT_PUSH_mfi_df_yr_trail.csv')"
   ]
  },
  {
   "cell_type": "code",
   "execution_count": 34,
   "metadata": {},
   "outputs": [],
   "source": [
    "noaa_on_fire = pd.get_dummies(noaa_on_fire, columns=['state', 'month'], drop_first= True)"
   ]
  },
  {
   "cell_type": "code",
   "execution_count": 35,
   "metadata": {},
   "outputs": [
    {
     "data": {
      "text/plain": [
       "Index(['Unnamed: 0', 'stat_cause_descr', 'fire_size', 'fire_size_class',\n",
       "       'cont_date_fixed', 'disc_date_fixed', 'time_burnt', 'year', 'yearmonth',\n",
       "       'pcp', 'tavg', 'pdsi', 'phdi', 'zndx', 'pmdi', 'cdd', 'hdd', 'sp02',\n",
       "       'sp03', 'sp06', 'sp09', 'sp12', 'sp24', 'tmin', 'tmax', 'tavg_t12m',\n",
       "       'tavg_t9m', 'tavg_t6m', 'tavg_t3m', 'pcp_t12m', 'pcp_t9m', 'pcp_t6m',\n",
       "       'pcp_t3m', 'pmdi_t12m', 'pmdi_t9m', 'pmdi_t6m', 'pmdi_t3m', 'pdsi_t12m',\n",
       "       'pdsi_t9m', 'pdsi_t6m', 'pdsi_t3m', 'state_CA', 'state_CO', 'state_ID',\n",
       "       'state_MT', 'state_NM', 'state_NV', 'state_OR', 'state_UT', 'state_WA',\n",
       "       'state_WY', 'month_2', 'month_3', 'month_4', 'month_5', 'month_6',\n",
       "       'month_7', 'month_8', 'month_9', 'month_10', 'month_11', 'month_12'],\n",
       "      dtype='object')"
      ]
     },
     "execution_count": 35,
     "metadata": {},
     "output_type": "execute_result"
    }
   ],
   "source": [
    "noaa_on_fire.columns"
   ]
  },
  {
   "cell_type": "code",
   "execution_count": 48,
   "metadata": {},
   "outputs": [],
   "source": [
    "y = noaa_on_fire['fire_size']\n",
    "X_vars = ['state_CA', 'state_CO', 'state_ID',\n",
    "       'state_MT', 'state_NM', 'state_NV', 'state_OR', 'state_UT', 'state_WA',\n",
    "       'state_WY', 'month_2', 'month_3', 'month_4', 'month_5', 'month_6',\n",
    "       'month_7', 'month_8', 'month_9', 'month_10', 'month_11', 'month_12','tavg_t3m', 'pcp_t12m', 'pmdi_t12m']\n",
    "X = noaa_on_fire[X_vars]"
   ]
  },
  {
   "cell_type": "code",
   "execution_count": 43,
   "metadata": {},
   "outputs": [],
   "source": [
    "noaa_on_fire.dropna(subset = X_vars, inplace=True)"
   ]
  },
  {
   "cell_type": "code",
   "execution_count": 62,
   "metadata": {},
   "outputs": [],
   "source": [
    "X_train, X_test, y_train, y_test = train_test_split(X,y)\n",
    "\n",
    "stan = StandardScaler()\n",
    "X_train = stan.fit_transform(X_train)\n",
    "X_test = stan.transform(X_test)"
   ]
  },
  {
   "cell_type": "code",
   "execution_count": 66,
   "metadata": {},
   "outputs": [],
   "source": [
    "lr = LinearRegression()\n",
    "lasso = Lasso()"
   ]
  },
  {
   "cell_type": "code",
   "execution_count": 67,
   "metadata": {},
   "outputs": [
    {
     "name": "stdout",
     "output_type": "stream",
     "text": [
      "Using data corresponding to fire size > 0.1 quantile:\n",
      "Linear Regression achieves R2 of 0.0015 on train data and 0.0007 on test data.\n",
      "Lasso Regression achieves R2 of 0.0015 on train data and 0.0007 on test data.\n",
      "\n",
      "Using data corresponding to fire size > 0.15 quantile:\n",
      "Linear Regression achieves R2 of 0.0014 on train data and 0.0007 on test data.\n",
      "Lasso Regression achieves R2 of 0.0014 on train data and 0.0007 on test data.\n",
      "\n",
      "Using data corresponding to fire size > 0.2 quantile:\n",
      "Linear Regression achieves R2 of 0.0014 on train data and 0.0008 on test data.\n",
      "Lasso Regression achieves R2 of 0.0014 on train data and 0.0008 on test data.\n",
      "\n",
      "Using data corresponding to fire size > 0.25 quantile:\n",
      "Linear Regression achieves R2 of 0.0011 on train data and 0.0016 on test data.\n",
      "Lasso Regression achieves R2 of 0.0011 on train data and 0.0016 on test data.\n",
      "\n",
      "Using data corresponding to fire size > 0.3 quantile:\n",
      "Linear Regression achieves R2 of 0.0012 on train data and 0.0014 on test data.\n",
      "Lasso Regression achieves R2 of 0.0011 on train data and 0.0014 on test data.\n",
      "\n",
      "Using data corresponding to fire size > 0.35 quantile:\n",
      "Linear Regression achieves R2 of 0.0014 on train data and 0.0009 on test data.\n",
      "Lasso Regression achieves R2 of 0.0014 on train data and 0.0009 on test data.\n",
      "\n",
      "Using data corresponding to fire size > 0.4 quantile:\n",
      "Linear Regression achieves R2 of 0.0014 on train data and 0.0009 on test data.\n",
      "Lasso Regression achieves R2 of 0.0014 on train data and 0.0009 on test data.\n",
      "\n",
      "Using data corresponding to fire size > 0.45 quantile:\n",
      "Linear Regression achieves R2 of 0.0013 on train data and 0.0008 on test data.\n",
      "Lasso Regression achieves R2 of 0.0013 on train data and 0.0009 on test data.\n",
      "\n",
      "Using data corresponding to fire size > 0.5 quantile:\n",
      "Linear Regression achieves R2 of 0.0014 on train data and 0.0008 on test data.\n",
      "Lasso Regression achieves R2 of 0.0014 on train data and 0.0008 on test data.\n",
      "\n"
     ]
    }
   ],
   "source": [
    "for q in [0.1, 0.15, 0.2, 0.25, 0.3, 0.35, 0.4, 0.45, 0.5]:\n",
    "    print(f\"Using data corresponding to fire size > {q} quantile:\")\n",
    "    noaa_on_fire = noaa_on_fire[noaa_on_fire['fire_size']> noaa_on_fire['fire_size'].quantile(q)]\n",
    "    X_train, X_test, y_train, y_test = train_test_split(X,y)\n",
    "\n",
    "    stan = StandardScaler()\n",
    "    X_train = stan.fit_transform(X_train)\n",
    "    X_test = stan.transform(X_test)\n",
    "    \n",
    "    lr = LinearRegression()\n",
    "    lasso = Lasso()\n",
    "    \n",
    "    lr.fit(X_train, y_train)\n",
    "    lasso.fit(X_train, y_train)\n",
    "    print(f\"Linear Regression achieves R2 of {round(lr.score(X_train, y_train),4)} on train data and {round(lr.score(X_test, y_test),4)} on test data.\")\n",
    "    print(f\"Lasso Regression achieves R2 of {round(lasso.score(X_train, y_train),4)} on train data and {round(lasso.score(X_test, y_test),4)} on test data.\\n\")"
   ]
  },
  {
   "cell_type": "markdown",
   "metadata": {},
   "source": [
    "## Jesse ---------------------------------------------------------"
   ]
  },
  {
   "cell_type": "markdown",
   "metadata": {},
   "source": [
    "put all of your code between here and the next person's name only"
   ]
  },
  {
   "cell_type": "code",
   "execution_count": null,
   "metadata": {},
   "outputs": [],
   "source": []
  },
  {
   "cell_type": "code",
   "execution_count": null,
   "metadata": {},
   "outputs": [],
   "source": []
  },
  {
   "cell_type": "code",
   "execution_count": null,
   "metadata": {},
   "outputs": [],
   "source": []
  },
  {
   "cell_type": "markdown",
   "metadata": {},
   "source": [
    "## CM ---------------------------------------------------------"
   ]
  },
  {
   "cell_type": "markdown",
   "metadata": {},
   "source": [
    "put all of your code between here and the next person's name only"
   ]
  },
  {
   "cell_type": "code",
   "execution_count": null,
   "metadata": {},
   "outputs": [],
   "source": []
  },
  {
   "cell_type": "code",
   "execution_count": null,
   "metadata": {},
   "outputs": [],
   "source": []
  },
  {
   "cell_type": "code",
   "execution_count": null,
   "metadata": {},
   "outputs": [],
   "source": []
  },
  {
   "cell_type": "markdown",
   "metadata": {},
   "source": [
    "## Kira ---------------------------------------------------------"
   ]
  },
  {
   "cell_type": "markdown",
   "metadata": {},
   "source": [
    "put all of your code between here and the next person's name only"
   ]
  },
  {
   "cell_type": "code",
   "execution_count": 1,
   "metadata": {},
   "outputs": [],
   "source": [
    "# Import libraries.\n",
    "import pandas as pd\n",
    "import numpy as np\n",
    "from sklearn.ensemble import RandomForestClassifier, ExtraTreesClassifier\n",
    "from sklearn.model_selection import cross_val_score, train_test_split, GridSearchCV"
   ]
  },
  {
   "cell_type": "code",
   "execution_count": 2,
   "metadata": {},
   "outputs": [
    {
     "data": {
      "text/html": [
       "<div>\n",
       "<style scoped>\n",
       "    .dataframe tbody tr th:only-of-type {\n",
       "        vertical-align: middle;\n",
       "    }\n",
       "\n",
       "    .dataframe tbody tr th {\n",
       "        vertical-align: top;\n",
       "    }\n",
       "\n",
       "    .dataframe thead th {\n",
       "        text-align: right;\n",
       "    }\n",
       "</style>\n",
       "<table border=\"1\" class=\"dataframe\">\n",
       "  <thead>\n",
       "    <tr style=\"text-align: right;\">\n",
       "      <th></th>\n",
       "      <th>Unnamed: 0</th>\n",
       "      <th>fire_year</th>\n",
       "      <th>stat_cause_descr</th>\n",
       "      <th>fire_size</th>\n",
       "      <th>fire_size_class</th>\n",
       "      <th>state</th>\n",
       "      <th>cont_date_fixed</th>\n",
       "      <th>disc_date_fixed</th>\n",
       "      <th>time_burnt_fixed</th>\n",
       "      <th>time_burnt</th>\n",
       "      <th>...</th>\n",
       "      <th>cdd</th>\n",
       "      <th>hdd</th>\n",
       "      <th>sp02</th>\n",
       "      <th>sp03</th>\n",
       "      <th>sp06</th>\n",
       "      <th>sp09</th>\n",
       "      <th>sp12</th>\n",
       "      <th>sp24</th>\n",
       "      <th>tmin</th>\n",
       "      <th>tmax</th>\n",
       "    </tr>\n",
       "  </thead>\n",
       "  <tbody>\n",
       "    <tr>\n",
       "      <th>0</th>\n",
       "      <td>0</td>\n",
       "      <td>2005</td>\n",
       "      <td>Miscellaneous</td>\n",
       "      <td>0.10</td>\n",
       "      <td>A</td>\n",
       "      <td>CA</td>\n",
       "      <td>2005-02-02</td>\n",
       "      <td>2005-02-02</td>\n",
       "      <td>0 days 00:00:00.000000000</td>\n",
       "      <td>0.0</td>\n",
       "      <td>...</td>\n",
       "      <td>0</td>\n",
       "      <td>421</td>\n",
       "      <td>0.58</td>\n",
       "      <td>0.85</td>\n",
       "      <td>1.00</td>\n",
       "      <td>0.92</td>\n",
       "      <td>0.24</td>\n",
       "      <td>0.48</td>\n",
       "      <td>38.1</td>\n",
       "      <td>56.1</td>\n",
       "    </tr>\n",
       "    <tr>\n",
       "      <th>1</th>\n",
       "      <td>1</td>\n",
       "      <td>2004</td>\n",
       "      <td>Lightning</td>\n",
       "      <td>0.25</td>\n",
       "      <td>A</td>\n",
       "      <td>CA</td>\n",
       "      <td>2004-05-12</td>\n",
       "      <td>2004-05-12</td>\n",
       "      <td>0 days 00:00:00.000000000</td>\n",
       "      <td>0.0</td>\n",
       "      <td>...</td>\n",
       "      <td>56</td>\n",
       "      <td>126</td>\n",
       "      <td>-1.19</td>\n",
       "      <td>-1.86</td>\n",
       "      <td>-0.05</td>\n",
       "      <td>-0.32</td>\n",
       "      <td>-0.31</td>\n",
       "      <td>-0.04</td>\n",
       "      <td>49.2</td>\n",
       "      <td>77.2</td>\n",
       "    </tr>\n",
       "    <tr>\n",
       "      <th>2</th>\n",
       "      <td>2</td>\n",
       "      <td>2004</td>\n",
       "      <td>Debris Burning</td>\n",
       "      <td>0.10</td>\n",
       "      <td>A</td>\n",
       "      <td>CA</td>\n",
       "      <td>2004-05-31</td>\n",
       "      <td>2004-05-31</td>\n",
       "      <td>0 days 00:00:00.000000000</td>\n",
       "      <td>0.0</td>\n",
       "      <td>...</td>\n",
       "      <td>56</td>\n",
       "      <td>126</td>\n",
       "      <td>-1.19</td>\n",
       "      <td>-1.86</td>\n",
       "      <td>-0.05</td>\n",
       "      <td>-0.32</td>\n",
       "      <td>-0.31</td>\n",
       "      <td>-0.04</td>\n",
       "      <td>49.2</td>\n",
       "      <td>77.2</td>\n",
       "    </tr>\n",
       "    <tr>\n",
       "      <th>3</th>\n",
       "      <td>3</td>\n",
       "      <td>2004</td>\n",
       "      <td>Lightning</td>\n",
       "      <td>0.10</td>\n",
       "      <td>A</td>\n",
       "      <td>CA</td>\n",
       "      <td>2004-07-03</td>\n",
       "      <td>2004-06-28</td>\n",
       "      <td>5 days 00:00:00.000000000</td>\n",
       "      <td>5.0</td>\n",
       "      <td>...</td>\n",
       "      <td>115</td>\n",
       "      <td>44</td>\n",
       "      <td>-1.10</td>\n",
       "      <td>-1.39</td>\n",
       "      <td>-0.61</td>\n",
       "      <td>-0.32</td>\n",
       "      <td>-0.29</td>\n",
       "      <td>-0.04</td>\n",
       "      <td>55.6</td>\n",
       "      <td>85.2</td>\n",
       "    </tr>\n",
       "    <tr>\n",
       "      <th>4</th>\n",
       "      <td>4</td>\n",
       "      <td>2004</td>\n",
       "      <td>Lightning</td>\n",
       "      <td>0.10</td>\n",
       "      <td>A</td>\n",
       "      <td>CA</td>\n",
       "      <td>2004-07-03</td>\n",
       "      <td>2004-06-28</td>\n",
       "      <td>5 days 00:00:00.000000000</td>\n",
       "      <td>5.0</td>\n",
       "      <td>...</td>\n",
       "      <td>115</td>\n",
       "      <td>44</td>\n",
       "      <td>-1.10</td>\n",
       "      <td>-1.39</td>\n",
       "      <td>-0.61</td>\n",
       "      <td>-0.32</td>\n",
       "      <td>-0.29</td>\n",
       "      <td>-0.04</td>\n",
       "      <td>55.6</td>\n",
       "      <td>85.2</td>\n",
       "    </tr>\n",
       "  </tbody>\n",
       "</table>\n",
       "<p>5 rows × 31 columns</p>\n",
       "</div>"
      ],
      "text/plain": [
       "   Unnamed: 0  fire_year stat_cause_descr  fire_size fire_size_class state  \\\n",
       "0           0       2005    Miscellaneous       0.10               A    CA   \n",
       "1           1       2004        Lightning       0.25               A    CA   \n",
       "2           2       2004   Debris Burning       0.10               A    CA   \n",
       "3           3       2004        Lightning       0.10               A    CA   \n",
       "4           4       2004        Lightning       0.10               A    CA   \n",
       "\n",
       "  cont_date_fixed disc_date_fixed           time_burnt_fixed  time_burnt  ...  \\\n",
       "0      2005-02-02      2005-02-02  0 days 00:00:00.000000000         0.0  ...   \n",
       "1      2004-05-12      2004-05-12  0 days 00:00:00.000000000         0.0  ...   \n",
       "2      2004-05-31      2004-05-31  0 days 00:00:00.000000000         0.0  ...   \n",
       "3      2004-07-03      2004-06-28  5 days 00:00:00.000000000         5.0  ...   \n",
       "4      2004-07-03      2004-06-28  5 days 00:00:00.000000000         5.0  ...   \n",
       "\n",
       "   cdd  hdd  sp02  sp03  sp06  sp09  sp12  sp24  tmin  tmax  \n",
       "0    0  421  0.58  0.85  1.00  0.92  0.24  0.48  38.1  56.1  \n",
       "1   56  126 -1.19 -1.86 -0.05 -0.32 -0.31 -0.04  49.2  77.2  \n",
       "2   56  126 -1.19 -1.86 -0.05 -0.32 -0.31 -0.04  49.2  77.2  \n",
       "3  115   44 -1.10 -1.39 -0.61 -0.32 -0.29 -0.04  55.6  85.2  \n",
       "4  115   44 -1.10 -1.39 -0.61 -0.32 -0.29 -0.04  55.6  85.2  \n",
       "\n",
       "[5 rows x 31 columns]"
      ]
     },
     "execution_count": 2,
     "metadata": {},
     "output_type": "execute_result"
    }
   ],
   "source": [
    "mfi_df = pd.read_csv('data/mfi_df_yr.csv')\n",
    "mfi_df.head()"
   ]
  },
  {
   "cell_type": "code",
   "execution_count": 3,
   "metadata": {},
   "outputs": [
    {
     "data": {
      "text/plain": [
       "Index(['Unnamed: 0', 'fire_year', 'stat_cause_descr', 'fire_size',\n",
       "       'fire_size_class', 'state', 'cont_date_fixed', 'disc_date_fixed',\n",
       "       'time_burnt_fixed', 'time_burnt', 'month', 'year', 'statecode',\n",
       "       'division', 'yearmonth', 'pcp', 'tavg', 'pdsi', 'phdi', 'zndx', 'pmdi',\n",
       "       'cdd', 'hdd', 'sp02', 'sp03', 'sp06', 'sp09', 'sp12', 'sp24', 'tmin',\n",
       "       'tmax'],\n",
       "      dtype='object')"
      ]
     },
     "execution_count": 3,
     "metadata": {},
     "output_type": "execute_result"
    }
   ],
   "source": [
    "mfi_df.columns"
   ]
  },
  {
   "cell_type": "code",
   "execution_count": 4,
   "metadata": {},
   "outputs": [
    {
     "data": {
      "text/plain": [
       "['Unnamed: 0',\n",
       " 'fire_year',\n",
       " 'stat_cause_descr',\n",
       " 'fire_size',\n",
       " 'fire_size_class',\n",
       " 'state',\n",
       " 'cont_date_fixed',\n",
       " 'disc_date_fixed',\n",
       " 'time_burnt_fixed',\n",
       " 'time_burnt',\n",
       " 'month',\n",
       " 'year',\n",
       " 'statecode',\n",
       " 'division',\n",
       " 'yearmonth',\n",
       " 'pcp',\n",
       " 'tavg',\n",
       " 'pdsi',\n",
       " 'phdi',\n",
       " 'zndx',\n",
       " 'pmdi',\n",
       " 'cdd',\n",
       " 'hdd',\n",
       " 'sp02',\n",
       " 'sp03',\n",
       " 'sp06',\n",
       " 'sp09',\n",
       " 'sp12',\n",
       " 'sp24',\n",
       " 'tmin',\n",
       " 'tmax']"
      ]
     },
     "execution_count": 4,
     "metadata": {},
     "output_type": "execute_result"
    }
   ],
   "source": [
    "list(mfi_df.columns.values)"
   ]
  },
  {
   "cell_type": "code",
   "execution_count": 5,
   "metadata": {},
   "outputs": [],
   "source": [
    "# Drop the `Unnamed: 0` column.\n",
    "mfi_df.drop('Unnamed: 0', axis=1, inplace=True)\n",
    "\n",
    "# Drop NAs.\n",
    "# df.dropna(inplace=True)"
   ]
  },
  {
   "cell_type": "code",
   "execution_count": 6,
   "metadata": {},
   "outputs": [],
   "source": [
    "# Create dummies for the `ChestPain`, `Thal`, and `AHD` columns.\n",
    "# Be sure to set `drop_first=True`.\n",
    "mfi_df = pd.get_dummies(mfi_df,\n",
    "                    columns=['stat_cause_descr', 'state'],\n",
    "                    drop_first=True)"
   ]
  },
  {
   "cell_type": "code",
   "execution_count": 7,
   "metadata": {},
   "outputs": [],
   "source": [
    "mfi_df.drop(columns=['fire_year', 'cont_date_fixed', \n",
    "                        'disc_date_fixed', 'time_burnt', \n",
    "                        'statecode',\n",
    "                        'division', 'yearmonth'],\n",
    "                        axis = 1,\n",
    "                        inplace = True)"
   ]
  },
  {
   "cell_type": "code",
   "execution_count": 8,
   "metadata": {},
   "outputs": [
    {
     "data": {
      "text/html": [
       "<div>\n",
       "<style scoped>\n",
       "    .dataframe tbody tr th:only-of-type {\n",
       "        vertical-align: middle;\n",
       "    }\n",
       "\n",
       "    .dataframe tbody tr th {\n",
       "        vertical-align: top;\n",
       "    }\n",
       "\n",
       "    .dataframe thead th {\n",
       "        text-align: right;\n",
       "    }\n",
       "</style>\n",
       "<table border=\"1\" class=\"dataframe\">\n",
       "  <thead>\n",
       "    <tr style=\"text-align: right;\">\n",
       "      <th></th>\n",
       "      <th>fire_size</th>\n",
       "      <th>fire_size_class</th>\n",
       "      <th>time_burnt_fixed</th>\n",
       "      <th>month</th>\n",
       "      <th>year</th>\n",
       "      <th>pcp</th>\n",
       "      <th>tavg</th>\n",
       "      <th>pdsi</th>\n",
       "      <th>phdi</th>\n",
       "      <th>zndx</th>\n",
       "      <th>...</th>\n",
       "      <th>state_CA</th>\n",
       "      <th>state_CO</th>\n",
       "      <th>state_ID</th>\n",
       "      <th>state_MT</th>\n",
       "      <th>state_NM</th>\n",
       "      <th>state_NV</th>\n",
       "      <th>state_OR</th>\n",
       "      <th>state_UT</th>\n",
       "      <th>state_WA</th>\n",
       "      <th>state_WY</th>\n",
       "    </tr>\n",
       "  </thead>\n",
       "  <tbody>\n",
       "    <tr>\n",
       "      <th>0</th>\n",
       "      <td>0.10</td>\n",
       "      <td>A</td>\n",
       "      <td>0 days 00:00:00.000000000</td>\n",
       "      <td>2</td>\n",
       "      <td>2005</td>\n",
       "      <td>4.03</td>\n",
       "      <td>47.1</td>\n",
       "      <td>2.28</td>\n",
       "      <td>2.28</td>\n",
       "      <td>0.56</td>\n",
       "      <td>...</td>\n",
       "      <td>1</td>\n",
       "      <td>0</td>\n",
       "      <td>0</td>\n",
       "      <td>0</td>\n",
       "      <td>0</td>\n",
       "      <td>0</td>\n",
       "      <td>0</td>\n",
       "      <td>0</td>\n",
       "      <td>0</td>\n",
       "      <td>0</td>\n",
       "    </tr>\n",
       "    <tr>\n",
       "      <th>1</th>\n",
       "      <td>0.25</td>\n",
       "      <td>A</td>\n",
       "      <td>0 days 00:00:00.000000000</td>\n",
       "      <td>5</td>\n",
       "      <td>2004</td>\n",
       "      <td>0.45</td>\n",
       "      <td>63.2</td>\n",
       "      <td>-2.15</td>\n",
       "      <td>-2.15</td>\n",
       "      <td>-1.89</td>\n",
       "      <td>...</td>\n",
       "      <td>1</td>\n",
       "      <td>0</td>\n",
       "      <td>0</td>\n",
       "      <td>0</td>\n",
       "      <td>0</td>\n",
       "      <td>0</td>\n",
       "      <td>0</td>\n",
       "      <td>0</td>\n",
       "      <td>0</td>\n",
       "      <td>0</td>\n",
       "    </tr>\n",
       "    <tr>\n",
       "      <th>2</th>\n",
       "      <td>0.10</td>\n",
       "      <td>A</td>\n",
       "      <td>0 days 00:00:00.000000000</td>\n",
       "      <td>5</td>\n",
       "      <td>2004</td>\n",
       "      <td>0.45</td>\n",
       "      <td>63.2</td>\n",
       "      <td>-2.15</td>\n",
       "      <td>-2.15</td>\n",
       "      <td>-1.89</td>\n",
       "      <td>...</td>\n",
       "      <td>1</td>\n",
       "      <td>0</td>\n",
       "      <td>0</td>\n",
       "      <td>0</td>\n",
       "      <td>0</td>\n",
       "      <td>0</td>\n",
       "      <td>0</td>\n",
       "      <td>0</td>\n",
       "      <td>0</td>\n",
       "      <td>0</td>\n",
       "    </tr>\n",
       "    <tr>\n",
       "      <th>3</th>\n",
       "      <td>0.10</td>\n",
       "      <td>A</td>\n",
       "      <td>5 days 00:00:00.000000000</td>\n",
       "      <td>6</td>\n",
       "      <td>2004</td>\n",
       "      <td>0.08</td>\n",
       "      <td>70.4</td>\n",
       "      <td>-2.80</td>\n",
       "      <td>-2.80</td>\n",
       "      <td>-2.62</td>\n",
       "      <td>...</td>\n",
       "      <td>1</td>\n",
       "      <td>0</td>\n",
       "      <td>0</td>\n",
       "      <td>0</td>\n",
       "      <td>0</td>\n",
       "      <td>0</td>\n",
       "      <td>0</td>\n",
       "      <td>0</td>\n",
       "      <td>0</td>\n",
       "      <td>0</td>\n",
       "    </tr>\n",
       "    <tr>\n",
       "      <th>4</th>\n",
       "      <td>0.10</td>\n",
       "      <td>A</td>\n",
       "      <td>5 days 00:00:00.000000000</td>\n",
       "      <td>6</td>\n",
       "      <td>2004</td>\n",
       "      <td>0.08</td>\n",
       "      <td>70.4</td>\n",
       "      <td>-2.80</td>\n",
       "      <td>-2.80</td>\n",
       "      <td>-2.62</td>\n",
       "      <td>...</td>\n",
       "      <td>1</td>\n",
       "      <td>0</td>\n",
       "      <td>0</td>\n",
       "      <td>0</td>\n",
       "      <td>0</td>\n",
       "      <td>0</td>\n",
       "      <td>0</td>\n",
       "      <td>0</td>\n",
       "      <td>0</td>\n",
       "      <td>0</td>\n",
       "    </tr>\n",
       "  </tbody>\n",
       "</table>\n",
       "<p>5 rows × 43 columns</p>\n",
       "</div>"
      ],
      "text/plain": [
       "   fire_size fire_size_class           time_burnt_fixed  month  year   pcp  \\\n",
       "0       0.10               A  0 days 00:00:00.000000000      2  2005  4.03   \n",
       "1       0.25               A  0 days 00:00:00.000000000      5  2004  0.45   \n",
       "2       0.10               A  0 days 00:00:00.000000000      5  2004  0.45   \n",
       "3       0.10               A  5 days 00:00:00.000000000      6  2004  0.08   \n",
       "4       0.10               A  5 days 00:00:00.000000000      6  2004  0.08   \n",
       "\n",
       "   tavg  pdsi  phdi  zndx  ...  state_CA  state_CO  state_ID  state_MT  \\\n",
       "0  47.1  2.28  2.28  0.56  ...         1         0         0         0   \n",
       "1  63.2 -2.15 -2.15 -1.89  ...         1         0         0         0   \n",
       "2  63.2 -2.15 -2.15 -1.89  ...         1         0         0         0   \n",
       "3  70.4 -2.80 -2.80 -2.62  ...         1         0         0         0   \n",
       "4  70.4 -2.80 -2.80 -2.62  ...         1         0         0         0   \n",
       "\n",
       "   state_NM  state_NV  state_OR  state_UT  state_WA  state_WY  \n",
       "0         0         0         0         0         0         0  \n",
       "1         0         0         0         0         0         0  \n",
       "2         0         0         0         0         0         0  \n",
       "3         0         0         0         0         0         0  \n",
       "4         0         0         0         0         0         0  \n",
       "\n",
       "[5 rows x 43 columns]"
      ]
     },
     "execution_count": 8,
     "metadata": {},
     "output_type": "execute_result"
    }
   ],
   "source": [
    "mfi_df.head()"
   ]
  },
  {
   "cell_type": "code",
   "execution_count": 14,
   "metadata": {
    "scrolled": true
   },
   "outputs": [
    {
     "ename": "AttributeError",
     "evalue": "'Series' object has no attribute 'to_numeric'",
     "output_type": "error",
     "traceback": [
      "\u001b[0;31m---------------------------------------------------------------------------\u001b[0m",
      "\u001b[0;31mAttributeError\u001b[0m                            Traceback (most recent call last)",
      "\u001b[0;32m<ipython-input-14-5eb9912ee14e>\u001b[0m in \u001b[0;36m<module>\u001b[0;34m\u001b[0m\n\u001b[1;32m      1\u001b[0m \u001b[0;31m# Define X and y.\u001b[0m\u001b[0;34m\u001b[0m\u001b[0;34m\u001b[0m\u001b[0;34m\u001b[0m\u001b[0m\n\u001b[1;32m      2\u001b[0m \u001b[0mX\u001b[0m \u001b[0;34m=\u001b[0m \u001b[0mmfi_df\u001b[0m\u001b[0;34m.\u001b[0m\u001b[0mdrop\u001b[0m\u001b[0;34m(\u001b[0m\u001b[0mcolumns\u001b[0m\u001b[0;34m=\u001b[0m\u001b[0;34m[\u001b[0m\u001b[0;34m'fire_size'\u001b[0m\u001b[0;34m]\u001b[0m\u001b[0;34m)\u001b[0m\u001b[0;34m.\u001b[0m\u001b[0mselect_dtypes\u001b[0m\u001b[0;34m(\u001b[0m\u001b[0minclude\u001b[0m\u001b[0;34m=\u001b[0m\u001b[0;34m[\u001b[0m\u001b[0;34m'float64'\u001b[0m\u001b[0;34m]\u001b[0m\u001b[0;34m)\u001b[0m\u001b[0;34m\u001b[0m\u001b[0;34m\u001b[0m\u001b[0m\n\u001b[0;32m----> 3\u001b[0;31m \u001b[0my\u001b[0m \u001b[0;34m=\u001b[0m \u001b[0mmfi_df\u001b[0m\u001b[0;34m[\u001b[0m\u001b[0;34m'fire_size'\u001b[0m\u001b[0;34m]\u001b[0m\u001b[0;34m.\u001b[0m\u001b[0mto_numeric\u001b[0m\u001b[0;34m(\u001b[0m\u001b[0merrors\u001b[0m\u001b[0;34m=\u001b[0m\u001b[0;34m'coerce'\u001b[0m\u001b[0;34m)\u001b[0m\u001b[0;34m\u001b[0m\u001b[0;34m\u001b[0m\u001b[0m\n\u001b[0m",
      "\u001b[0;32m~/workspace/.venv/lib/python3.8/site-packages/pandas/core/generic.py\u001b[0m in \u001b[0;36m__getattr__\u001b[0;34m(self, name)\u001b[0m\n\u001b[1;32m   5458\u001b[0m             \u001b[0;32mif\u001b[0m \u001b[0mself\u001b[0m\u001b[0;34m.\u001b[0m\u001b[0m_info_axis\u001b[0m\u001b[0;34m.\u001b[0m\u001b[0m_can_hold_identifiers_and_holds_name\u001b[0m\u001b[0;34m(\u001b[0m\u001b[0mname\u001b[0m\u001b[0;34m)\u001b[0m\u001b[0;34m:\u001b[0m\u001b[0;34m\u001b[0m\u001b[0;34m\u001b[0m\u001b[0m\n\u001b[1;32m   5459\u001b[0m                 \u001b[0;32mreturn\u001b[0m \u001b[0mself\u001b[0m\u001b[0;34m[\u001b[0m\u001b[0mname\u001b[0m\u001b[0;34m]\u001b[0m\u001b[0;34m\u001b[0m\u001b[0;34m\u001b[0m\u001b[0m\n\u001b[0;32m-> 5460\u001b[0;31m             \u001b[0;32mreturn\u001b[0m \u001b[0mobject\u001b[0m\u001b[0;34m.\u001b[0m\u001b[0m__getattribute__\u001b[0m\u001b[0;34m(\u001b[0m\u001b[0mself\u001b[0m\u001b[0;34m,\u001b[0m \u001b[0mname\u001b[0m\u001b[0;34m)\u001b[0m\u001b[0;34m\u001b[0m\u001b[0;34m\u001b[0m\u001b[0m\n\u001b[0m\u001b[1;32m   5461\u001b[0m \u001b[0;34m\u001b[0m\u001b[0m\n\u001b[1;32m   5462\u001b[0m     \u001b[0;32mdef\u001b[0m \u001b[0m__setattr__\u001b[0m\u001b[0;34m(\u001b[0m\u001b[0mself\u001b[0m\u001b[0;34m,\u001b[0m \u001b[0mname\u001b[0m\u001b[0;34m:\u001b[0m \u001b[0mstr\u001b[0m\u001b[0;34m,\u001b[0m \u001b[0mvalue\u001b[0m\u001b[0;34m)\u001b[0m \u001b[0;34m->\u001b[0m \u001b[0;32mNone\u001b[0m\u001b[0;34m:\u001b[0m\u001b[0;34m\u001b[0m\u001b[0;34m\u001b[0m\u001b[0m\n",
      "\u001b[0;31mAttributeError\u001b[0m: 'Series' object has no attribute 'to_numeric'"
     ]
    }
   ],
   "source": [
    "# Define X and y.\n",
    "X = mfi_df.drop(columns=['fire_size']).select_dtypes(include=['float64'])\n",
    "y = mfi_df['fire_size'].to_numeric()"
   ]
  },
  {
   "cell_type": "code",
   "execution_count": null,
   "metadata": {},
   "outputs": [],
   "source": [
    "X.shape"
   ]
  },
  {
   "cell_type": "code",
   "execution_count": null,
   "metadata": {},
   "outputs": [],
   "source": [
    "y.shape"
   ]
  },
  {
   "cell_type": "code",
   "execution_count": null,
   "metadata": {},
   "outputs": [],
   "source": [
    "# Split data into training and testing sets.\n",
    "X_train, X_test, y_train, y_test = train_test_split(X,\n",
    "                                                    y,\n",
    "                                                    random_state=42,\n",
    "                                                   )"
   ]
  },
  {
   "cell_type": "code",
   "execution_count": null,
   "metadata": {},
   "outputs": [],
   "source": [
    "# What is the accuracy of our baseline model?\n",
    "y.value_counts(normalize=True)"
   ]
  },
  {
   "cell_type": "code",
   "execution_count": null,
   "metadata": {},
   "outputs": [],
   "source": [
    "# Instantiate `RandomForestClassifier` object.\n",
    "rf = RandomForestClassifier(n_estimators=100)\n",
    "et = ExtraTreesClassifier(n_estimators=100)\n",
    "\n",
    "rf.fit(X_train, y_train)"
   ]
  },
  {
   "cell_type": "code",
   "execution_count": null,
   "metadata": {},
   "outputs": [],
   "source": [
    "# Fit and score on the training data.\n",
    "cross_val_score(rf, X_train, y_train, cv=5).mean()"
   ]
  },
  {
   "cell_type": "code",
   "execution_count": null,
   "metadata": {},
   "outputs": [],
   "source": [
    "# Fit and score on the training data.\n",
    "cross_val_score(et, X_train, y_train, cv=5).mean()"
   ]
  },
  {
   "cell_type": "code",
   "execution_count": null,
   "metadata": {},
   "outputs": [],
   "source": [
    "# Score on the testing data.\n",
    "tree.score(X_test, y_test)"
   ]
  },
  {
   "cell_type": "code",
   "execution_count": null,
   "metadata": {},
   "outputs": [],
   "source": [
    "# Generate one bootstrapped sample\n",
    "# of size n from X_train.\n",
    "\n",
    "X_train.sample(n = X_train.shape[0],\n",
    "               replace = True,\n",
    "               random_state = 42)\n",
    "\n",
    "def bootstrap(data, num_B):\n",
    "    # Create empty list for output.\n",
    "    output = []\n",
    "    \n",
    "    # Generate num_B bootstrapped samples.\n",
    "    for B in range(num_B):\n",
    "        \n",
    "        # Each sample is sampled from data with\n",
    "        # the same sample size as the original\n",
    "        # data, and samples with replacement.\n",
    "        bootstrapped_sample = data.sample(n = data.shape[0],\n",
    "                                        replace = True)\n",
    "        \n",
    "        # Append sample to list.\n",
    "        output.append(bootstrapped_sample)\n",
    "        \n",
    "    # Returns num_B bootstrapped samples in list.\n",
    "    return output\n",
    "\n",
    "# Adapted from Boom D. - NYC\n"
   ]
  },
  {
   "cell_type": "code",
   "execution_count": null,
   "metadata": {},
   "outputs": [],
   "source": [
    "# Set seed for reproducibility.\n",
    "np.random.seed(42)\n",
    "\n",
    "# Generate five bootstrapped samples from X_train.\n",
    "boot_samp = bootstrap(X_train, 5)\n",
    "\n",
    "# Plot cholesterol level for each bootstrapped sample.\n",
    "for B in range(5):\n",
    "    plt.figure(figsize = (9,6))\n",
    "    plt.hist(boot_samp[B]['Chol'])\n",
    "    plt.title(f'Bootstrapped Sample {B + 1} of Cholesterol Level');"
   ]
  }
 ],
 "metadata": {
  "kernelspec": {
   "display_name": "Python 3",
   "language": "python",
   "name": "python3"
  },
  "language_info": {
   "codemirror_mode": {
    "name": "ipython",
    "version": 3
   },
   "file_extension": ".py",
   "mimetype": "text/x-python",
   "name": "python",
   "nbconvert_exporter": "python",
   "pygments_lexer": "ipython3",
   "version": "3.8.3"
  }
 },
 "nbformat": 4,
 "nbformat_minor": 4
}
