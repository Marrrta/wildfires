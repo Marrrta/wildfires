{
  "nbformat": 4,
  "nbformat_minor": 0,
  "metadata": {
    "colab": {
      "name": "models.ipynb",
      "provenance": [],
      "collapsed_sections": [
        "jRUpNQ_sdszw",
        "ejWbHtqSdszx",
        "By0ndladdszy"
      ],
      "machine_shape": "hm"
    },
    "kernelspec": {
      "display_name": "Python 3",
      "language": "python",
      "name": "python3"
    },
    "language_info": {
      "codemirror_mode": {
        "name": "ipython",
        "version": 3
      },
      "file_extension": ".py",
      "mimetype": "text/x-python",
      "name": "python",
      "nbconvert_exporter": "python",
      "pygments_lexer": "ipython3",
      "version": "3.8.3"
    }
  },
  "cells": [
    {
      "cell_type": "markdown",
      "metadata": {
        "id": "WPAV7zw1dszh"
      },
      "source": [
        "# Modeling"
      ]
    },
    {
      "cell_type": "markdown",
      "metadata": {
        "id": "VTtLznL4dszn"
      },
      "source": [
        "## Marta ---------------------------------------------------------"
      ]
    },
    {
      "cell_type": "markdown",
      "metadata": {
        "id": "9aJCqXMUdszn"
      },
      "source": [
        "put all of your code between here and the next person's name only"
      ]
    },
    {
      "cell_type": "code",
      "metadata": {
        "id": "KPeI3XU1dszo"
      },
      "source": [
        "import pandas as pd\n",
        "import numpy as np\n",
        "\n",
        "from sklearn.linear_model import LinearRegression, Lasso, LogisticRegression\n",
        "from sklearn.model_selection import train_test_split, GridSearchCV, StratifiedKFold\n",
        "from sklearn.preprocessing import StandardScaler\n",
        "from sklearn.svm import SVC\n",
        "\n",
        "from sklearn.metrics import plot_confusion_matrix, recall_score, accuracy_score, f1_score, make_scorer, precision_score"
      ],
      "execution_count": null,
      "outputs": []
    },
    {
      "cell_type": "code",
      "metadata": {
        "colab": {
          "base_uri": "https://localhost:8080/"
        },
        "id": "X_GMPCiQm8EY",
        "outputId": "1067adff-4b85-419e-dc89-2dd17f6f5716"
      },
      "source": [
        "from google.colab import drive\n",
        "drive.mount('/content/drive')"
      ],
      "execution_count": null,
      "outputs": [
        {
          "output_type": "stream",
          "text": [
            "Mounted at /content/drive\n"
          ],
          "name": "stdout"
        }
      ]
    },
    {
      "cell_type": "code",
      "metadata": {
        "id": "_F7hQyHWoFfi"
      },
      "source": [
        "#with open('/content/drive/My Drive/Colab Notebooks/mdi_df_yr_trail.csv', 'r') as data:\n",
        "#  noaa_on_fire = pd.read_csv(data)"
      ],
      "execution_count": null,
      "outputs": []
    },
    {
      "cell_type": "code",
      "metadata": {
        "id": "DcubP-XpotkX"
      },
      "source": [
        "noaa_on_fire =  pd.read_csv('/content/drive/My Drive/Colab Notebooks/mdi_df_yr_trail.csv')"
      ],
      "execution_count": null,
      "outputs": []
    },
    {
      "cell_type": "code",
      "metadata": {
        "id": "zevN-qtFdszp"
      },
      "source": [
        "noaa_on_fire = pd.get_dummies(noaa_on_fire, columns=['state', 'month'], drop_first= True)"
      ],
      "execution_count": null,
      "outputs": []
    },
    {
      "cell_type": "code",
      "metadata": {
        "colab": {
          "base_uri": "https://localhost:8080/"
        },
        "id": "-Js_xUo2dszp",
        "outputId": "ad742209-d6d2-4983-8a9c-fa681bab8874"
      },
      "source": [
        "noaa_on_fire.columns"
      ],
      "execution_count": null,
      "outputs": [
        {
          "output_type": "execute_result",
          "data": {
            "text/plain": [
              "Index(['Unnamed: 0', 'stat_cause_descr', 'fire_size', 'fire_size_class',\n",
              "       'cont_date_fixed', 'disc_date_fixed', 'time_burnt', 'year', 'yearmonth',\n",
              "       'pcp', 'tavg', 'pdsi', 'phdi', 'zndx', 'pmdi', 'cdd', 'hdd', 'sp02',\n",
              "       'sp03', 'sp06', 'sp09', 'sp12', 'sp24', 'tmin', 'tmax', 'tavg_t12m',\n",
              "       'tavg_t9m', 'tavg_t6m', 'tavg_t3m', 'pcp_t12m', 'pcp_t9m', 'pcp_t6m',\n",
              "       'pcp_t3m', 'pmdi_t12m', 'pmdi_t9m', 'pmdi_t6m', 'pmdi_t3m', 'pdsi_t12m',\n",
              "       'pdsi_t9m', 'pdsi_t6m', 'pdsi_t3m', 'state_CA', 'state_CO', 'state_ID',\n",
              "       'state_MT', 'state_NM', 'state_NV', 'state_OR', 'state_UT', 'state_WA',\n",
              "       'state_WY', 'month_2', 'month_3', 'month_4', 'month_5', 'month_6',\n",
              "       'month_7', 'month_8', 'month_9', 'month_10', 'month_11', 'month_12'],\n",
              "      dtype='object')"
            ]
          },
          "metadata": {
            "tags": []
          },
          "execution_count": 7
        }
      ]
    },
    {
      "cell_type": "code",
      "metadata": {
        "colab": {
          "base_uri": "https://localhost:8080/"
        },
        "id": "2F-syCNgdszq",
        "outputId": "eebf26c0-6ff5-4b3e-dc5e-820d26695265"
      },
      "source": [
        "noaa_on_fire['stat_cause_descr'].unique()\n",
        "not_stupidity = ['Miscellaneous',  'Railroad', 'Powerline', 'Lightning', 'Missing/Undefined', 'Fireworks']\n",
        "noaa_on_fire['caused_by_stupidity'] = noaa_on_fire['stat_cause_descr'].apply(lambda x: 0 if x in not_stupidity else 1)\n",
        "noaa_on_fire['caused_by_stupidity'].sum()"
      ],
      "execution_count": null,
      "outputs": [
        {
          "output_type": "execute_result",
          "data": {
            "text/plain": [
              "134952"
            ]
          },
          "metadata": {
            "tags": []
          },
          "execution_count": 7
        }
      ]
    },
    {
      "cell_type": "code",
      "metadata": {
        "id": "BbW7spO0dszq"
      },
      "source": [
        "noaa_on_fire = noaa_on_fire[noaa_on_fire['caused_by_stupidity'] == 0]"
      ],
      "execution_count": null,
      "outputs": []
    },
    {
      "cell_type": "code",
      "metadata": {
        "id": "dU3qi4OSdszq"
      },
      "source": [
        "X_vars = ['state_CA', 'state_CO', 'state_ID',\n",
        "       'state_MT', 'state_NM', 'state_NV', 'state_OR', 'state_UT', 'state_WA',\n",
        "       'state_WY', 'month_2', 'month_3', 'month_4', 'month_5', 'month_6',\n",
        "       'month_7', 'month_8', 'month_9', 'month_10', 'month_11', 'month_12','tavg_t3m', 'pcp_t12m', 'pmdi_t12m']\n",
        "\n",
        "noaa_on_fire = noaa_on_fire.dropna(subset = X_vars)"
      ],
      "execution_count": null,
      "outputs": []
    },
    {
      "cell_type": "code",
      "metadata": {
        "id": "BXveoMjBdszq"
      },
      "source": [
        "y = noaa_on_fire['fire_size']\n",
        "\n",
        "X = noaa_on_fire[X_vars]"
      ],
      "execution_count": null,
      "outputs": []
    },
    {
      "cell_type": "code",
      "metadata": {
        "id": "fG8noXbBdszr"
      },
      "source": [
        "X_train, X_test, y_train, y_test = train_test_split(X,y)\n",
        "\n",
        "stan = StandardScaler()\n",
        "X_train = stan.fit_transform(X_train)\n",
        "X_test = stan.transform(X_test)"
      ],
      "execution_count": null,
      "outputs": []
    },
    {
      "cell_type": "markdown",
      "metadata": {
        "id": "FkrcYi7odszr"
      },
      "source": [
        "REGRESSION"
      ]
    },
    {
      "cell_type": "code",
      "metadata": {
        "id": "Vhht9-YHdszr"
      },
      "source": [
        "lr = LinearRegression()\n",
        "lasso = Lasso()"
      ],
      "execution_count": null,
      "outputs": []
    },
    {
      "cell_type": "code",
      "metadata": {
        "id": "N0yPKOo-dszr",
        "outputId": "fc887995-fde4-45e8-97fe-e87591e91fb1"
      },
      "source": [
        "for q in [0, 0.1, 0.15, 0.2, 0.25, 0.3, 0.35, 0.4, 0.45, 0.5]:\n",
        "    print(f\"Using data corresponding to fire size > {q} quantile:\")\n",
        "    noaa_on_fire = noaa_on_fire[noaa_on_fire['fire_size']> noaa_on_fire['fire_size'].quantile(q)]\n",
        "    X_train, X_test, y_train, y_test = train_test_split(X,y)\n",
        "\n",
        "    stan = StandardScaler()\n",
        "    X_train = stan.fit_transform(X_train)\n",
        "    X_test = stan.transform(X_test)\n",
        "    \n",
        "    lr = LinearRegression()\n",
        "    lasso = Lasso()\n",
        "    \n",
        "    lr.fit(X_train, y_train)\n",
        "    lasso.fit(X_train, y_train)\n",
        "    print(f\"Linear Regression achieves R2 of {round(lr.score(X_train, y_train),4)} on train data and {round(lr.score(X_test, y_test),4)} on test data.\")\n",
        "    print(f\"Lasso Regression achieves R2 of {round(lasso.score(X_train, y_train),4)} on train data and {round(lasso.score(X_test, y_test),4)} on test data.\\n\")"
      ],
      "execution_count": null,
      "outputs": [
        {
          "output_type": "stream",
          "text": [
            "Using data corresponding to fire size > 0 quantile:\n",
            "Linear Regression achieves R2 of 0.0027 on train data and 0.0034 on test data.\n",
            "Lasso Regression achieves R2 of 0.0027 on train data and 0.0034 on test data.\n",
            "\n",
            "Using data corresponding to fire size > 0.1 quantile:\n",
            "Linear Regression achieves R2 of 0.0028 on train data and 0.003 on test data.\n",
            "Lasso Regression achieves R2 of 0.0028 on train data and 0.0031 on test data.\n",
            "\n",
            "Using data corresponding to fire size > 0.15 quantile:\n",
            "Linear Regression achieves R2 of 0.0028 on train data and 0.0028 on test data.\n",
            "Lasso Regression achieves R2 of 0.0028 on train data and 0.0028 on test data.\n",
            "\n",
            "Using data corresponding to fire size > 0.2 quantile:\n",
            "Linear Regression achieves R2 of 0.0029 on train data and 0.0027 on test data.\n",
            "Lasso Regression achieves R2 of 0.0029 on train data and 0.0027 on test data.\n",
            "\n",
            "Using data corresponding to fire size > 0.25 quantile:\n",
            "Linear Regression achieves R2 of 0.0032 on train data and 0.0017 on test data.\n",
            "Lasso Regression achieves R2 of 0.0032 on train data and 0.0018 on test data.\n",
            "\n",
            "Using data corresponding to fire size > 0.3 quantile:\n",
            "Linear Regression achieves R2 of 0.0032 on train data and 0.0022 on test data.\n",
            "Lasso Regression achieves R2 of 0.0032 on train data and 0.0022 on test data.\n",
            "\n",
            "Using data corresponding to fire size > 0.35 quantile:\n",
            "Linear Regression achieves R2 of 0.0032 on train data and 0.0019 on test data.\n",
            "Lasso Regression achieves R2 of 0.0032 on train data and 0.0019 on test data.\n",
            "\n",
            "Using data corresponding to fire size > 0.4 quantile:\n",
            "Linear Regression achieves R2 of 0.0025 on train data and 0.0043 on test data.\n",
            "Lasso Regression achieves R2 of 0.0025 on train data and 0.0043 on test data.\n",
            "\n",
            "Using data corresponding to fire size > 0.45 quantile:\n",
            "Linear Regression achieves R2 of 0.0029 on train data and 0.0028 on test data.\n",
            "Lasso Regression achieves R2 of 0.0029 on train data and 0.0028 on test data.\n",
            "\n",
            "Using data corresponding to fire size > 0.5 quantile:\n",
            "Linear Regression achieves R2 of 0.0035 on train data and 0.001 on test data.\n",
            "Lasso Regression achieves R2 of 0.0035 on train data and 0.001 on test data.\n",
            "\n"
          ],
          "name": "stdout"
        }
      ]
    },
    {
      "cell_type": "markdown",
      "metadata": {
        "id": "c4puctQ_dszs"
      },
      "source": [
        "Note: best LR with all quantiled data has R2 of 0.0016"
      ]
    },
    {
      "cell_type": "markdown",
      "metadata": {
        "id": "BD_HWAtgdszs"
      },
      "source": [
        "CLASSIFICATION"
      ]
    },
    {
      "cell_type": "code",
      "metadata": {
        "id": "SAsC1fIJdszs"
      },
      "source": [
        "X_vars = ['state_CA', 'state_CO', 'state_ID',\n",
        "       'state_MT', 'state_NM', 'state_NV', 'state_OR', 'state_UT', 'state_WA',\n",
        "       'state_WY', 'month_2', 'month_3', 'month_4', 'month_5', 'month_6',\n",
        "       'month_7', 'month_8', 'month_9', 'month_10', 'month_11', 'month_12','tavg_t12m',\n",
        "       'tavg_t9m', 'tavg_t6m', 'tavg_t3m', 'pcp_t12m', 'pcp_t9m', 'pcp_t6m',\n",
        "       'pcp_t3m', 'pmdi_t12m', 'pmdi_t9m', 'pmdi_t6m', 'pmdi_t3m', 'pdsi_t12m',\n",
        "       'pdsi_t9m', 'pdsi_t6m', 'pdsi_t3m']\n",
        "\n",
        "noaa_on_fire = noaa_on_fire.dropna(subset = X_vars)\n",
        "\n",
        "X = noaa_on_fire[X_vars]\n",
        "y = noaa_on_fire['fire_size_class']"
      ],
      "execution_count": null,
      "outputs": []
    },
    {
      "cell_type": "code",
      "metadata": {
        "id": "msIW6duvdszs"
      },
      "source": [
        "X_train, X_test, y_train, y_test = train_test_split(X,y)\n",
        "\n",
        "stan = StandardScaler()\n",
        "X_train = stan.fit_transform(X_train)\n",
        "X_test = stan.transform(X_test)"
      ],
      "execution_count": null,
      "outputs": []
    },
    {
      "cell_type": "code",
      "metadata": {
        "colab": {
          "base_uri": "https://localhost:8080/"
        },
        "id": "LX9QjelMdszs",
        "outputId": "ca73394c-ced0-4fdd-ad51-e2f4923cb56d"
      },
      "source": [
        "logr = LogisticRegression(max_iter = 10000)\n",
        "logr.fit(X_train, y_train)\n",
        "print(f\"Logistic Regression achieves accuracy of {round(logr.score(X_train, y_train),4)} on train data and {round(logr.score(X_test, y_test),4)} on test data.\")\n"
      ],
      "execution_count": 16,
      "outputs": [
        {
          "output_type": "stream",
          "text": [
            "Logistic Regression achieves accuracy of 0.6197 on train data and 0.6151 on test data.\n"
          ],
          "name": "stdout"
        }
      ]
    },
    {
      "cell_type": "code",
      "metadata": {
        "colab": {
          "base_uri": "https://localhost:8080/"
        },
        "id": "_yDyzlpv1eNX",
        "outputId": "a5daee2e-a6fc-4296-85ed-07941039f661"
      },
      "source": [
        "recall_score(y_train, logr.predict(X_train), average = 'weighted')"
      ],
      "execution_count": 17,
      "outputs": [
        {
          "output_type": "execute_result",
          "data": {
            "text/plain": [
              "0.6196530319287055"
            ]
          },
          "metadata": {
            "tags": []
          },
          "execution_count": 17
        }
      ]
    },
    {
      "cell_type": "code",
      "metadata": {
        "colab": {
          "base_uri": "https://localhost:8080/",
          "height": 279
        },
        "id": "IPDz1N2ddszt",
        "outputId": "36a222c7-d801-4e00-d4f9-994cb7875605"
      },
      "source": [
        "plot_confusion_matrix(logr, X_test, y_test, cmap = 'YlOrBr', normalize= 'true');"
      ],
      "execution_count": 18,
      "outputs": [
        {
          "output_type": "display_data",
          "data": {
            "image/png": "[encoded data removed]",
            "text/plain": [
              "<Figure size 432x288 with 2 Axes>"
            ]
          },
          "metadata": {
            "tags": [],
            "needs_background": "light"
          }
        }
      ]
    },
    {
      "cell_type": "markdown",
      "metadata": {
        "id": "1ULRo9lZdszt"
      },
      "source": [
        "REGRESSION WITH BOOTSTRAPPING"
      ]
    },
    {
      "cell_type": "markdown",
      "metadata": {
        "id": "HcYN-tY7dszt"
      },
      "source": [
        "Adding more representation of classes C, D, ..., G by including re-sampled observations with fire_size > 10 (which corresponds to those under-represented classes)"
      ]
    },
    {
      "cell_type": "code",
      "metadata": {
        "id": "4ol-vz-ddszt"
      },
      "source": [
        "noaa_on_fire_btstrp = pd.concat([noaa_on_fire, \n",
        "                                 noaa_on_fire[noaa_on_fire['fire_size_class'] == 'C'].sample(n = 100000, replace = True, random_state=11),\n",
        "                                 noaa_on_fire[noaa_on_fire['fire_size_class'] == 'D'].sample(n = 100000, replace = True, random_state=11),\n",
        "                                 noaa_on_fire[noaa_on_fire['fire_size_class'] == 'E'].sample(n = 100000, replace = True, random_state=11),\n",
        "                                 noaa_on_fire[noaa_on_fire['fire_size_class'] == 'F'].sample(n = 100000, replace = True, random_state=11),\n",
        "                                 noaa_on_fire[noaa_on_fire['fire_size_class'] == 'G'].sample(n = 100000, replace = True, random_state=11)], axis = 0)"
      ],
      "execution_count": 19,
      "outputs": []
    },
    {
      "cell_type": "code",
      "metadata": {
        "id": "f9YzLSzNvUJF"
      },
      "source": [
        "noaa_on_fire = noaa_on_fire.dropna(subset = X_vars)\n",
        "\n",
        "X_vars = ['state_CA', 'state_CO', 'state_ID',\n",
        "       'state_MT', 'state_NM', 'state_NV', 'state_OR', 'state_UT', 'state_WA',\n",
        "       'state_WY', 'month_2', 'month_3', 'month_4', 'month_5', 'month_6',\n",
        "       'month_7', 'month_8', 'month_9', 'month_10', 'month_11', 'month_12','tavg_t12m',\n",
        "       'tavg_t9m', 'tavg_t6m', 'tavg_t3m', 'pcp_t12m', 'pcp_t9m', 'pcp_t6m',\n",
        "       'pcp_t3m', 'pmdi_t12m', 'pmdi_t9m', 'pmdi_t6m', 'pmdi_t3m', 'pdsi_t12m',\n",
        "       'pdsi_t9m', 'pdsi_t6m', 'pdsi_t3m', 'zndx', 'cdd', 'hdd']\n",
        "X = noaa_on_fire_btstrp[X_vars]\n",
        "y = noaa_on_fire_btstrp['fire_size_class']"
      ],
      "execution_count": 20,
      "outputs": []
    },
    {
      "cell_type": "code",
      "metadata": {
        "id": "YG7uJ3Xadszu"
      },
      "source": [
        "X_train, X_test, y_train, y_test = train_test_split(X,y, stratify = y)\n",
        "\n",
        "stan = StandardScaler()\n",
        "X_train = stan.fit_transform(X_train)\n",
        "X_test = stan.transform(X_test)"
      ],
      "execution_count": 21,
      "outputs": []
    },
    {
      "cell_type": "code",
      "metadata": {
        "colab": {
          "base_uri": "https://localhost:8080/"
        },
        "id": "DZReL1ERdszu",
        "outputId": "354f5f23-70cb-4945-9b04-57645bb07928"
      },
      "source": [
        "logr_b = LogisticRegression(max_iter = 10000)\n",
        "logr_b.fit(X_train, y_train)\n",
        "print(f\"Logistic Regression achieves accuracy of {round(logr_b.score(X_train, y_train),4)} on train data and {round(logr_b.score(X_test, y_test),4)} on test data.\")"
      ],
      "execution_count": 22,
      "outputs": [
        {
          "output_type": "stream",
          "text": [
            "Logistic Regression achieves accuracy of 0.2549 on train data and 0.2545 on test data.\n"
          ],
          "name": "stdout"
        }
      ]
    },
    {
      "cell_type": "code",
      "metadata": {
        "colab": {
          "base_uri": "https://localhost:8080/",
          "height": 279
        },
        "id": "49mUYz8odszv",
        "outputId": "465b7a7f-05f0-4902-eee6-a768315eca41"
      },
      "source": [
        "plot_confusion_matrix(logr_b, X_test, y_test,cmap = 'YlOrBr', normalize = 'true');"
      ],
      "execution_count": null,
      "outputs": [
        {
          "output_type": "display_data",
          "data": {
            "image/png": "[encoded data removed]",
            "text/plain": [
              "<Figure size 432x288 with 2 Axes>"
            ]
          },
          "metadata": {
            "tags": []
          }
        }
      ]
    },
    {
      "cell_type": "markdown",
      "metadata": {
        "id": "ZIRIr1Zzx6o7"
      },
      "source": [
        "Applying class weights to stress importance of G, F, E, D relative to smaller fires"
      ]
    },
    {
      "cell_type": "code",
      "metadata": {
        "colab": {
          "base_uri": "https://localhost:8080/"
        },
        "id": "QVWfRvNnx5Bn",
        "outputId": "167f30ba-08ea-4637-839e-109d4fbf7506"
      },
      "source": [
        "LogisticRegression(class_weight = {'A':0.05, 'B': 0.05, 'C': 0.05, 'D': 0.1, 'E': 0.2, 'F': 0.25, 'G': 0.3},  max_iter = 10000, verbose = 1)\n",
        "logr_w = LogisticRegression(max_iter = 10000)\n",
        "logr_w.fit(X_train, y_train)\n",
        "print(f\"Logistic Regression achieves accuracy of {round(logr_w.score(X_train, y_train),4)} on train data and {round(logr_w.score(X_test, y_test),4)} on test data.\")"
      ],
      "execution_count": 23,
      "outputs": [
        {
          "output_type": "stream",
          "text": [
            "Logistic Regression achieves accuracy of 0.2549 on train data and 0.2545 on test data.\n"
          ],
          "name": "stdout"
        }
      ]
    },
    {
      "cell_type": "code",
      "metadata": {
        "colab": {
          "base_uri": "https://localhost:8080/"
        },
        "id": "tiSh7Gck1Kju",
        "outputId": "adbdeb1e-f376-45ed-9c9c-9b0c86d8d8ae"
      },
      "source": [
        "f1_score(y_train, logr_w.predict(X_train), average = 'weighted')"
      ],
      "execution_count": 25,
      "outputs": [
        {
          "output_type": "execute_result",
          "data": {
            "text/plain": [
              "0.19075727223291086"
            ]
          },
          "metadata": {
            "tags": []
          },
          "execution_count": 25
        }
      ]
    },
    {
      "cell_type": "code",
      "metadata": {
        "colab": {
          "base_uri": "https://localhost:8080/"
        },
        "id": "dvr3EpwmzxF7",
        "outputId": "f57aa675-c7b4-4865-8970-9b03489bcb82"
      },
      "source": [
        "print(f\"Logistic Regression achieves recall of {round(recall_score(y_train, logr_w.predict(X_train), average = 'weighted'),4)} on train data and {round(recall_score(y_test, logr_w.predict(X_test), average = 'weighted'),4)} on test data.\")"
      ],
      "execution_count": 26,
      "outputs": [
        {
          "output_type": "stream",
          "text": [
            "Logistic Regression achieves recall of 0.2549 on train data and 0.2545 on test data.\n"
          ],
          "name": "stdout"
        }
      ]
    },
    {
      "cell_type": "code",
      "metadata": {
        "colab": {
          "base_uri": "https://localhost:8080/",
          "height": 279
        },
        "id": "OJlNUD8lyPyv",
        "outputId": "61cc7795-983a-4f46-ba57-9bc6d3062bef"
      },
      "source": [
        "plot_confusion_matrix(logr_w, X_test, y_test,cmap = 'YlOrBr', normalize = 'true');"
      ],
      "execution_count": 27,
      "outputs": [
        {
          "output_type": "display_data",
          "data": {
            "image/png": "[encoded data removed]",
            "text/plain": [
              "<Figure size 432x288 with 2 Axes>"
            ]
          },
          "metadata": {
            "tags": [],
            "needs_background": "light"
          }
        }
      ]
    },
    {
      "cell_type": "markdown",
      "metadata": {
        "id": "UUEp28i5uSQ0"
      },
      "source": [
        "Tuning parameters to improve accuracy (recall?) - *couldn't afford to let this run to completion...*"
      ]
    },
    {
      "cell_type": "code",
      "metadata": {
        "colab": {
          "base_uri": "https://localhost:8080/"
        },
        "id": "jtSrVLMr4gWv",
        "outputId": "f4b062ab-a982-4010-a780-08814e151285"
      },
      "source": [
        "logr_w.get_params"
      ],
      "execution_count": null,
      "outputs": [
        {
          "output_type": "execute_result",
          "data": {
            "text/plain": [
              "<bound method BaseEstimator.get_params of LogisticRegression(C=1.0, class_weight=None, dual=False, fit_intercept=True,\n",
              "                   intercept_scaling=1, l1_ratio=None, max_iter=10000,\n",
              "                   multi_class='auto', n_jobs=None, penalty='l2',\n",
              "                   random_state=None, solver='lbfgs', tol=0.0001, verbose=0,\n",
              "                   warm_start=False)>"
            ]
          },
          "metadata": {
            "tags": []
          },
          "execution_count": 30
        }
      ]
    },
    {
      "cell_type": "code",
      "metadata": {
        "id": "wf8nKlBAvKWV"
      },
      "source": [
        "params= {\n",
        "    'C': np.linspace(0,1,5), \n",
        "    'solver': ['lbfgs','newton-cg', 'lbfgs', 'sag', 'saga'],\n",
        "}"
      ],
      "execution_count": 28,
      "outputs": []
    },
    {
      "cell_type": "code",
      "metadata": {
        "colab": {
          "base_uri": "https://localhost:8080/",
          "height": 358
        },
        "id": "KwgxFhmy6Mne",
        "outputId": "a79f2f09-ff77-4dbc-d667-5d7550ce59b2"
      },
      "source": [
        "logr_gs = GridSearchCV(logr_w, param_grid = params, cv = 5, verbose = 1, n_jobs = -1 )\n",
        "logr_gs.fit(X_train, y_train)"
      ],
      "execution_count": 30,
      "outputs": [
        {
          "output_type": "stream",
          "text": [
            "Fitting 5 folds for each of 25 candidates, totalling 125 fits\n"
          ],
          "name": "stdout"
        },
        {
          "output_type": "stream",
          "text": [
            "[Parallel(n_jobs=-1)]: Using backend LokyBackend with 4 concurrent workers.\n"
          ],
          "name": "stderr"
        },
        {
          "output_type": "error",
          "ename": "KeyboardInterrupt",
          "evalue": "ignored",
          "traceback": [
            "\u001b[0;31m---------------------------------------------------------------------------\u001b[0m",
            "\u001b[0;31mKeyboardInterrupt\u001b[0m                         Traceback (most recent call last)",
            "\u001b[0;32m<ipython-input-30-2efbf38137ea>\u001b[0m in \u001b[0;36m<module>\u001b[0;34m()\u001b[0m\n\u001b[1;32m      1\u001b[0m \u001b[0mlogr_gs\u001b[0m \u001b[0;34m=\u001b[0m \u001b[0mGridSearchCV\u001b[0m\u001b[0;34m(\u001b[0m\u001b[0mlogr_w\u001b[0m\u001b[0;34m,\u001b[0m \u001b[0mparam_grid\u001b[0m \u001b[0;34m=\u001b[0m \u001b[0mparams\u001b[0m\u001b[0;34m,\u001b[0m \u001b[0mcv\u001b[0m \u001b[0;34m=\u001b[0m \u001b[0;36m5\u001b[0m\u001b[0;34m,\u001b[0m \u001b[0mverbose\u001b[0m \u001b[0;34m=\u001b[0m \u001b[0;36m1\u001b[0m\u001b[0;34m,\u001b[0m \u001b[0mn_jobs\u001b[0m \u001b[0;34m=\u001b[0m \u001b[0;34m-\u001b[0m\u001b[0;36m1\u001b[0m \u001b[0;34m)\u001b[0m\u001b[0;34m\u001b[0m\u001b[0;34m\u001b[0m\u001b[0m\n\u001b[0;32m----> 2\u001b[0;31m \u001b[0mlogr_gs\u001b[0m\u001b[0;34m.\u001b[0m\u001b[0mfit\u001b[0m\u001b[0;34m(\u001b[0m\u001b[0mX_train\u001b[0m\u001b[0;34m,\u001b[0m \u001b[0my_train\u001b[0m\u001b[0;34m)\u001b[0m\u001b[0;34m\u001b[0m\u001b[0;34m\u001b[0m\u001b[0m\n\u001b[0m",
            "\u001b[0;32m/usr/local/lib/python3.6/dist-packages/sklearn/model_selection/_search.py\u001b[0m in \u001b[0;36mfit\u001b[0;34m(self, X, y, groups, **fit_params)\u001b[0m\n\u001b[1;32m    708\u001b[0m                 \u001b[0;32mreturn\u001b[0m \u001b[0mresults\u001b[0m\u001b[0;34m\u001b[0m\u001b[0;34m\u001b[0m\u001b[0m\n\u001b[1;32m    709\u001b[0m \u001b[0;34m\u001b[0m\u001b[0m\n\u001b[0;32m--> 710\u001b[0;31m             \u001b[0mself\u001b[0m\u001b[0;34m.\u001b[0m\u001b[0m_run_search\u001b[0m\u001b[0;34m(\u001b[0m\u001b[0mevaluate_candidates\u001b[0m\u001b[0;34m)\u001b[0m\u001b[0;34m\u001b[0m\u001b[0;34m\u001b[0m\u001b[0m\n\u001b[0m\u001b[1;32m    711\u001b[0m \u001b[0;34m\u001b[0m\u001b[0m\n\u001b[1;32m    712\u001b[0m         \u001b[0;31m# For multi-metric evaluation, store the best_index_, best_params_ and\u001b[0m\u001b[0;34m\u001b[0m\u001b[0;34m\u001b[0m\u001b[0;34m\u001b[0m\u001b[0m\n",
            "\u001b[0;32m/usr/local/lib/python3.6/dist-packages/sklearn/model_selection/_search.py\u001b[0m in \u001b[0;36m_run_search\u001b[0;34m(self, evaluate_candidates)\u001b[0m\n\u001b[1;32m   1149\u001b[0m     \u001b[0;32mdef\u001b[0m \u001b[0m_run_search\u001b[0m\u001b[0;34m(\u001b[0m\u001b[0mself\u001b[0m\u001b[0;34m,\u001b[0m \u001b[0mevaluate_candidates\u001b[0m\u001b[0;34m)\u001b[0m\u001b[0;34m:\u001b[0m\u001b[0;34m\u001b[0m\u001b[0;34m\u001b[0m\u001b[0m\n\u001b[1;32m   1150\u001b[0m         \u001b[0;34m\"\"\"Search all candidates in param_grid\"\"\"\u001b[0m\u001b[0;34m\u001b[0m\u001b[0;34m\u001b[0m\u001b[0m\n\u001b[0;32m-> 1151\u001b[0;31m         \u001b[0mevaluate_candidates\u001b[0m\u001b[0;34m(\u001b[0m\u001b[0mParameterGrid\u001b[0m\u001b[0;34m(\u001b[0m\u001b[0mself\u001b[0m\u001b[0;34m.\u001b[0m\u001b[0mparam_grid\u001b[0m\u001b[0;34m)\u001b[0m\u001b[0;34m)\u001b[0m\u001b[0;34m\u001b[0m\u001b[0;34m\u001b[0m\u001b[0m\n\u001b[0m\u001b[1;32m   1152\u001b[0m \u001b[0;34m\u001b[0m\u001b[0m\n\u001b[1;32m   1153\u001b[0m \u001b[0;34m\u001b[0m\u001b[0m\n",
            "\u001b[0;32m/usr/local/lib/python3.6/dist-packages/sklearn/model_selection/_search.py\u001b[0m in \u001b[0;36mevaluate_candidates\u001b[0;34m(candidate_params)\u001b[0m\n\u001b[1;32m    687\u001b[0m                                \u001b[0;32mfor\u001b[0m \u001b[0mparameters\u001b[0m\u001b[0;34m,\u001b[0m \u001b[0;34m(\u001b[0m\u001b[0mtrain\u001b[0m\u001b[0;34m,\u001b[0m \u001b[0mtest\u001b[0m\u001b[0;34m)\u001b[0m\u001b[0;34m\u001b[0m\u001b[0;34m\u001b[0m\u001b[0m\n\u001b[1;32m    688\u001b[0m                                in product(candidate_params,\n\u001b[0;32m--> 689\u001b[0;31m                                           cv.split(X, y, groups)))\n\u001b[0m\u001b[1;32m    690\u001b[0m \u001b[0;34m\u001b[0m\u001b[0m\n\u001b[1;32m    691\u001b[0m                 \u001b[0;32mif\u001b[0m \u001b[0mlen\u001b[0m\u001b[0;34m(\u001b[0m\u001b[0mout\u001b[0m\u001b[0;34m)\u001b[0m \u001b[0;34m<\u001b[0m \u001b[0;36m1\u001b[0m\u001b[0;34m:\u001b[0m\u001b[0;34m\u001b[0m\u001b[0;34m\u001b[0m\u001b[0m\n",
            "\u001b[0;32m/usr/local/lib/python3.6/dist-packages/joblib/parallel.py\u001b[0m in \u001b[0;36m__call__\u001b[0;34m(self, iterable)\u001b[0m\n\u001b[1;32m   1052\u001b[0m \u001b[0;34m\u001b[0m\u001b[0m\n\u001b[1;32m   1053\u001b[0m             \u001b[0;32mwith\u001b[0m \u001b[0mself\u001b[0m\u001b[0;34m.\u001b[0m\u001b[0m_backend\u001b[0m\u001b[0;34m.\u001b[0m\u001b[0mretrieval_context\u001b[0m\u001b[0;34m(\u001b[0m\u001b[0;34m)\u001b[0m\u001b[0;34m:\u001b[0m\u001b[0;34m\u001b[0m\u001b[0;34m\u001b[0m\u001b[0m\n\u001b[0;32m-> 1054\u001b[0;31m                 \u001b[0mself\u001b[0m\u001b[0;34m.\u001b[0m\u001b[0mretrieve\u001b[0m\u001b[0;34m(\u001b[0m\u001b[0;34m)\u001b[0m\u001b[0;34m\u001b[0m\u001b[0;34m\u001b[0m\u001b[0m\n\u001b[0m\u001b[1;32m   1055\u001b[0m             \u001b[0;31m# Make sure that we get a last message telling us we are done\u001b[0m\u001b[0;34m\u001b[0m\u001b[0;34m\u001b[0m\u001b[0;34m\u001b[0m\u001b[0m\n\u001b[1;32m   1056\u001b[0m             \u001b[0melapsed_time\u001b[0m \u001b[0;34m=\u001b[0m \u001b[0mtime\u001b[0m\u001b[0;34m.\u001b[0m\u001b[0mtime\u001b[0m\u001b[0;34m(\u001b[0m\u001b[0;34m)\u001b[0m \u001b[0;34m-\u001b[0m \u001b[0mself\u001b[0m\u001b[0;34m.\u001b[0m\u001b[0m_start_time\u001b[0m\u001b[0;34m\u001b[0m\u001b[0;34m\u001b[0m\u001b[0m\n",
            "\u001b[0;32m/usr/local/lib/python3.6/dist-packages/joblib/parallel.py\u001b[0m in \u001b[0;36mretrieve\u001b[0;34m(self)\u001b[0m\n\u001b[1;32m    931\u001b[0m             \u001b[0;32mtry\u001b[0m\u001b[0;34m:\u001b[0m\u001b[0;34m\u001b[0m\u001b[0;34m\u001b[0m\u001b[0m\n\u001b[1;32m    932\u001b[0m                 \u001b[0;32mif\u001b[0m \u001b[0mgetattr\u001b[0m\u001b[0;34m(\u001b[0m\u001b[0mself\u001b[0m\u001b[0;34m.\u001b[0m\u001b[0m_backend\u001b[0m\u001b[0;34m,\u001b[0m \u001b[0;34m'supports_timeout'\u001b[0m\u001b[0;34m,\u001b[0m \u001b[0;32mFalse\u001b[0m\u001b[0;34m)\u001b[0m\u001b[0;34m:\u001b[0m\u001b[0;34m\u001b[0m\u001b[0;34m\u001b[0m\u001b[0m\n\u001b[0;32m--> 933\u001b[0;31m                     \u001b[0mself\u001b[0m\u001b[0;34m.\u001b[0m\u001b[0m_output\u001b[0m\u001b[0;34m.\u001b[0m\u001b[0mextend\u001b[0m\u001b[0;34m(\u001b[0m\u001b[0mjob\u001b[0m\u001b[0;34m.\u001b[0m\u001b[0mget\u001b[0m\u001b[0;34m(\u001b[0m\u001b[0mtimeout\u001b[0m\u001b[0;34m=\u001b[0m\u001b[0mself\u001b[0m\u001b[0;34m.\u001b[0m\u001b[0mtimeout\u001b[0m\u001b[0;34m)\u001b[0m\u001b[0;34m)\u001b[0m\u001b[0;34m\u001b[0m\u001b[0;34m\u001b[0m\u001b[0m\n\u001b[0m\u001b[1;32m    934\u001b[0m                 \u001b[0;32melse\u001b[0m\u001b[0;34m:\u001b[0m\u001b[0;34m\u001b[0m\u001b[0;34m\u001b[0m\u001b[0m\n\u001b[1;32m    935\u001b[0m                     \u001b[0mself\u001b[0m\u001b[0;34m.\u001b[0m\u001b[0m_output\u001b[0m\u001b[0;34m.\u001b[0m\u001b[0mextend\u001b[0m\u001b[0;34m(\u001b[0m\u001b[0mjob\u001b[0m\u001b[0;34m.\u001b[0m\u001b[0mget\u001b[0m\u001b[0;34m(\u001b[0m\u001b[0;34m)\u001b[0m\u001b[0;34m)\u001b[0m\u001b[0;34m\u001b[0m\u001b[0;34m\u001b[0m\u001b[0m\n",
            "\u001b[0;32m/usr/local/lib/python3.6/dist-packages/joblib/_parallel_backends.py\u001b[0m in \u001b[0;36mwrap_future_result\u001b[0;34m(future, timeout)\u001b[0m\n\u001b[1;32m    540\u001b[0m         AsyncResults.get from multiprocessing.\"\"\"\n\u001b[1;32m    541\u001b[0m         \u001b[0;32mtry\u001b[0m\u001b[0;34m:\u001b[0m\u001b[0;34m\u001b[0m\u001b[0;34m\u001b[0m\u001b[0m\n\u001b[0;32m--> 542\u001b[0;31m             \u001b[0;32mreturn\u001b[0m \u001b[0mfuture\u001b[0m\u001b[0;34m.\u001b[0m\u001b[0mresult\u001b[0m\u001b[0;34m(\u001b[0m\u001b[0mtimeout\u001b[0m\u001b[0;34m=\u001b[0m\u001b[0mtimeout\u001b[0m\u001b[0;34m)\u001b[0m\u001b[0;34m\u001b[0m\u001b[0;34m\u001b[0m\u001b[0m\n\u001b[0m\u001b[1;32m    543\u001b[0m         \u001b[0;32mexcept\u001b[0m \u001b[0mCfTimeoutError\u001b[0m \u001b[0;32mas\u001b[0m \u001b[0me\u001b[0m\u001b[0;34m:\u001b[0m\u001b[0;34m\u001b[0m\u001b[0;34m\u001b[0m\u001b[0m\n\u001b[1;32m    544\u001b[0m             \u001b[0;32mraise\u001b[0m \u001b[0mTimeoutError\u001b[0m \u001b[0;32mfrom\u001b[0m \u001b[0me\u001b[0m\u001b[0;34m\u001b[0m\u001b[0;34m\u001b[0m\u001b[0m\n",
            "\u001b[0;32m/usr/lib/python3.6/concurrent/futures/_base.py\u001b[0m in \u001b[0;36mresult\u001b[0;34m(self, timeout)\u001b[0m\n\u001b[1;32m    425\u001b[0m                 \u001b[0;32mreturn\u001b[0m \u001b[0mself\u001b[0m\u001b[0;34m.\u001b[0m\u001b[0m__get_result\u001b[0m\u001b[0;34m(\u001b[0m\u001b[0;34m)\u001b[0m\u001b[0;34m\u001b[0m\u001b[0;34m\u001b[0m\u001b[0m\n\u001b[1;32m    426\u001b[0m \u001b[0;34m\u001b[0m\u001b[0m\n\u001b[0;32m--> 427\u001b[0;31m             \u001b[0mself\u001b[0m\u001b[0;34m.\u001b[0m\u001b[0m_condition\u001b[0m\u001b[0;34m.\u001b[0m\u001b[0mwait\u001b[0m\u001b[0;34m(\u001b[0m\u001b[0mtimeout\u001b[0m\u001b[0;34m)\u001b[0m\u001b[0;34m\u001b[0m\u001b[0;34m\u001b[0m\u001b[0m\n\u001b[0m\u001b[1;32m    428\u001b[0m \u001b[0;34m\u001b[0m\u001b[0m\n\u001b[1;32m    429\u001b[0m             \u001b[0;32mif\u001b[0m \u001b[0mself\u001b[0m\u001b[0;34m.\u001b[0m\u001b[0m_state\u001b[0m \u001b[0;32min\u001b[0m \u001b[0;34m[\u001b[0m\u001b[0mCANCELLED\u001b[0m\u001b[0;34m,\u001b[0m \u001b[0mCANCELLED_AND_NOTIFIED\u001b[0m\u001b[0;34m]\u001b[0m\u001b[0;34m:\u001b[0m\u001b[0;34m\u001b[0m\u001b[0;34m\u001b[0m\u001b[0m\n",
            "\u001b[0;32m/usr/lib/python3.6/threading.py\u001b[0m in \u001b[0;36mwait\u001b[0;34m(self, timeout)\u001b[0m\n\u001b[1;32m    293\u001b[0m         \u001b[0;32mtry\u001b[0m\u001b[0;34m:\u001b[0m    \u001b[0;31m# restore state no matter what (e.g., KeyboardInterrupt)\u001b[0m\u001b[0;34m\u001b[0m\u001b[0;34m\u001b[0m\u001b[0m\n\u001b[1;32m    294\u001b[0m             \u001b[0;32mif\u001b[0m \u001b[0mtimeout\u001b[0m \u001b[0;32mis\u001b[0m \u001b[0;32mNone\u001b[0m\u001b[0;34m:\u001b[0m\u001b[0;34m\u001b[0m\u001b[0;34m\u001b[0m\u001b[0m\n\u001b[0;32m--> 295\u001b[0;31m                 \u001b[0mwaiter\u001b[0m\u001b[0;34m.\u001b[0m\u001b[0macquire\u001b[0m\u001b[0;34m(\u001b[0m\u001b[0;34m)\u001b[0m\u001b[0;34m\u001b[0m\u001b[0;34m\u001b[0m\u001b[0m\n\u001b[0m\u001b[1;32m    296\u001b[0m                 \u001b[0mgotit\u001b[0m \u001b[0;34m=\u001b[0m \u001b[0;32mTrue\u001b[0m\u001b[0;34m\u001b[0m\u001b[0;34m\u001b[0m\u001b[0m\n\u001b[1;32m    297\u001b[0m             \u001b[0;32melse\u001b[0m\u001b[0;34m:\u001b[0m\u001b[0;34m\u001b[0m\u001b[0;34m\u001b[0m\u001b[0m\n",
            "\u001b[0;31mKeyboardInterrupt\u001b[0m: "
          ]
        }
      ]
    },
    {
      "cell_type": "markdown",
      "metadata": {
        "id": "9hOiYx4qJay1"
      },
      "source": [
        "Changing the objective to \"large\" fires:"
      ]
    },
    {
      "cell_type": "code",
      "metadata": {
        "id": "BPISvKEJdszu"
      },
      "source": [
        "noaa_on_fire_btstrp['large'] = noaa_on_fire_btstrp['fire_size'].apply(lambda x: 1 if x > 100 else 0)"
      ],
      "execution_count": null,
      "outputs": []
    },
    {
      "cell_type": "code",
      "metadata": {
        "id": "e32de8g4dszu"
      },
      "source": [
        "y = noaa_on_fire_btstrp['large']\n",
        "\n",
        "X_vars = ['state_CA', 'state_CO', 'state_ID',\n",
        "       'state_MT', 'state_NM', 'state_NV', 'state_OR', 'state_UT', 'state_WA',\n",
        "       'state_WY', 'month_2', 'month_3', 'month_4', 'month_5', 'month_6',\n",
        "       'month_7', 'month_8', 'month_9', 'month_10', 'month_11', 'month_12','tavg_t12m',\n",
        "       'tavg_t9m', 'tavg_t6m', 'tavg_t3m', 'pcp_t12m', 'pcp_t9m', 'pcp_t6m',\n",
        "       'pcp_t3m', 'pmdi_t12m', 'pmdi_t9m', 'pmdi_t6m', 'pmdi_t3m', 'pdsi_t12m',\n",
        "       'pdsi_t9m', 'pdsi_t6m', 'pdsi_t3m', 'zndx', 'cdd', 'hdd']\n",
        "X = noaa_on_fire_btstrp[X_vars]"
      ],
      "execution_count": null,
      "outputs": []
    },
    {
      "cell_type": "code",
      "metadata": {
        "id": "xevwpU2ldszw",
        "outputId": "fb3e1594-8628-4894-8867-f0993ba0c051"
      },
      "source": [
        "large_gts = [5, 10, 100, 300, 1000]\n",
        "\n",
        "for l in large_gts:\n",
        "    noaa_on_fire_btstrp['large'] = noaa_on_fire_btstrp['fire_size'].apply(lambda x: 1 if x > l else 0)\n",
        "\n",
        "    y = noaa_on_fire_btstrp['large']\n",
        "\n",
        "    X_vars = ['state_CA', 'state_CO', 'state_ID',\n",
        "           'state_MT', 'state_NM', 'state_NV', 'state_OR', 'state_UT', 'state_WA',\n",
        "           'state_WY', 'month_2', 'month_3', 'month_4', 'month_5', 'month_6',\n",
        "           'month_7', 'month_8', 'month_9', 'month_10', 'month_11', 'month_12','tavg_t12m',\n",
        "           'tavg_t9m', 'tavg_t6m', 'tavg_t3m', 'pcp_t12m', 'pcp_t9m', 'pcp_t6m',\n",
        "           'pcp_t3m', 'pmdi_t12m', 'pmdi_t9m', 'pmdi_t6m', 'pmdi_t3m', 'pdsi_t12m',\n",
        "           'pdsi_t9m', 'pdsi_t6m', 'pdsi_t3m', 'zndx', 'cdd', 'hdd']\n",
        "    \n",
        "    X = noaa_on_fire_btstrp[X_vars]\n",
        "\n",
        "    X_train, X_test, y_train, y_test = train_test_split(X,y, stratify = y)\n",
        "\n",
        "    stan = StandardScaler()\n",
        "    X_train = stan.fit_transform(X_train)\n",
        "    X_test = stan.transform(X_test)\n",
        "\n",
        "    logr_b = LogisticRegression(max_iter = 10000)\n",
        "    logr_b.fit(X_train, y_train)\n",
        "    print(f\"When detecting fires > {l} acres, Logistic Regression achieves accuracy of {round(logr_b.score(X_train, y_train),4)} on train data and {round(logr_b.score(X_test, y_test),4)} on test data.\")\n",
        "    print(f\"The model's recall is {round(recall_score(y_train, logr_b.predict(X_train)),4)} on train data and {round(recall_score(y_test, logr_b.predict(X_test),4))} on test data.\\n\")"
      ],
      "execution_count": null,
      "outputs": [
        {
          "output_type": "stream",
          "text": [
            "When detecting fires > 5 acres, Logistic Regression achieves accuracy of 0.6328 on train data and 0.6327 on test data.\n"
          ],
          "name": "stdout"
        },
        {
          "output_type": "stream",
          "text": [
            "/Users/martalew/anaconda3/lib/python3.8/site-packages/sklearn/utils/validation.py:68: FutureWarning: Pass labels=4 as keyword args. From version 0.25 passing these as positional arguments will result in an error\n",
            "  warnings.warn(\"Pass {} as keyword args. From version 0.25 \"\n"
          ],
          "name": "stderr"
        },
        {
          "output_type": "stream",
          "text": [
            "The model's recall is 0.8297 on train data and 1 on test data.\n",
            "\n",
            "When detecting fires > 10 acres, Logistic Regression achieves accuracy of 0.6198 on train data and 0.6189 on test data.\n"
          ],
          "name": "stdout"
        },
        {
          "output_type": "stream",
          "text": [
            "/Users/martalew/anaconda3/lib/python3.8/site-packages/sklearn/utils/validation.py:68: FutureWarning: Pass labels=4 as keyword args. From version 0.25 passing these as positional arguments will result in an error\n",
            "  warnings.warn(\"Pass {} as keyword args. From version 0.25 \"\n"
          ],
          "name": "stderr"
        },
        {
          "output_type": "stream",
          "text": [
            "The model's recall is 0.7757 on train data and 1 on test data.\n",
            "\n",
            "When detecting fires > 100 acres, Logistic Regression achieves accuracy of 0.6155 on train data and 0.6165 on test data.\n"
          ],
          "name": "stdout"
        },
        {
          "output_type": "stream",
          "text": [
            "/Users/martalew/anaconda3/lib/python3.8/site-packages/sklearn/utils/validation.py:68: FutureWarning: Pass labels=4 as keyword args. From version 0.25 passing these as positional arguments will result in an error\n",
            "  warnings.warn(\"Pass {} as keyword args. From version 0.25 \"\n"
          ],
          "name": "stderr"
        },
        {
          "output_type": "stream",
          "text": [
            "The model's recall is 0.4205 on train data and 0 on test data.\n",
            "\n",
            "When detecting fires > 300 acres, Logistic Regression achieves accuracy of 0.677 on train data and 0.6774 on test data.\n"
          ],
          "name": "stdout"
        },
        {
          "output_type": "stream",
          "text": [
            "/Users/martalew/anaconda3/lib/python3.8/site-packages/sklearn/utils/validation.py:68: FutureWarning: Pass labels=4 as keyword args. From version 0.25 passing these as positional arguments will result in an error\n",
            "  warnings.warn(\"Pass {} as keyword args. From version 0.25 \"\n"
          ],
          "name": "stderr"
        },
        {
          "output_type": "stream",
          "text": [
            "The model's recall is 0.1986 on train data and 0 on test data.\n",
            "\n",
            "When detecting fires > 1000 acres, Logistic Regression achieves accuracy of 0.7738 on train data and 0.7737 on test data.\n",
            "The model's recall is 0.0051 on train data and 0 on test data.\n",
            "\n"
          ],
          "name": "stdout"
        },
        {
          "output_type": "stream",
          "text": [
            "/Users/martalew/anaconda3/lib/python3.8/site-packages/sklearn/utils/validation.py:68: FutureWarning: Pass labels=4 as keyword args. From version 0.25 passing these as positional arguments will result in an error\n",
            "  warnings.warn(\"Pass {} as keyword args. From version 0.25 \"\n"
          ],
          "name": "stderr"
        }
      ]
    },
    {
      "cell_type": "code",
      "metadata": {
        "id": "6XF0lNNwdszw",
        "outputId": "da383107-30a6-4be7-9033-7d0aa1208989"
      },
      "source": [
        "plot_confusion_matrix(logr_b, X_test, y_test,cmap = 'YlOrBr');"
      ],
      "execution_count": null,
      "outputs": [
        {
          "output_type": "display_data",
          "data": {
            "image/png": "[encoded data removed]",
            "text/plain": [
              "<Figure size 432x288 with 2 Axes>"
            ]
          },
          "metadata": {
            "tags": []
          }
        }
      ]
    },
    {
      "cell_type": "code",
      "metadata": {
        "id": "eBUtCxgadszw",
        "outputId": "20fe2c67-8000-41d5-9051-dc3fb1fc20b6"
      },
      "source": [
        "recall_score(y_test, logr_b.predict(X_test))"
      ],
      "execution_count": null,
      "outputs": [
        {
          "output_type": "execute_result",
          "data": {
            "text/plain": [
              "0.004683564231738035"
            ]
          },
          "metadata": {
            "tags": []
          },
          "execution_count": 101
        }
      ]
    },
    {
      "cell_type": "markdown",
      "metadata": {
        "id": "fYPrJWVLJlYR"
      },
      "source": [
        "SVM"
      ]
    },
    {
      "cell_type": "code",
      "metadata": {
        "id": "SyjWS1zkJyJj"
      },
      "source": [
        "X_vars = ['state_CA', 'state_CO', 'state_ID',\n",
        "       'state_MT', 'state_NM', 'state_NV', 'state_OR', 'state_UT', 'state_WA',\n",
        "       'state_WY', 'month_2', 'month_3', 'month_4', 'month_5', 'month_6',\n",
        "       'month_7', 'month_8', 'month_9', 'month_10', 'month_11', 'month_12','tavg_t12m',\n",
        "       'tavg_t9m', 'tavg_t6m', 'tavg_t3m', 'pcp_t12m', 'pcp_t9m', 'pcp_t6m',\n",
        "       'pcp_t3m', 'pmdi_t12m', 'pmdi_t9m', 'pmdi_t6m', 'pmdi_t3m', 'pdsi_t12m',\n",
        "       'pdsi_t9m', 'pdsi_t6m', 'pdsi_t3m', 'zndx', 'cdd', 'hdd']\n",
        "\n",
        "noaa_on_fire = noaa_on_fire.dropna(subset = X_vars)\n",
        "\n",
        "X = noaa_on_fire_btstrp[X_vars]\n",
        "y = noaa_on_fire_btstrp['fire_size_class']"
      ],
      "execution_count": 31,
      "outputs": []
    },
    {
      "cell_type": "code",
      "metadata": {
        "id": "k26k4A2SJyJ1"
      },
      "source": [
        "X_train, X_test, y_train, y_test = train_test_split(X,y, stratify = y)\n",
        "\n",
        "stan = StandardScaler()\n",
        "X_train = stan.fit_transform(X_train)\n",
        "X_test = stan.transform(X_test)"
      ],
      "execution_count": 32,
      "outputs": []
    },
    {
      "cell_type": "code",
      "metadata": {
        "id": "XqZeCBrUJpqz"
      },
      "source": [
        "svc = SVC()\n",
        "svc.fit(X_train, y_train)\n",
        "print(f\"Support Vector Classifier achieves accuracy of {round(svc.score(X_train, y_train),4)} on train data and {round(svc.score(X_test, y_test),4)} on test data.\")"
      ],
      "execution_count": null,
      "outputs": []
    },
    {
      "cell_type": "code",
      "metadata": {
        "id": "bPyBoaNIKAm5"
      },
      "source": [
        "plot_confusion_matrix(svc, X_test, y_test,cmap = 'YlOrBr', normalize = 'true');"
      ],
      "execution_count": null,
      "outputs": []
    },
    {
      "cell_type": "code",
      "metadata": {
        "id": "1OXhcvKCrqzU"
      },
      "source": [
        ""
      ],
      "execution_count": null,
      "outputs": []
    },
    {
      "cell_type": "code",
      "metadata": {
        "id": "LmgjvvVarqpf"
      },
      "source": [
        ""
      ],
      "execution_count": null,
      "outputs": []
    },
    {
      "cell_type": "code",
      "metadata": {
        "id": "WALhMyCqrqdK"
      },
      "source": [
        ""
      ],
      "execution_count": null,
      "outputs": []
    },
    {
      "cell_type": "code",
      "metadata": {
        "id": "8TQckKUZrqI2"
      },
      "source": [
        ""
      ],
      "execution_count": null,
      "outputs": []
    },
    {
      "cell_type": "markdown",
      "metadata": {
        "id": "jRUpNQ_sdszw"
      },
      "source": [
        "## Jesse ---------------------------------------------------------"
      ]
    },
    {
      "cell_type": "markdown",
      "metadata": {
        "id": "wzC2lqT8dszx"
      },
      "source": [
        "put all of your code between here and the next person's name only"
      ]
    },
    {
      "cell_type": "code",
      "metadata": {
        "id": "nTAqVZdRdszx"
      },
      "source": [
        ""
      ],
      "execution_count": null,
      "outputs": []
    },
    {
      "cell_type": "code",
      "metadata": {
        "id": "XwqblQAddszx"
      },
      "source": [
        ""
      ],
      "execution_count": null,
      "outputs": []
    },
    {
      "cell_type": "code",
      "metadata": {
        "id": "jPvFXZtkdszx"
      },
      "source": [
        ""
      ],
      "execution_count": null,
      "outputs": []
    },
    {
      "cell_type": "markdown",
      "metadata": {
        "id": "ejWbHtqSdszx"
      },
      "source": [
        "## CM ---------------------------------------------------------"
      ]
    },
    {
      "cell_type": "markdown",
      "metadata": {
        "id": "b1Eap5Xodszx"
      },
      "source": [
        "put all of your code between here and the next person's name only"
      ]
    },
    {
      "cell_type": "code",
      "metadata": {
        "id": "5Q8AgWiOdszx"
      },
      "source": [
        ""
      ],
      "execution_count": null,
      "outputs": []
    },
    {
      "cell_type": "code",
      "metadata": {
        "id": "4eo4M1Ildszy"
      },
      "source": [
        ""
      ],
      "execution_count": null,
      "outputs": []
    },
    {
      "cell_type": "code",
      "metadata": {
        "id": "owxgK9WKdszy"
      },
      "source": [
        ""
      ],
      "execution_count": null,
      "outputs": []
    },
    {
      "cell_type": "markdown",
      "metadata": {
        "id": "By0ndladdszy"
      },
      "source": [
        "## Kira ---------------------------------------------------------"
      ]
    },
    {
      "cell_type": "markdown",
      "metadata": {
        "id": "mLe2mUeKdszy"
      },
      "source": [
        "put all of your code between here and the next person's name only"
      ]
    },
    {
      "cell_type": "code",
      "metadata": {
        "id": "jMO4ZaNodszy"
      },
      "source": [
        "# Import libraries.\n",
        "import pandas as pd\n",
        "import numpy as np\n",
        "from sklearn.ensemble import RandomForestClassifier, ExtraTreesClassifier\n",
        "from sklearn.model_selection import cross_val_score, train_test_split, GridSearchCV"
      ],
      "execution_count": null,
      "outputs": []
    },
    {
      "cell_type": "code",
      "metadata": {
        "id": "Q_rngqd7dszy",
        "outputId": "b8c7332a-ca31-44c4-d01c-ee9c6bb4427b"
      },
      "source": [
        "mfi_df = pd.read_csv('data/mfi_df_yr.csv')\n",
        "mfi_df.head()"
      ],
      "execution_count": null,
      "outputs": [
        {
          "output_type": "execute_result",
          "data": {
            "text/html": [
              "<div>\n",
              "<style scoped>\n",
              "    .dataframe tbody tr th:only-of-type {\n",
              "        vertical-align: middle;\n",
              "    }\n",
              "\n",
              "    .dataframe tbody tr th {\n",
              "        vertical-align: top;\n",
              "    }\n",
              "\n",
              "    .dataframe thead th {\n",
              "        text-align: right;\n",
              "    }\n",
              "</style>\n",
              "<table border=\"1\" class=\"dataframe\">\n",
              "  <thead>\n",
              "    <tr style=\"text-align: right;\">\n",
              "      <th></th>\n",
              "      <th>Unnamed: 0</th>\n",
              "      <th>fire_year</th>\n",
              "      <th>stat_cause_descr</th>\n",
              "      <th>fire_size</th>\n",
              "      <th>fire_size_class</th>\n",
              "      <th>state</th>\n",
              "      <th>cont_date_fixed</th>\n",
              "      <th>disc_date_fixed</th>\n",
              "      <th>time_burnt_fixed</th>\n",
              "      <th>time_burnt</th>\n",
              "      <th>...</th>\n",
              "      <th>cdd</th>\n",
              "      <th>hdd</th>\n",
              "      <th>sp02</th>\n",
              "      <th>sp03</th>\n",
              "      <th>sp06</th>\n",
              "      <th>sp09</th>\n",
              "      <th>sp12</th>\n",
              "      <th>sp24</th>\n",
              "      <th>tmin</th>\n",
              "      <th>tmax</th>\n",
              "    </tr>\n",
              "  </thead>\n",
              "  <tbody>\n",
              "    <tr>\n",
              "      <th>0</th>\n",
              "      <td>0</td>\n",
              "      <td>2005</td>\n",
              "      <td>Miscellaneous</td>\n",
              "      <td>0.10</td>\n",
              "      <td>A</td>\n",
              "      <td>CA</td>\n",
              "      <td>2005-02-02</td>\n",
              "      <td>2005-02-02</td>\n",
              "      <td>0 days 00:00:00.000000000</td>\n",
              "      <td>0.0</td>\n",
              "      <td>...</td>\n",
              "      <td>0</td>\n",
              "      <td>421</td>\n",
              "      <td>0.58</td>\n",
              "      <td>0.85</td>\n",
              "      <td>1.00</td>\n",
              "      <td>0.92</td>\n",
              "      <td>0.24</td>\n",
              "      <td>0.48</td>\n",
              "      <td>38.1</td>\n",
              "      <td>56.1</td>\n",
              "    </tr>\n",
              "    <tr>\n",
              "      <th>1</th>\n",
              "      <td>1</td>\n",
              "      <td>2004</td>\n",
              "      <td>Lightning</td>\n",
              "      <td>0.25</td>\n",
              "      <td>A</td>\n",
              "      <td>CA</td>\n",
              "      <td>2004-05-12</td>\n",
              "      <td>2004-05-12</td>\n",
              "      <td>0 days 00:00:00.000000000</td>\n",
              "      <td>0.0</td>\n",
              "      <td>...</td>\n",
              "      <td>56</td>\n",
              "      <td>126</td>\n",
              "      <td>-1.19</td>\n",
              "      <td>-1.86</td>\n",
              "      <td>-0.05</td>\n",
              "      <td>-0.32</td>\n",
              "      <td>-0.31</td>\n",
              "      <td>-0.04</td>\n",
              "      <td>49.2</td>\n",
              "      <td>77.2</td>\n",
              "    </tr>\n",
              "    <tr>\n",
              "      <th>2</th>\n",
              "      <td>2</td>\n",
              "      <td>2004</td>\n",
              "      <td>Debris Burning</td>\n",
              "      <td>0.10</td>\n",
              "      <td>A</td>\n",
              "      <td>CA</td>\n",
              "      <td>2004-05-31</td>\n",
              "      <td>2004-05-31</td>\n",
              "      <td>0 days 00:00:00.000000000</td>\n",
              "      <td>0.0</td>\n",
              "      <td>...</td>\n",
              "      <td>56</td>\n",
              "      <td>126</td>\n",
              "      <td>-1.19</td>\n",
              "      <td>-1.86</td>\n",
              "      <td>-0.05</td>\n",
              "      <td>-0.32</td>\n",
              "      <td>-0.31</td>\n",
              "      <td>-0.04</td>\n",
              "      <td>49.2</td>\n",
              "      <td>77.2</td>\n",
              "    </tr>\n",
              "    <tr>\n",
              "      <th>3</th>\n",
              "      <td>3</td>\n",
              "      <td>2004</td>\n",
              "      <td>Lightning</td>\n",
              "      <td>0.10</td>\n",
              "      <td>A</td>\n",
              "      <td>CA</td>\n",
              "      <td>2004-07-03</td>\n",
              "      <td>2004-06-28</td>\n",
              "      <td>5 days 00:00:00.000000000</td>\n",
              "      <td>5.0</td>\n",
              "      <td>...</td>\n",
              "      <td>115</td>\n",
              "      <td>44</td>\n",
              "      <td>-1.10</td>\n",
              "      <td>-1.39</td>\n",
              "      <td>-0.61</td>\n",
              "      <td>-0.32</td>\n",
              "      <td>-0.29</td>\n",
              "      <td>-0.04</td>\n",
              "      <td>55.6</td>\n",
              "      <td>85.2</td>\n",
              "    </tr>\n",
              "    <tr>\n",
              "      <th>4</th>\n",
              "      <td>4</td>\n",
              "      <td>2004</td>\n",
              "      <td>Lightning</td>\n",
              "      <td>0.10</td>\n",
              "      <td>A</td>\n",
              "      <td>CA</td>\n",
              "      <td>2004-07-03</td>\n",
              "      <td>2004-06-28</td>\n",
              "      <td>5 days 00:00:00.000000000</td>\n",
              "      <td>5.0</td>\n",
              "      <td>...</td>\n",
              "      <td>115</td>\n",
              "      <td>44</td>\n",
              "      <td>-1.10</td>\n",
              "      <td>-1.39</td>\n",
              "      <td>-0.61</td>\n",
              "      <td>-0.32</td>\n",
              "      <td>-0.29</td>\n",
              "      <td>-0.04</td>\n",
              "      <td>55.6</td>\n",
              "      <td>85.2</td>\n",
              "    </tr>\n",
              "  </tbody>\n",
              "</table>\n",
              "<p>5 rows × 31 columns</p>\n",
              "</div>"
            ],
            "text/plain": [
              "   Unnamed: 0  fire_year stat_cause_descr  fire_size fire_size_class state  \\\n",
              "0           0       2005    Miscellaneous       0.10               A    CA   \n",
              "1           1       2004        Lightning       0.25               A    CA   \n",
              "2           2       2004   Debris Burning       0.10               A    CA   \n",
              "3           3       2004        Lightning       0.10               A    CA   \n",
              "4           4       2004        Lightning       0.10               A    CA   \n",
              "\n",
              "  cont_date_fixed disc_date_fixed           time_burnt_fixed  time_burnt  ...  \\\n",
              "0      2005-02-02      2005-02-02  0 days 00:00:00.000000000         0.0  ...   \n",
              "1      2004-05-12      2004-05-12  0 days 00:00:00.000000000         0.0  ...   \n",
              "2      2004-05-31      2004-05-31  0 days 00:00:00.000000000         0.0  ...   \n",
              "3      2004-07-03      2004-06-28  5 days 00:00:00.000000000         5.0  ...   \n",
              "4      2004-07-03      2004-06-28  5 days 00:00:00.000000000         5.0  ...   \n",
              "\n",
              "   cdd  hdd  sp02  sp03  sp06  sp09  sp12  sp24  tmin  tmax  \n",
              "0    0  421  0.58  0.85  1.00  0.92  0.24  0.48  38.1  56.1  \n",
              "1   56  126 -1.19 -1.86 -0.05 -0.32 -0.31 -0.04  49.2  77.2  \n",
              "2   56  126 -1.19 -1.86 -0.05 -0.32 -0.31 -0.04  49.2  77.2  \n",
              "3  115   44 -1.10 -1.39 -0.61 -0.32 -0.29 -0.04  55.6  85.2  \n",
              "4  115   44 -1.10 -1.39 -0.61 -0.32 -0.29 -0.04  55.6  85.2  \n",
              "\n",
              "[5 rows x 31 columns]"
            ]
          },
          "metadata": {
            "tags": []
          },
          "execution_count": 2
        }
      ]
    },
    {
      "cell_type": "code",
      "metadata": {
        "id": "qWYh5OFOdszy",
        "outputId": "eedf0a76-c189-4eac-ff6b-71052eaf6201"
      },
      "source": [
        "mfi_df.columns"
      ],
      "execution_count": null,
      "outputs": [
        {
          "output_type": "execute_result",
          "data": {
            "text/plain": [
              "Index(['Unnamed: 0', 'fire_year', 'stat_cause_descr', 'fire_size',\n",
              "       'fire_size_class', 'state', 'cont_date_fixed', 'disc_date_fixed',\n",
              "       'time_burnt_fixed', 'time_burnt', 'month', 'year', 'statecode',\n",
              "       'division', 'yearmonth', 'pcp', 'tavg', 'pdsi', 'phdi', 'zndx', 'pmdi',\n",
              "       'cdd', 'hdd', 'sp02', 'sp03', 'sp06', 'sp09', 'sp12', 'sp24', 'tmin',\n",
              "       'tmax'],\n",
              "      dtype='object')"
            ]
          },
          "metadata": {
            "tags": []
          },
          "execution_count": 3
        }
      ]
    },
    {
      "cell_type": "code",
      "metadata": {
        "id": "XaeRzMIFdszz",
        "outputId": "342f3e6d-5cca-44e1-e310-8d1808dfa423"
      },
      "source": [
        "list(mfi_df.columns.values)"
      ],
      "execution_count": null,
      "outputs": [
        {
          "output_type": "execute_result",
          "data": {
            "text/plain": [
              "['Unnamed: 0',\n",
              " 'fire_year',\n",
              " 'stat_cause_descr',\n",
              " 'fire_size',\n",
              " 'fire_size_class',\n",
              " 'state',\n",
              " 'cont_date_fixed',\n",
              " 'disc_date_fixed',\n",
              " 'time_burnt_fixed',\n",
              " 'time_burnt',\n",
              " 'month',\n",
              " 'year',\n",
              " 'statecode',\n",
              " 'division',\n",
              " 'yearmonth',\n",
              " 'pcp',\n",
              " 'tavg',\n",
              " 'pdsi',\n",
              " 'phdi',\n",
              " 'zndx',\n",
              " 'pmdi',\n",
              " 'cdd',\n",
              " 'hdd',\n",
              " 'sp02',\n",
              " 'sp03',\n",
              " 'sp06',\n",
              " 'sp09',\n",
              " 'sp12',\n",
              " 'sp24',\n",
              " 'tmin',\n",
              " 'tmax']"
            ]
          },
          "metadata": {
            "tags": []
          },
          "execution_count": 4
        }
      ]
    },
    {
      "cell_type": "code",
      "metadata": {
        "id": "kWeXEVWldszz"
      },
      "source": [
        "# Drop the `Unnamed: 0` column.\n",
        "mfi_df.drop('Unnamed: 0', axis=1, inplace=True)\n",
        "\n",
        "# Drop NAs.\n",
        "# df.dropna(inplace=True)"
      ],
      "execution_count": null,
      "outputs": []
    },
    {
      "cell_type": "code",
      "metadata": {
        "id": "It4LanDEdszz"
      },
      "source": [
        "# Create dummies for the `ChestPain`, `Thal`, and `AHD` columns.\n",
        "# Be sure to set `drop_first=True`.\n",
        "mfi_df = pd.get_dummies(mfi_df,\n",
        "                    columns=['stat_cause_descr', 'state'],\n",
        "                    drop_first=True)"
      ],
      "execution_count": null,
      "outputs": []
    },
    {
      "cell_type": "code",
      "metadata": {
        "id": "uMYW6DVAdszz"
      },
      "source": [
        "mfi_df.drop(columns=['fire_year', 'cont_date_fixed', \n",
        "                        'disc_date_fixed', 'time_burnt', \n",
        "                        'statecode',\n",
        "                        'division', 'yearmonth'],\n",
        "                        axis = 1,\n",
        "                        inplace = True)"
      ],
      "execution_count": null,
      "outputs": []
    },
    {
      "cell_type": "code",
      "metadata": {
        "id": "zW3R20PJdszz",
        "outputId": "0b5a0da0-66bf-4f93-affc-af509eb4db12"
      },
      "source": [
        "mfi_df.head()"
      ],
      "execution_count": null,
      "outputs": [
        {
          "output_type": "execute_result",
          "data": {
            "text/html": [
              "<div>\n",
              "<style scoped>\n",
              "    .dataframe tbody tr th:only-of-type {\n",
              "        vertical-align: middle;\n",
              "    }\n",
              "\n",
              "    .dataframe tbody tr th {\n",
              "        vertical-align: top;\n",
              "    }\n",
              "\n",
              "    .dataframe thead th {\n",
              "        text-align: right;\n",
              "    }\n",
              "</style>\n",
              "<table border=\"1\" class=\"dataframe\">\n",
              "  <thead>\n",
              "    <tr style=\"text-align: right;\">\n",
              "      <th></th>\n",
              "      <th>fire_size</th>\n",
              "      <th>fire_size_class</th>\n",
              "      <th>time_burnt_fixed</th>\n",
              "      <th>month</th>\n",
              "      <th>year</th>\n",
              "      <th>pcp</th>\n",
              "      <th>tavg</th>\n",
              "      <th>pdsi</th>\n",
              "      <th>phdi</th>\n",
              "      <th>zndx</th>\n",
              "      <th>...</th>\n",
              "      <th>state_CA</th>\n",
              "      <th>state_CO</th>\n",
              "      <th>state_ID</th>\n",
              "      <th>state_MT</th>\n",
              "      <th>state_NM</th>\n",
              "      <th>state_NV</th>\n",
              "      <th>state_OR</th>\n",
              "      <th>state_UT</th>\n",
              "      <th>state_WA</th>\n",
              "      <th>state_WY</th>\n",
              "    </tr>\n",
              "  </thead>\n",
              "  <tbody>\n",
              "    <tr>\n",
              "      <th>0</th>\n",
              "      <td>0.10</td>\n",
              "      <td>A</td>\n",
              "      <td>0 days 00:00:00.000000000</td>\n",
              "      <td>2</td>\n",
              "      <td>2005</td>\n",
              "      <td>4.03</td>\n",
              "      <td>47.1</td>\n",
              "      <td>2.28</td>\n",
              "      <td>2.28</td>\n",
              "      <td>0.56</td>\n",
              "      <td>...</td>\n",
              "      <td>1</td>\n",
              "      <td>0</td>\n",
              "      <td>0</td>\n",
              "      <td>0</td>\n",
              "      <td>0</td>\n",
              "      <td>0</td>\n",
              "      <td>0</td>\n",
              "      <td>0</td>\n",
              "      <td>0</td>\n",
              "      <td>0</td>\n",
              "    </tr>\n",
              "    <tr>\n",
              "      <th>1</th>\n",
              "      <td>0.25</td>\n",
              "      <td>A</td>\n",
              "      <td>0 days 00:00:00.000000000</td>\n",
              "      <td>5</td>\n",
              "      <td>2004</td>\n",
              "      <td>0.45</td>\n",
              "      <td>63.2</td>\n",
              "      <td>-2.15</td>\n",
              "      <td>-2.15</td>\n",
              "      <td>-1.89</td>\n",
              "      <td>...</td>\n",
              "      <td>1</td>\n",
              "      <td>0</td>\n",
              "      <td>0</td>\n",
              "      <td>0</td>\n",
              "      <td>0</td>\n",
              "      <td>0</td>\n",
              "      <td>0</td>\n",
              "      <td>0</td>\n",
              "      <td>0</td>\n",
              "      <td>0</td>\n",
              "    </tr>\n",
              "    <tr>\n",
              "      <th>2</th>\n",
              "      <td>0.10</td>\n",
              "      <td>A</td>\n",
              "      <td>0 days 00:00:00.000000000</td>\n",
              "      <td>5</td>\n",
              "      <td>2004</td>\n",
              "      <td>0.45</td>\n",
              "      <td>63.2</td>\n",
              "      <td>-2.15</td>\n",
              "      <td>-2.15</td>\n",
              "      <td>-1.89</td>\n",
              "      <td>...</td>\n",
              "      <td>1</td>\n",
              "      <td>0</td>\n",
              "      <td>0</td>\n",
              "      <td>0</td>\n",
              "      <td>0</td>\n",
              "      <td>0</td>\n",
              "      <td>0</td>\n",
              "      <td>0</td>\n",
              "      <td>0</td>\n",
              "      <td>0</td>\n",
              "    </tr>\n",
              "    <tr>\n",
              "      <th>3</th>\n",
              "      <td>0.10</td>\n",
              "      <td>A</td>\n",
              "      <td>5 days 00:00:00.000000000</td>\n",
              "      <td>6</td>\n",
              "      <td>2004</td>\n",
              "      <td>0.08</td>\n",
              "      <td>70.4</td>\n",
              "      <td>-2.80</td>\n",
              "      <td>-2.80</td>\n",
              "      <td>-2.62</td>\n",
              "      <td>...</td>\n",
              "      <td>1</td>\n",
              "      <td>0</td>\n",
              "      <td>0</td>\n",
              "      <td>0</td>\n",
              "      <td>0</td>\n",
              "      <td>0</td>\n",
              "      <td>0</td>\n",
              "      <td>0</td>\n",
              "      <td>0</td>\n",
              "      <td>0</td>\n",
              "    </tr>\n",
              "    <tr>\n",
              "      <th>4</th>\n",
              "      <td>0.10</td>\n",
              "      <td>A</td>\n",
              "      <td>5 days 00:00:00.000000000</td>\n",
              "      <td>6</td>\n",
              "      <td>2004</td>\n",
              "      <td>0.08</td>\n",
              "      <td>70.4</td>\n",
              "      <td>-2.80</td>\n",
              "      <td>-2.80</td>\n",
              "      <td>-2.62</td>\n",
              "      <td>...</td>\n",
              "      <td>1</td>\n",
              "      <td>0</td>\n",
              "      <td>0</td>\n",
              "      <td>0</td>\n",
              "      <td>0</td>\n",
              "      <td>0</td>\n",
              "      <td>0</td>\n",
              "      <td>0</td>\n",
              "      <td>0</td>\n",
              "      <td>0</td>\n",
              "    </tr>\n",
              "  </tbody>\n",
              "</table>\n",
              "<p>5 rows × 43 columns</p>\n",
              "</div>"
            ],
            "text/plain": [
              "   fire_size fire_size_class           time_burnt_fixed  month  year   pcp  \\\n",
              "0       0.10               A  0 days 00:00:00.000000000      2  2005  4.03   \n",
              "1       0.25               A  0 days 00:00:00.000000000      5  2004  0.45   \n",
              "2       0.10               A  0 days 00:00:00.000000000      5  2004  0.45   \n",
              "3       0.10               A  5 days 00:00:00.000000000      6  2004  0.08   \n",
              "4       0.10               A  5 days 00:00:00.000000000      6  2004  0.08   \n",
              "\n",
              "   tavg  pdsi  phdi  zndx  ...  state_CA  state_CO  state_ID  state_MT  \\\n",
              "0  47.1  2.28  2.28  0.56  ...         1         0         0         0   \n",
              "1  63.2 -2.15 -2.15 -1.89  ...         1         0         0         0   \n",
              "2  63.2 -2.15 -2.15 -1.89  ...         1         0         0         0   \n",
              "3  70.4 -2.80 -2.80 -2.62  ...         1         0         0         0   \n",
              "4  70.4 -2.80 -2.80 -2.62  ...         1         0         0         0   \n",
              "\n",
              "   state_NM  state_NV  state_OR  state_UT  state_WA  state_WY  \n",
              "0         0         0         0         0         0         0  \n",
              "1         0         0         0         0         0         0  \n",
              "2         0         0         0         0         0         0  \n",
              "3         0         0         0         0         0         0  \n",
              "4         0         0         0         0         0         0  \n",
              "\n",
              "[5 rows x 43 columns]"
            ]
          },
          "metadata": {
            "tags": []
          },
          "execution_count": 8
        }
      ]
    },
    {
      "cell_type": "code",
      "metadata": {
        "id": "rAPVuiwqdszz",
        "scrolled": true,
        "outputId": "e075001e-603e-41ce-89fa-4eb5f42f5b98"
      },
      "source": [
        "# Define X and y.\n",
        "X = mfi_df.drop(columns=['fire_size']).select_dtypes(include=['float64'])\n",
        "y = mfi_df['fire_size'].to_numeric()"
      ],
      "execution_count": null,
      "outputs": [
        {
          "output_type": "error",
          "ename": "AttributeError",
          "evalue": "'Series' object has no attribute 'to_numeric'",
          "traceback": [
            "\u001b[0;31m---------------------------------------------------------------------------\u001b[0m",
            "\u001b[0;31mAttributeError\u001b[0m                            Traceback (most recent call last)",
            "\u001b[0;32m<ipython-input-14-5eb9912ee14e>\u001b[0m in \u001b[0;36m<module>\u001b[0;34m\u001b[0m\n\u001b[1;32m      1\u001b[0m \u001b[0;31m# Define X and y.\u001b[0m\u001b[0;34m\u001b[0m\u001b[0;34m\u001b[0m\u001b[0;34m\u001b[0m\u001b[0m\n\u001b[1;32m      2\u001b[0m \u001b[0mX\u001b[0m \u001b[0;34m=\u001b[0m \u001b[0mmfi_df\u001b[0m\u001b[0;34m.\u001b[0m\u001b[0mdrop\u001b[0m\u001b[0;34m(\u001b[0m\u001b[0mcolumns\u001b[0m\u001b[0;34m=\u001b[0m\u001b[0;34m[\u001b[0m\u001b[0;34m'fire_size'\u001b[0m\u001b[0;34m]\u001b[0m\u001b[0;34m)\u001b[0m\u001b[0;34m.\u001b[0m\u001b[0mselect_dtypes\u001b[0m\u001b[0;34m(\u001b[0m\u001b[0minclude\u001b[0m\u001b[0;34m=\u001b[0m\u001b[0;34m[\u001b[0m\u001b[0;34m'float64'\u001b[0m\u001b[0;34m]\u001b[0m\u001b[0;34m)\u001b[0m\u001b[0;34m\u001b[0m\u001b[0;34m\u001b[0m\u001b[0m\n\u001b[0;32m----> 3\u001b[0;31m \u001b[0my\u001b[0m \u001b[0;34m=\u001b[0m \u001b[0mmfi_df\u001b[0m\u001b[0;34m[\u001b[0m\u001b[0;34m'fire_size'\u001b[0m\u001b[0;34m]\u001b[0m\u001b[0;34m.\u001b[0m\u001b[0mto_numeric\u001b[0m\u001b[0;34m(\u001b[0m\u001b[0merrors\u001b[0m\u001b[0;34m=\u001b[0m\u001b[0;34m'coerce'\u001b[0m\u001b[0;34m)\u001b[0m\u001b[0;34m\u001b[0m\u001b[0;34m\u001b[0m\u001b[0m\n\u001b[0m",
            "\u001b[0;32m~/workspace/.venv/lib/python3.8/site-packages/pandas/core/generic.py\u001b[0m in \u001b[0;36m__getattr__\u001b[0;34m(self, name)\u001b[0m\n\u001b[1;32m   5458\u001b[0m             \u001b[0;32mif\u001b[0m \u001b[0mself\u001b[0m\u001b[0;34m.\u001b[0m\u001b[0m_info_axis\u001b[0m\u001b[0;34m.\u001b[0m\u001b[0m_can_hold_identifiers_and_holds_name\u001b[0m\u001b[0;34m(\u001b[0m\u001b[0mname\u001b[0m\u001b[0;34m)\u001b[0m\u001b[0;34m:\u001b[0m\u001b[0;34m\u001b[0m\u001b[0;34m\u001b[0m\u001b[0m\n\u001b[1;32m   5459\u001b[0m                 \u001b[0;32mreturn\u001b[0m \u001b[0mself\u001b[0m\u001b[0;34m[\u001b[0m\u001b[0mname\u001b[0m\u001b[0;34m]\u001b[0m\u001b[0;34m\u001b[0m\u001b[0;34m\u001b[0m\u001b[0m\n\u001b[0;32m-> 5460\u001b[0;31m             \u001b[0;32mreturn\u001b[0m \u001b[0mobject\u001b[0m\u001b[0;34m.\u001b[0m\u001b[0m__getattribute__\u001b[0m\u001b[0;34m(\u001b[0m\u001b[0mself\u001b[0m\u001b[0;34m,\u001b[0m \u001b[0mname\u001b[0m\u001b[0;34m)\u001b[0m\u001b[0;34m\u001b[0m\u001b[0;34m\u001b[0m\u001b[0m\n\u001b[0m\u001b[1;32m   5461\u001b[0m \u001b[0;34m\u001b[0m\u001b[0m\n\u001b[1;32m   5462\u001b[0m     \u001b[0;32mdef\u001b[0m \u001b[0m__setattr__\u001b[0m\u001b[0;34m(\u001b[0m\u001b[0mself\u001b[0m\u001b[0;34m,\u001b[0m \u001b[0mname\u001b[0m\u001b[0;34m:\u001b[0m \u001b[0mstr\u001b[0m\u001b[0;34m,\u001b[0m \u001b[0mvalue\u001b[0m\u001b[0;34m)\u001b[0m \u001b[0;34m->\u001b[0m \u001b[0;32mNone\u001b[0m\u001b[0;34m:\u001b[0m\u001b[0;34m\u001b[0m\u001b[0;34m\u001b[0m\u001b[0m\n",
            "\u001b[0;31mAttributeError\u001b[0m: 'Series' object has no attribute 'to_numeric'"
          ]
        }
      ]
    },
    {
      "cell_type": "code",
      "metadata": {
        "id": "Mso0vS_qdszz"
      },
      "source": [
        "X.shape"
      ],
      "execution_count": null,
      "outputs": []
    },
    {
      "cell_type": "code",
      "metadata": {
        "id": "b1k11NCVdsz0"
      },
      "source": [
        "y.shape"
      ],
      "execution_count": null,
      "outputs": []
    },
    {
      "cell_type": "code",
      "metadata": {
        "id": "RtrkvGngdsz0"
      },
      "source": [
        "# Split data into training and testing sets.\n",
        "X_train, X_test, y_train, y_test = train_test_split(X,\n",
        "                                                    y,\n",
        "                                                    random_state=42,\n",
        "                                                   )"
      ],
      "execution_count": null,
      "outputs": []
    },
    {
      "cell_type": "code",
      "metadata": {
        "id": "CpFxUkwwdsz0"
      },
      "source": [
        "# What is the accuracy of our baseline model?\n",
        "y.value_counts(normalize=True)"
      ],
      "execution_count": null,
      "outputs": []
    },
    {
      "cell_type": "code",
      "metadata": {
        "id": "2gtP6OStdsz0"
      },
      "source": [
        "# Instantiate `RandomForestClassifier` object.\n",
        "rf = RandomForestClassifier(n_estimators=100)\n",
        "et = ExtraTreesClassifier(n_estimators=100)\n",
        "\n",
        "rf.fit(X_train, y_train)"
      ],
      "execution_count": null,
      "outputs": []
    },
    {
      "cell_type": "code",
      "metadata": {
        "id": "L1CEqUVWdsz0"
      },
      "source": [
        "# Fit and score on the training data.\n",
        "cross_val_score(rf, X_train, y_train, cv=5).mean()"
      ],
      "execution_count": null,
      "outputs": []
    },
    {
      "cell_type": "code",
      "metadata": {
        "id": "f-pauVW0dsz0"
      },
      "source": [
        "# Fit and score on the training data.\n",
        "cross_val_score(et, X_train, y_train, cv=5).mean()"
      ],
      "execution_count": null,
      "outputs": []
    },
    {
      "cell_type": "code",
      "metadata": {
        "id": "kC39smR2dsz1"
      },
      "source": [
        "# Score on the testing data.\n",
        "tree.score(X_test, y_test)"
      ],
      "execution_count": null,
      "outputs": []
    },
    {
      "cell_type": "code",
      "metadata": {
        "id": "0utyGPuzdsz1"
      },
      "source": [
        "# Generate one bootstrapped sample\n",
        "# of size n from X_train.\n",
        "\n",
        "X_train.sample(n = X_train.shape[0],\n",
        "               replace = True,\n",
        "               random_state = 42)\n",
        "\n",
        "def bootstrap(data, num_B):\n",
        "    # Create empty list for output.\n",
        "    output = []\n",
        "    \n",
        "    # Generate num_B bootstrapped samples.\n",
        "    for B in range(num_B):\n",
        "        \n",
        "        # Each sample is sampled from data with\n",
        "        # the same sample size as the original\n",
        "        # data, and samples with replacement.\n",
        "        bootstrapped_sample = data.sample(n = data.shape[0],\n",
        "                                        replace = True)\n",
        "        \n",
        "        # Append sample to list.\n",
        "        output.append(bootstrapped_sample)\n",
        "        \n",
        "    # Returns num_B bootstrapped samples in list.\n",
        "    return output\n",
        "\n",
        "# Adapted from Boom D. - NYC\n"
      ],
      "execution_count": null,
      "outputs": []
    },
    {
      "cell_type": "code",
      "metadata": {
        "id": "93rYyy1Kdsz1"
      },
      "source": [
        "# Set seed for reproducibility.\n",
        "np.random.seed(42)\n",
        "\n",
        "# Generate five bootstrapped samples from X_train.\n",
        "boot_samp = bootstrap(X_train, 5)\n",
        "\n",
        "# Plot cholesterol level for each bootstrapped sample.\n",
        "for B in range(5):\n",
        "    plt.figure(figsize = (9,6))\n",
        "    plt.hist(boot_samp[B]['Chol'])\n",
        "    plt.title(f'Bootstrapped Sample {B + 1} of Cholesterol Level');"
      ],
      "execution_count": null,
      "outputs": []
    }
  ]
}